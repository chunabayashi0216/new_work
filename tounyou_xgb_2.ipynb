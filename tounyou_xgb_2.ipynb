{
  "nbformat": 4,
  "nbformat_minor": 0,
  "metadata": {
    "colab": {
      "name": "tounyou.ipynb",
      "provenance": [],
      "authorship_tag": "ABX9TyMIJNV/CaXJwu5B2EZu6H2L",
      "include_colab_link": true
    },
    "kernelspec": {
      "name": "python3",
      "display_name": "Python 3"
    }
  },
  "cells": [
    {
      "cell_type": "markdown",
      "metadata": {
        "id": "view-in-github",
        "colab_type": "text"
      },
      "source": [
        "<a href=\"https://colab.research.google.com/github/chunabayashi0216/new_work/blob/main/tounyou_xgb_2.ipynb\" target=\"_parent\"><img src=\"https://colab.research.google.com/assets/colab-badge.svg\" alt=\"Open In Colab\"/></a>"
      ]
    },
    {
      "cell_type": "code",
      "metadata": {
        "colab": {
          "base_uri": "https://localhost:8080/"
        },
        "id": "o1wLBzvSa1aT",
        "outputId": "789e6ace-6c71-4be9-b959-06a8d2d7c8e0"
      },
      "source": [
        "pip install japanize-matplotlib"
      ],
      "execution_count": 246,
      "outputs": [
        {
          "output_type": "stream",
          "text": [
            "Requirement already satisfied: japanize-matplotlib in /usr/local/lib/python3.7/dist-packages (1.1.3)\n",
            "Requirement already satisfied: matplotlib in /usr/local/lib/python3.7/dist-packages (from japanize-matplotlib) (3.2.2)\n",
            "Requirement already satisfied: numpy>=1.11 in /usr/local/lib/python3.7/dist-packages (from matplotlib->japanize-matplotlib) (1.19.5)\n",
            "Requirement already satisfied: cycler>=0.10 in /usr/local/lib/python3.7/dist-packages (from matplotlib->japanize-matplotlib) (0.10.0)\n",
            "Requirement already satisfied: python-dateutil>=2.1 in /usr/local/lib/python3.7/dist-packages (from matplotlib->japanize-matplotlib) (2.8.1)\n",
            "Requirement already satisfied: kiwisolver>=1.0.1 in /usr/local/lib/python3.7/dist-packages (from matplotlib->japanize-matplotlib) (1.3.1)\n",
            "Requirement already satisfied: pyparsing!=2.0.4,!=2.1.2,!=2.1.6,>=2.0.1 in /usr/local/lib/python3.7/dist-packages (from matplotlib->japanize-matplotlib) (2.4.7)\n",
            "Requirement already satisfied: six in /usr/local/lib/python3.7/dist-packages (from cycler>=0.10->matplotlib->japanize-matplotlib) (1.15.0)\n"
          ],
          "name": "stdout"
        }
      ]
    },
    {
      "cell_type": "markdown",
      "metadata": {
        "id": "NUow-Ppq-h8B"
      },
      "source": [
        "# xgboost\r\n",
        "特徴量は層別し　実施\r\n",
        "accuracy_ave:  0.7616666666666667"
      ]
    },
    {
      "cell_type": "code",
      "metadata": {
        "colab": {
          "base_uri": "https://localhost:8080/",
          "height": 17
        },
        "id": "NGr7Ho6Ca32_",
        "outputId": "b63da0c6-22c7-4297-e920-7495a0c32594"
      },
      "source": [
        "# Load in our libraries\r\n",
        "import pandas as pd\r\n",
        "import numpy as np\r\n",
        "import re\r\n",
        "import sklearn\r\n",
        "import xgboost as xgb\r\n",
        "import seaborn as sns\r\n",
        "import matplotlib.pyplot as plt\r\n",
        "import japanize_matplotlib\r\n",
        "%matplotlib inline\r\n",
        "\r\n",
        "import plotly.offline as py\r\n",
        "py.init_notebook_mode(connected=True)\r\n",
        "import plotly.graph_objs as go\r\n",
        "import plotly.tools as tls\r\n",
        "\r\n",
        "import warnings\r\n",
        "warnings.filterwarnings('ignore')"
      ],
      "execution_count": 247,
      "outputs": [
        {
          "output_type": "display_data",
          "data": {
            "text/html": [
              "        <script type=\"text/javascript\">\n",
              "        window.PlotlyConfig = {MathJaxConfig: 'local'};\n",
              "        if (window.MathJax) {MathJax.Hub.Config({SVG: {font: \"STIX-Web\"}});}\n",
              "        if (typeof require !== 'undefined') {\n",
              "        require.undef(\"plotly\");\n",
              "        requirejs.config({\n",
              "            paths: {\n",
              "                'plotly': ['https://cdn.plot.ly/plotly-latest.min']\n",
              "            }\n",
              "        });\n",
              "        require(['plotly'], function(Plotly) {\n",
              "            window._Plotly = Plotly;\n",
              "        });\n",
              "        }\n",
              "        </script>\n",
              "        "
            ]
          },
          "metadata": {
            "tags": []
          }
        }
      ]
    },
    {
      "cell_type": "code",
      "metadata": {
        "id": "lUFWQXEBbGJN"
      },
      "source": [
        "# Load in the train and test datasets\r\n",
        "df_train = pd.read_csv('/content/train.csv') #学習データ\r\n",
        "df_test = pd.read_csv('/content/test.csv')   #テストデータ"
      ],
      "execution_count": 248,
      "outputs": []
    },
    {
      "cell_type": "code",
      "metadata": {
        "colab": {
          "base_uri": "https://localhost:8080/"
        },
        "id": "gNOeOA5UbpwT",
        "outputId": "d70dfb64-bed6-4ce9-d83b-6e5bf4bb01c9"
      },
      "source": [
        "print('The size of the df_train data:' + str(train_raw.shape))\r\n",
        "print('The size of the df_test data:' + str(test_raw.shape))\r\n"
      ],
      "execution_count": 249,
      "outputs": [
        {
          "output_type": "stream",
          "text": [
            "The size of the df_train data:(3000, 10)\n",
            "The size of the df_test data:(2000, 9)\n"
          ],
          "name": "stdout"
        }
      ]
    },
    {
      "cell_type": "code",
      "metadata": {
        "colab": {
          "base_uri": "https://localhost:8080/",
          "height": 195
        },
        "id": "Me45wXvtciFe",
        "outputId": "c46dc960-22c5-4239-a650-3a7fd2686871"
      },
      "source": [
        "df_train.head()"
      ],
      "execution_count": 250,
      "outputs": [
        {
          "output_type": "execute_result",
          "data": {
            "text/html": [
              "<div>\n",
              "<style scoped>\n",
              "    .dataframe tbody tr th:only-of-type {\n",
              "        vertical-align: middle;\n",
              "    }\n",
              "\n",
              "    .dataframe tbody tr th {\n",
              "        vertical-align: top;\n",
              "    }\n",
              "\n",
              "    .dataframe thead th {\n",
              "        text-align: right;\n",
              "    }\n",
              "</style>\n",
              "<table border=\"1\" class=\"dataframe\">\n",
              "  <thead>\n",
              "    <tr style=\"text-align: right;\">\n",
              "      <th></th>\n",
              "      <th>index</th>\n",
              "      <th>Pregnancies</th>\n",
              "      <th>Glucose</th>\n",
              "      <th>BloodPressure</th>\n",
              "      <th>SkinThickness</th>\n",
              "      <th>Insulin</th>\n",
              "      <th>BMI</th>\n",
              "      <th>DiabetesPedigreeFunction</th>\n",
              "      <th>Age</th>\n",
              "      <th>Outcome</th>\n",
              "    </tr>\n",
              "  </thead>\n",
              "  <tbody>\n",
              "    <tr>\n",
              "      <th>0</th>\n",
              "      <td>200</td>\n",
              "      <td>9</td>\n",
              "      <td>125</td>\n",
              "      <td>74</td>\n",
              "      <td>0</td>\n",
              "      <td>0</td>\n",
              "      <td>28.536910</td>\n",
              "      <td>0.444902</td>\n",
              "      <td>45</td>\n",
              "      <td>1</td>\n",
              "    </tr>\n",
              "    <tr>\n",
              "      <th>1</th>\n",
              "      <td>3832</td>\n",
              "      <td>4</td>\n",
              "      <td>109</td>\n",
              "      <td>80</td>\n",
              "      <td>0</td>\n",
              "      <td>0</td>\n",
              "      <td>28.047673</td>\n",
              "      <td>0.238243</td>\n",
              "      <td>22</td>\n",
              "      <td>0</td>\n",
              "    </tr>\n",
              "    <tr>\n",
              "      <th>2</th>\n",
              "      <td>4927</td>\n",
              "      <td>4</td>\n",
              "      <td>88</td>\n",
              "      <td>78</td>\n",
              "      <td>39</td>\n",
              "      <td>0</td>\n",
              "      <td>52.371341</td>\n",
              "      <td>0.279471</td>\n",
              "      <td>26</td>\n",
              "      <td>0</td>\n",
              "    </tr>\n",
              "    <tr>\n",
              "      <th>3</th>\n",
              "      <td>4088</td>\n",
              "      <td>9</td>\n",
              "      <td>125</td>\n",
              "      <td>74</td>\n",
              "      <td>0</td>\n",
              "      <td>0</td>\n",
              "      <td>40.062688</td>\n",
              "      <td>0.203922</td>\n",
              "      <td>45</td>\n",
              "      <td>0</td>\n",
              "    </tr>\n",
              "    <tr>\n",
              "      <th>4</th>\n",
              "      <td>3644</td>\n",
              "      <td>5</td>\n",
              "      <td>107</td>\n",
              "      <td>78</td>\n",
              "      <td>44</td>\n",
              "      <td>284</td>\n",
              "      <td>52.935068</td>\n",
              "      <td>0.284959</td>\n",
              "      <td>45</td>\n",
              "      <td>1</td>\n",
              "    </tr>\n",
              "  </tbody>\n",
              "</table>\n",
              "</div>"
            ],
            "text/plain": [
              "   index  Pregnancies  Glucose  ...  DiabetesPedigreeFunction  Age  Outcome\n",
              "0    200            9      125  ...                  0.444902   45        1\n",
              "1   3832            4      109  ...                  0.238243   22        0\n",
              "2   4927            4       88  ...                  0.279471   26        0\n",
              "3   4088            9      125  ...                  0.203922   45        0\n",
              "4   3644            5      107  ...                  0.284959   45        1\n",
              "\n",
              "[5 rows x 10 columns]"
            ]
          },
          "metadata": {
            "tags": []
          },
          "execution_count": 250
        }
      ]
    },
    {
      "cell_type": "markdown",
      "metadata": {
        "id": "9uQKZ8Brc0W1"
      },
      "source": [
        "\r\n",
        "*   0\tindex\t\t\t\tBMIint\tインデックスとして使用\r\n",
        "*   1\tPregnancies\t\t\tint\t妊娠した回数\r\n",
        "*   2\tGlucose\t\t\t\tint\t経口ブドウ糖負荷試験における2時間の血漿ブドウ糖濃度\r\n",
        "*   3\tBloodPressure\t\t\tint\t拡張期血圧\r\n",
        "*   4\tSkinThickness\t\t\tint\t皮膚のひだの厚さ\r\n",
        "*   5\tInsulin\t\t\t\tint\t血清インスリン\r\n",
        "*   6\tBMI\t\t\t\tfloat\tBMI\r\n",
        "*   7\tAge\t\t\t\tint\t年齢\r\n",
        "*   8\tDiabetesPedigreeFunction\tfloat\t糖尿病血統\r\n",
        "*   9\tOutcome\t\t\t\tint\t糖尿病であるか（糖尿病の場合1、でない場合0）"
      ]
    },
    {
      "cell_type": "code",
      "metadata": {
        "colab": {
          "base_uri": "https://localhost:8080/",
          "height": 284
        },
        "id": "XUzwIuTBck4N",
        "outputId": "90c07f97-f8e5-45e5-e1f8-0000277d1fbb"
      },
      "source": [
        "df_train.describe() # df_fullの要約統計量"
      ],
      "execution_count": 251,
      "outputs": [
        {
          "output_type": "execute_result",
          "data": {
            "text/html": [
              "<div>\n",
              "<style scoped>\n",
              "    .dataframe tbody tr th:only-of-type {\n",
              "        vertical-align: middle;\n",
              "    }\n",
              "\n",
              "    .dataframe tbody tr th {\n",
              "        vertical-align: top;\n",
              "    }\n",
              "\n",
              "    .dataframe thead th {\n",
              "        text-align: right;\n",
              "    }\n",
              "</style>\n",
              "<table border=\"1\" class=\"dataframe\">\n",
              "  <thead>\n",
              "    <tr style=\"text-align: right;\">\n",
              "      <th></th>\n",
              "      <th>index</th>\n",
              "      <th>Pregnancies</th>\n",
              "      <th>Glucose</th>\n",
              "      <th>BloodPressure</th>\n",
              "      <th>SkinThickness</th>\n",
              "      <th>Insulin</th>\n",
              "      <th>BMI</th>\n",
              "      <th>DiabetesPedigreeFunction</th>\n",
              "      <th>Age</th>\n",
              "      <th>Outcome</th>\n",
              "    </tr>\n",
              "  </thead>\n",
              "  <tbody>\n",
              "    <tr>\n",
              "      <th>count</th>\n",
              "      <td>3000.000000</td>\n",
              "      <td>3000.000000</td>\n",
              "      <td>3000.000000</td>\n",
              "      <td>3000.000000</td>\n",
              "      <td>3000.000000</td>\n",
              "      <td>3000.000000</td>\n",
              "      <td>3000.000000</td>\n",
              "      <td>3000.000000</td>\n",
              "      <td>3000.000000</td>\n",
              "      <td>3000.000000</td>\n",
              "    </tr>\n",
              "    <tr>\n",
              "      <th>mean</th>\n",
              "      <td>2492.964667</td>\n",
              "      <td>3.557000</td>\n",
              "      <td>113.733667</td>\n",
              "      <td>68.743667</td>\n",
              "      <td>11.164000</td>\n",
              "      <td>11.663333</td>\n",
              "      <td>35.262073</td>\n",
              "      <td>0.400476</td>\n",
              "      <td>28.932000</td>\n",
              "      <td>0.239000</td>\n",
              "    </tr>\n",
              "    <tr>\n",
              "      <th>std</th>\n",
              "      <td>1447.218078</td>\n",
              "      <td>3.032131</td>\n",
              "      <td>20.885612</td>\n",
              "      <td>16.332755</td>\n",
              "      <td>14.351159</td>\n",
              "      <td>45.064090</td>\n",
              "      <td>7.568025</td>\n",
              "      <td>0.274666</td>\n",
              "      <td>8.469078</td>\n",
              "      <td>0.426544</td>\n",
              "    </tr>\n",
              "    <tr>\n",
              "      <th>min</th>\n",
              "      <td>0.000000</td>\n",
              "      <td>0.000000</td>\n",
              "      <td>57.000000</td>\n",
              "      <td>0.000000</td>\n",
              "      <td>0.000000</td>\n",
              "      <td>0.000000</td>\n",
              "      <td>0.000775</td>\n",
              "      <td>0.145844</td>\n",
              "      <td>21.000000</td>\n",
              "      <td>0.000000</td>\n",
              "    </tr>\n",
              "    <tr>\n",
              "      <th>25%</th>\n",
              "      <td>1218.750000</td>\n",
              "      <td>1.000000</td>\n",
              "      <td>100.000000</td>\n",
              "      <td>64.000000</td>\n",
              "      <td>0.000000</td>\n",
              "      <td>0.000000</td>\n",
              "      <td>32.301920</td>\n",
              "      <td>0.230987</td>\n",
              "      <td>22.000000</td>\n",
              "      <td>0.000000</td>\n",
              "    </tr>\n",
              "    <tr>\n",
              "      <th>50%</th>\n",
              "      <td>2465.500000</td>\n",
              "      <td>3.000000</td>\n",
              "      <td>111.000000</td>\n",
              "      <td>70.000000</td>\n",
              "      <td>0.000000</td>\n",
              "      <td>0.000000</td>\n",
              "      <td>33.835873</td>\n",
              "      <td>0.268674</td>\n",
              "      <td>26.000000</td>\n",
              "      <td>0.000000</td>\n",
              "    </tr>\n",
              "    <tr>\n",
              "      <th>75%</th>\n",
              "      <td>3750.250000</td>\n",
              "      <td>6.000000</td>\n",
              "      <td>125.000000</td>\n",
              "      <td>78.000000</td>\n",
              "      <td>24.000000</td>\n",
              "      <td>0.000000</td>\n",
              "      <td>39.578256</td>\n",
              "      <td>0.506778</td>\n",
              "      <td>33.000000</td>\n",
              "      <td>0.000000</td>\n",
              "    </tr>\n",
              "    <tr>\n",
              "      <th>max</th>\n",
              "      <td>4999.000000</td>\n",
              "      <td>13.000000</td>\n",
              "      <td>196.000000</td>\n",
              "      <td>110.000000</td>\n",
              "      <td>49.000000</td>\n",
              "      <td>579.000000</td>\n",
              "      <td>53.400629</td>\n",
              "      <td>2.302072</td>\n",
              "      <td>67.000000</td>\n",
              "      <td>1.000000</td>\n",
              "    </tr>\n",
              "  </tbody>\n",
              "</table>\n",
              "</div>"
            ],
            "text/plain": [
              "             index  Pregnancies  ...          Age      Outcome\n",
              "count  3000.000000  3000.000000  ...  3000.000000  3000.000000\n",
              "mean   2492.964667     3.557000  ...    28.932000     0.239000\n",
              "std    1447.218078     3.032131  ...     8.469078     0.426544\n",
              "min       0.000000     0.000000  ...    21.000000     0.000000\n",
              "25%    1218.750000     1.000000  ...    22.000000     0.000000\n",
              "50%    2465.500000     3.000000  ...    26.000000     0.000000\n",
              "75%    3750.250000     6.000000  ...    33.000000     0.000000\n",
              "max    4999.000000    13.000000  ...    67.000000     1.000000\n",
              "\n",
              "[8 rows x 10 columns]"
            ]
          },
          "metadata": {
            "tags": []
          },
          "execution_count": 251
        }
      ]
    },
    {
      "cell_type": "code",
      "metadata": {
        "colab": {
          "base_uri": "https://localhost:8080/"
        },
        "id": "r4KD05Fijede",
        "outputId": "fe4997e1-7c50-455d-ffd6-7983e8228993"
      },
      "source": [
        "# 前処理\r\n",
        "df_train.info()\r\n",
        "print('_'*40)\r\n",
        "df_test.info()"
      ],
      "execution_count": 252,
      "outputs": [
        {
          "output_type": "stream",
          "text": [
            "<class 'pandas.core.frame.DataFrame'>\n",
            "RangeIndex: 3000 entries, 0 to 2999\n",
            "Data columns (total 10 columns):\n",
            " #   Column                    Non-Null Count  Dtype  \n",
            "---  ------                    --------------  -----  \n",
            " 0   index                     3000 non-null   int64  \n",
            " 1   Pregnancies               3000 non-null   int64  \n",
            " 2   Glucose                   3000 non-null   int64  \n",
            " 3   BloodPressure             3000 non-null   int64  \n",
            " 4   SkinThickness             3000 non-null   int64  \n",
            " 5   Insulin                   3000 non-null   int64  \n",
            " 6   BMI                       3000 non-null   float64\n",
            " 7   DiabetesPedigreeFunction  3000 non-null   float64\n",
            " 8   Age                       3000 non-null   int64  \n",
            " 9   Outcome                   3000 non-null   int64  \n",
            "dtypes: float64(2), int64(8)\n",
            "memory usage: 234.5 KB\n",
            "________________________________________\n",
            "<class 'pandas.core.frame.DataFrame'>\n",
            "RangeIndex: 2000 entries, 0 to 1999\n",
            "Data columns (total 9 columns):\n",
            " #   Column                    Non-Null Count  Dtype  \n",
            "---  ------                    --------------  -----  \n",
            " 0   index                     2000 non-null   int64  \n",
            " 1   Pregnancies               2000 non-null   int64  \n",
            " 2   Glucose                   2000 non-null   int64  \n",
            " 3   BloodPressure             2000 non-null   int64  \n",
            " 4   SkinThickness             2000 non-null   int64  \n",
            " 5   Insulin                   2000 non-null   int64  \n",
            " 6   BMI                       2000 non-null   float64\n",
            " 7   DiabetesPedigreeFunction  2000 non-null   float64\n",
            " 8   Age                       2000 non-null   int64  \n",
            "dtypes: float64(2), int64(7)\n",
            "memory usage: 140.8 KB\n"
          ],
          "name": "stdout"
        }
      ]
    },
    {
      "cell_type": "code",
      "metadata": {
        "colab": {
          "base_uri": "https://localhost:8080/",
          "height": 242
        },
        "id": "eEXWK9FwwFrs",
        "outputId": "007ea57a-9a71-418f-f494-1a8ee62ada5b"
      },
      "source": [
        "# 1.Pregnancies  妊娠した回数\r\n",
        "g = sns.FacetGrid(df_train, col='Outcome')\r\n",
        "g.map(plt.hist, 'Pregnancies', bins=20)"
      ],
      "execution_count": 253,
      "outputs": [
        {
          "output_type": "execute_result",
          "data": {
            "text/plain": [
              "<seaborn.axisgrid.FacetGrid at 0x7f350bb2f210>"
            ]
          },
          "metadata": {
            "tags": []
          },
          "execution_count": 253
        },
        {
          "output_type": "display_data",
          "data": {
            "image/png": "[encoded data removed]",
            "text/plain": [
              "<Figure size 432x216 with 2 Axes>"
            ]
          },
          "metadata": {
            "tags": [],
            "needs_background": "light"
          }
        }
      ]
    },
    {
      "cell_type": "code",
      "metadata": {
        "colab": {
          "base_uri": "https://localhost:8080/",
          "height": 242
        },
        "id": "0FKnlaqC3ELf",
        "outputId": "1643a350-73d4-4905-c40a-58f4278a45c4"
      },
      "source": [
        "# 2.Glucose int 経口ブドウ糖負荷試験における2時間の血漿ブドウ糖濃度\r\n",
        "g = sns.FacetGrid(df_train, col='Outcome')\r\n",
        "g.map(plt.hist, 'Glucose', bins=50\r\n",
        "      )"
      ],
      "execution_count": 254,
      "outputs": [
        {
          "output_type": "execute_result",
          "data": {
            "text/plain": [
              "<seaborn.axisgrid.FacetGrid at 0x7f350b977c90>"
            ]
          },
          "metadata": {
            "tags": []
          },
          "execution_count": 254
        },
        {
          "output_type": "display_data",
          "data": {
            "image/png": "[encoded data removed]",
            "text/plain": [
              "<Figure size 432x216 with 2 Axes>"
            ]
          },
          "metadata": {
            "tags": [],
            "needs_background": "light"
          }
        }
      ]
    },
    {
      "cell_type": "code",
      "metadata": {
        "colab": {
          "base_uri": "https://localhost:8080/",
          "height": 242
        },
        "id": "TCoobgz61Dno",
        "outputId": "b098a826-1fe3-4dbd-87b7-708f021d4d97"
      },
      "source": [
        "# 3 BloodPressure int 拡張期血圧\r\n",
        "g = sns.FacetGrid(df_train, col='Outcome')\r\n",
        "g.map(plt.hist, 'BloodPressure', bins=10)"
      ],
      "execution_count": 255,
      "outputs": [
        {
          "output_type": "execute_result",
          "data": {
            "text/plain": [
              "<seaborn.axisgrid.FacetGrid at 0x7f350b79a5d0>"
            ]
          },
          "metadata": {
            "tags": []
          },
          "execution_count": 255
        },
        {
          "output_type": "display_data",
          "data": {
            "image/png": "[encoded data removed]",
            "text/plain": [
              "<Figure size 432x216 with 2 Axes>"
            ]
          },
          "metadata": {
            "tags": [],
            "needs_background": "light"
          }
        }
      ]
    },
    {
      "cell_type": "code",
      "metadata": {
        "colab": {
          "base_uri": "https://localhost:8080/"
        },
        "id": "v7kLLzh61h9_",
        "outputId": "9f4a81e0-d8ee-429d-aabf-0bef8165e9f9"
      },
      "source": [
        "# 3. BloodPressure int 拡張期血圧 異常値あり？\r\n",
        "print(df_train[df_train['BloodPressure']<25])"
      ],
      "execution_count": 256,
      "outputs": [
        {
          "output_type": "stream",
          "text": [
            "      index  Pregnancies  Glucose  ...  DiabetesPedigreeFunction  Age  Outcome\n",
            "33     1768            6      117  ...                  0.211526   36        1\n",
            "58     4798            0      100  ...                  0.793172   27        0\n",
            "88     4082            1       87  ...                  0.240243   40        0\n",
            "108    1733            6      105  ...                  0.250061   30        0\n",
            "154    3827            3       84  ...                  0.263145   29        1\n",
            "...     ...          ...      ...  ...                       ...  ...      ...\n",
            "2939   2659            3      161  ...                  0.289017   45        1\n",
            "2967    544            6       97  ...                  0.202253   30        0\n",
            "2974    797            6      111  ...                  0.219244   28        0\n",
            "2983   2893            6      105  ...                  0.287134   39        0\n",
            "2989   2599            2      117  ...                  0.170535   28        0\n",
            "\n",
            "[113 rows x 10 columns]\n"
          ],
          "name": "stdout"
        }
      ]
    },
    {
      "cell_type": "code",
      "metadata": {
        "colab": {
          "base_uri": "https://localhost:8080/",
          "height": 242
        },
        "id": "asFvwQ2K2518",
        "outputId": "3a006337-8e2b-4634-f986-8b3b8ca7c5be"
      },
      "source": [
        "# 4. SkinThickness int 皮膚のひだの厚さ\r\n",
        "g = sns.FacetGrid(df_train, col='Outcome')\r\n",
        "g.map(plt.hist, 'SkinThickness', bins=30)"
      ],
      "execution_count": 257,
      "outputs": [
        {
          "output_type": "execute_result",
          "data": {
            "text/plain": [
              "<seaborn.axisgrid.FacetGrid at 0x7f350b6b4a50>"
            ]
          },
          "metadata": {
            "tags": []
          },
          "execution_count": 257
        },
        {
          "output_type": "display_data",
          "data": {
            "image/png": "[encoded data removed]",
            "text/plain": [
              "<Figure size 432x216 with 2 Axes>"
            ]
          },
          "metadata": {
            "tags": [],
            "needs_background": "light"
          }
        }
      ]
    },
    {
      "cell_type": "code",
      "metadata": {
        "colab": {
          "base_uri": "https://localhost:8080/",
          "height": 242
        },
        "id": "akxly4jc47FT",
        "outputId": "d228d48f-f6a9-44d2-cd46-4f6fd66fdfcc"
      },
      "source": [
        "# 5. Insulin int 血清インスリン\r\n",
        "g = sns.FacetGrid(df_train, col='Outcome')\r\n",
        "g.map(plt.hist, 'Insulin', bins=20)"
      ],
      "execution_count": 258,
      "outputs": [
        {
          "output_type": "execute_result",
          "data": {
            "text/plain": [
              "<seaborn.axisgrid.FacetGrid at 0x7f350d2f3e90>"
            ]
          },
          "metadata": {
            "tags": []
          },
          "execution_count": 258
        },
        {
          "output_type": "display_data",
          "data": {
            "image/png": "[encoded data removed]",
            "text/plain": [
              "<Figure size 432x216 with 2 Axes>"
            ]
          },
          "metadata": {
            "tags": [],
            "needs_background": "light"
          }
        }
      ]
    },
    {
      "cell_type": "code",
      "metadata": {
        "colab": {
          "base_uri": "https://localhost:8080/",
          "height": 242
        },
        "id": "j745OUr55Y2Q",
        "outputId": "9384a4ab-2157-4d14-8995-720013fd872f"
      },
      "source": [
        "# 6. BMI float BMI\r\n",
        "g = sns.FacetGrid(df_train, col='Outcome')\r\n",
        "g.map(plt.hist, 'BMI', bins=10)"
      ],
      "execution_count": 259,
      "outputs": [
        {
          "output_type": "execute_result",
          "data": {
            "text/plain": [
              "<seaborn.axisgrid.FacetGrid at 0x7f350b5960d0>"
            ]
          },
          "metadata": {
            "tags": []
          },
          "execution_count": 259
        },
        {
          "output_type": "display_data",
          "data": {
            "image/png": "[encoded data removed]",
            "text/plain": [
              "<Figure size 432x216 with 2 Axes>"
            ]
          },
          "metadata": {
            "tags": [],
            "needs_background": "light"
          }
        }
      ]
    },
    {
      "cell_type": "code",
      "metadata": {
        "colab": {
          "base_uri": "https://localhost:8080/"
        },
        "id": "tp4CeMTJ5z8m",
        "outputId": "f4fb979d-069c-4079-bafc-fe81ee7df600"
      },
      "source": [
        "# 6. BMI float BMI 異常値あり？\r\n",
        "print(df_train[df_train['BMI']<10])"
      ],
      "execution_count": 260,
      "outputs": [
        {
          "output_type": "stream",
          "text": [
            "      index  Pregnancies  Glucose  ...  DiabetesPedigreeFunction  Age  Outcome\n",
            "81     3636            2       82  ...                  0.316652   21        0\n",
            "154    3827            3       84  ...                  0.263145   29        1\n",
            "319    3043            0       84  ...                  0.300035   39        1\n",
            "510    1171            7      105  ...                  0.283793   41        0\n",
            "597    4661            2      115  ...                  0.276749   21        0\n",
            "860    3857            7      154  ...                  0.254065   43        0\n",
            "947    2312            3      115  ...                  0.296802   39        0\n",
            "1006   3322            2      125  ...                  0.294377   22        0\n",
            "1077   1054            7      106  ...                  0.227734   21        1\n",
            "1217   3691            2      108  ...                  0.272783   22        0\n",
            "1242   1758            8       91  ...                  0.249350   21        0\n",
            "1253   1188            7      164  ...                  0.270610   43        1\n",
            "1441   1611            0      125  ...                  2.166971   39        1\n",
            "1649   2656            5      115  ...                  0.304423   21        0\n",
            "1663   4616            1      123  ...                  0.260952   22        0\n",
            "1740   3670           11      109  ...                  0.244549   66        0\n",
            "1799   3927            7      131  ...                  0.314025   39        0\n",
            "1808    374            3      114  ...                  0.267325   21        0\n",
            "1910   1848            0       91  ...                  0.273265   22        0\n",
            "1991   1858            7      105  ...                  0.287676   37        0\n",
            "1992    258            1      123  ...                  0.291106   21        0\n",
            "2026   4019            2      126  ...                  0.235055   27        0\n",
            "2109   2503            1      114  ...                  0.249420   23        0\n",
            "2151   2317            0      114  ...                  0.282945   21        1\n",
            "2189    858            1      123  ...                  0.278043   22        0\n",
            "2211   4606            2      129  ...                  0.216297   44        0\n",
            "2255   4426            7       91  ...                  0.277199   37        0\n",
            "2258   4425            0      125  ...                  0.284210   21        0\n",
            "2415   2199            2      164  ...                  0.233501   22        0\n",
            "2484   2684            3      106  ...                  0.267617   22        0\n",
            "2513    387            0       91  ...                  0.268718   21        1\n",
            "2599   2221            0       91  ...                  0.289001   21        0\n",
            "2897   2610            0       91  ...                  0.294669   22        0\n",
            "2983   2893            6      105  ...                  0.287134   39        0\n",
            "\n",
            "[34 rows x 10 columns]\n"
          ],
          "name": "stdout"
        }
      ]
    },
    {
      "cell_type": "code",
      "metadata": {
        "colab": {
          "base_uri": "https://localhost:8080/",
          "height": 242
        },
        "id": "VwiNOQxj6SvU",
        "outputId": "8592b217-067c-44bf-9a67-ae3c3f785637"
      },
      "source": [
        "# 7. Age int 年齢\r\n",
        "g = sns.FacetGrid(df_train, col='Outcome')\r\n",
        "g.map(plt.hist, 'Age', bins=20)"
      ],
      "execution_count": 261,
      "outputs": [
        {
          "output_type": "execute_result",
          "data": {
            "text/plain": [
              "<seaborn.axisgrid.FacetGrid at 0x7f350b302310>"
            ]
          },
          "metadata": {
            "tags": []
          },
          "execution_count": 261
        },
        {
          "output_type": "display_data",
          "data": {
            "image/png": "[encoded data removed]",
            "text/plain": [
              "<Figure size 432x216 with 2 Axes>"
            ]
          },
          "metadata": {
            "tags": [],
            "needs_background": "light"
          }
        }
      ]
    },
    {
      "cell_type": "code",
      "metadata": {
        "colab": {
          "base_uri": "https://localhost:8080/",
          "height": 242
        },
        "id": "ecyTMwyl67iy",
        "outputId": "a10724e2-2bb7-423e-bd2a-8a80722cde13"
      },
      "source": [
        "# 8. DiabetesPedigreeFunction float 糖尿病血統\r\n",
        "g = sns.FacetGrid(df_train, col='Outcome')\r\n",
        "g.map(plt.hist, 'DiabetesPedigreeFunction', bins=20)"
      ],
      "execution_count": 262,
      "outputs": [
        {
          "output_type": "execute_result",
          "data": {
            "text/plain": [
              "<seaborn.axisgrid.FacetGrid at 0x7f350b237350>"
            ]
          },
          "metadata": {
            "tags": []
          },
          "execution_count": 262
        },
        {
          "output_type": "display_data",
          "data": {
            "image/png": "[encoded data removed]",
            "text/plain": [
              "<Figure size 432x216 with 2 Axes>"
            ]
          },
          "metadata": {
            "tags": [],
            "needs_background": "light"
          }
        }
      ]
    },
    {
      "cell_type": "code",
      "metadata": {
        "colab": {
          "base_uri": "https://localhost:8080/"
        },
        "id": "h0-zbYPT8wCM",
        "outputId": "f0b8a8c3-aeca-4042-d52b-7d4ced6af110"
      },
      "source": [
        "# 各特徴量を層別する\r\n",
        "print( pd.cut(df_train['Pregnancies'], 5))\r\n",
        "print( pd.cut(df_train['Glucose'], 6))\r\n",
        "print( pd.cut(df_train['BloodPressure'], 5))\r\n",
        "print( pd.cut(df_train['SkinThickness'], 5))\r\n",
        "print( pd.cut(df_train['Insulin'], 5))\r\n",
        "print( pd.cut(df_train['BMI'], 5))\r\n",
        "print( pd.cut(df_train['Age'], 4))\r\n",
        "print( pd.cut(df_train['DiabetesPedigreeFunction'], 4))"
      ],
      "execution_count": 263,
      "outputs": [
        {
          "output_type": "stream",
          "text": [
            "0         (7.8, 10.4]\n",
            "1          (2.6, 5.2]\n",
            "2          (2.6, 5.2]\n",
            "3         (7.8, 10.4]\n",
            "4          (2.6, 5.2]\n",
            "            ...      \n",
            "2995       (2.6, 5.2]\n",
            "2996    (-0.013, 2.6]\n",
            "2997       (5.2, 7.8]\n",
            "2998    (-0.013, 2.6]\n",
            "2999    (-0.013, 2.6]\n",
            "Name: Pregnancies, Length: 3000, dtype: category\n",
            "Categories (5, interval[float64]): [(-0.013, 2.6] < (2.6, 5.2] < (5.2, 7.8] < (7.8, 10.4] <\n",
            "                                    (10.4, 13.0]]\n",
            "0        (103.333, 126.5]\n",
            "1        (103.333, 126.5]\n",
            "2       (80.167, 103.333]\n",
            "3        (103.333, 126.5]\n",
            "4        (103.333, 126.5]\n",
            "              ...        \n",
            "2995    (80.167, 103.333]\n",
            "2996     (126.5, 149.667]\n",
            "2997     (103.333, 126.5]\n",
            "2998     (103.333, 126.5]\n",
            "2999     (103.333, 126.5]\n",
            "Name: Glucose, Length: 3000, dtype: category\n",
            "Categories (6, interval[float64]): [(56.861, 80.167] < (80.167, 103.333] < (103.333, 126.5] <\n",
            "                                    (126.5, 149.667] < (149.667, 172.833] < (172.833, 196.0]]\n",
            "0        (66.0, 88.0]\n",
            "1        (66.0, 88.0]\n",
            "2        (66.0, 88.0]\n",
            "3        (66.0, 88.0]\n",
            "4        (66.0, 88.0]\n",
            "            ...      \n",
            "2995     (66.0, 88.0]\n",
            "2996     (66.0, 88.0]\n",
            "2997    (88.0, 110.0]\n",
            "2998     (66.0, 88.0]\n",
            "2999     (66.0, 88.0]\n",
            "Name: BloodPressure, Length: 3000, dtype: category\n",
            "Categories (5, interval[float64]): [(-0.11, 22.0] < (22.0, 44.0] < (44.0, 66.0] < (66.0, 88.0] <\n",
            "                                    (88.0, 110.0]]\n",
            "0       (-0.049, 9.8]\n",
            "1       (-0.049, 9.8]\n",
            "2        (29.4, 39.2]\n",
            "3       (-0.049, 9.8]\n",
            "4        (39.2, 49.0]\n",
            "            ...      \n",
            "2995      (9.8, 19.6]\n",
            "2996    (-0.049, 9.8]\n",
            "2997     (29.4, 39.2]\n",
            "2998    (-0.049, 9.8]\n",
            "2999    (-0.049, 9.8]\n",
            "Name: SkinThickness, Length: 3000, dtype: category\n",
            "Categories (5, interval[float64]): [(-0.049, 9.8] < (9.8, 19.6] < (19.6, 29.4] < (29.4, 39.2] <\n",
            "                                    (39.2, 49.0]]\n",
            "0       (-0.579, 115.8]\n",
            "1       (-0.579, 115.8]\n",
            "2       (-0.579, 115.8]\n",
            "3       (-0.579, 115.8]\n",
            "4        (231.6, 347.4]\n",
            "             ...       \n",
            "2995    (-0.579, 115.8]\n",
            "2996    (-0.579, 115.8]\n",
            "2997    (-0.579, 115.8]\n",
            "2998    (-0.579, 115.8]\n",
            "2999    (-0.579, 115.8]\n",
            "Name: Insulin, Length: 3000, dtype: category\n",
            "Categories (5, interval[float64]): [(-0.579, 115.8] < (115.8, 231.6] < (231.6, 347.4] < (347.4, 463.2] <\n",
            "                                    (463.2, 579.0]]\n",
            "0       (21.361, 32.041]\n",
            "1       (21.361, 32.041]\n",
            "2       (42.721, 53.401]\n",
            "3       (32.041, 42.721]\n",
            "4       (42.721, 53.401]\n",
            "              ...       \n",
            "2995    (32.041, 42.721]\n",
            "2996    (21.361, 32.041]\n",
            "2997    (21.361, 32.041]\n",
            "2998    (32.041, 42.721]\n",
            "2999    (32.041, 42.721]\n",
            "Name: BMI, Length: 3000, dtype: category\n",
            "Categories (5, interval[float64]): [(-0.0526, 10.681] < (10.681, 21.361] < (21.361, 32.041] <\n",
            "                                    (32.041, 42.721] < (42.721, 53.401]]\n",
            "0         (44.0, 55.5]\n",
            "1       (20.954, 32.5]\n",
            "2       (20.954, 32.5]\n",
            "3         (44.0, 55.5]\n",
            "4         (44.0, 55.5]\n",
            "             ...      \n",
            "2995    (20.954, 32.5]\n",
            "2996    (20.954, 32.5]\n",
            "2997    (20.954, 32.5]\n",
            "2998      (32.5, 44.0]\n",
            "2999    (20.954, 32.5]\n",
            "Name: Age, Length: 3000, dtype: category\n",
            "Categories (4, interval[float64]): [(20.954, 32.5] < (32.5, 44.0] < (44.0, 55.5] < (55.5, 67.0]]\n",
            "0       (0.144, 0.685]\n",
            "1       (0.144, 0.685]\n",
            "2       (0.144, 0.685]\n",
            "3       (0.144, 0.685]\n",
            "4       (0.144, 0.685]\n",
            "             ...      \n",
            "2995    (0.144, 0.685]\n",
            "2996    (0.144, 0.685]\n",
            "2997    (0.685, 1.224]\n",
            "2998    (0.144, 0.685]\n",
            "2999    (0.144, 0.685]\n",
            "Name: DiabetesPedigreeFunction, Length: 3000, dtype: category\n",
            "Categories (4, interval[float64]): [(0.144, 0.685] < (0.685, 1.224] < (1.224, 1.763] < (1.763, 2.302]]\n"
          ],
          "name": "stdout"
        }
      ]
    },
    {
      "cell_type": "markdown",
      "metadata": {
        "id": "VWL_xcNxA_EO"
      },
      "source": [
        "### train　testデータ編集"
      ]
    },
    {
      "cell_type": "code",
      "metadata": {
        "id": "C3gQluogBLtY"
      },
      "source": [
        "df_train['train_or_test'] = 'train' #trainデータの識別カラム追加 \r\n",
        "df_test['train_or_test'] = 'test'   #testデータの 識別カラム追加  \r\n",
        "df_test['Outcome'] = 9              #testデータ'Outcome'に'9'を仮置き \r\n",
        "\r\n",
        "# train test 結合\r\n",
        "\r\n",
        "df_all = pd.concat([df_train,df_test],sort=False,axis=0).reset_index(drop=True)"
      ],
      "execution_count": 264,
      "outputs": []
    },
    {
      "cell_type": "code",
      "metadata": {
        "colab": {
          "base_uri": "https://localhost:8080/"
        },
        "id": "6fLnCR9QCHVG",
        "outputId": "a97dbe9b-8ced-4fa8-b795-537238ef3ee3"
      },
      "source": [
        "df_all.shape"
      ],
      "execution_count": 265,
      "outputs": [
        {
          "output_type": "execute_result",
          "data": {
            "text/plain": [
              "(5000, 11)"
            ]
          },
          "metadata": {
            "tags": []
          },
          "execution_count": 265
        }
      ]
    },
    {
      "cell_type": "code",
      "metadata": {
        "colab": {
          "base_uri": "https://localhost:8080/",
          "height": 195
        },
        "id": "8B6iR71iRI5C",
        "outputId": "ecce3b79-9e24-417a-a31c-e3a9baa4b8fe"
      },
      "source": [
        "df_all.head()"
      ],
      "execution_count": 266,
      "outputs": [
        {
          "output_type": "execute_result",
          "data": {
            "text/html": [
              "<div>\n",
              "<style scoped>\n",
              "    .dataframe tbody tr th:only-of-type {\n",
              "        vertical-align: middle;\n",
              "    }\n",
              "\n",
              "    .dataframe tbody tr th {\n",
              "        vertical-align: top;\n",
              "    }\n",
              "\n",
              "    .dataframe thead th {\n",
              "        text-align: right;\n",
              "    }\n",
              "</style>\n",
              "<table border=\"1\" class=\"dataframe\">\n",
              "  <thead>\n",
              "    <tr style=\"text-align: right;\">\n",
              "      <th></th>\n",
              "      <th>index</th>\n",
              "      <th>Pregnancies</th>\n",
              "      <th>Glucose</th>\n",
              "      <th>BloodPressure</th>\n",
              "      <th>SkinThickness</th>\n",
              "      <th>Insulin</th>\n",
              "      <th>BMI</th>\n",
              "      <th>DiabetesPedigreeFunction</th>\n",
              "      <th>Age</th>\n",
              "      <th>Outcome</th>\n",
              "      <th>train_or_test</th>\n",
              "    </tr>\n",
              "  </thead>\n",
              "  <tbody>\n",
              "    <tr>\n",
              "      <th>0</th>\n",
              "      <td>200</td>\n",
              "      <td>9</td>\n",
              "      <td>125</td>\n",
              "      <td>74</td>\n",
              "      <td>0</td>\n",
              "      <td>0</td>\n",
              "      <td>28.536910</td>\n",
              "      <td>0.444902</td>\n",
              "      <td>45</td>\n",
              "      <td>1</td>\n",
              "      <td>train</td>\n",
              "    </tr>\n",
              "    <tr>\n",
              "      <th>1</th>\n",
              "      <td>3832</td>\n",
              "      <td>4</td>\n",
              "      <td>109</td>\n",
              "      <td>80</td>\n",
              "      <td>0</td>\n",
              "      <td>0</td>\n",
              "      <td>28.047673</td>\n",
              "      <td>0.238243</td>\n",
              "      <td>22</td>\n",
              "      <td>0</td>\n",
              "      <td>train</td>\n",
              "    </tr>\n",
              "    <tr>\n",
              "      <th>2</th>\n",
              "      <td>4927</td>\n",
              "      <td>4</td>\n",
              "      <td>88</td>\n",
              "      <td>78</td>\n",
              "      <td>39</td>\n",
              "      <td>0</td>\n",
              "      <td>52.371341</td>\n",
              "      <td>0.279471</td>\n",
              "      <td>26</td>\n",
              "      <td>0</td>\n",
              "      <td>train</td>\n",
              "    </tr>\n",
              "    <tr>\n",
              "      <th>3</th>\n",
              "      <td>4088</td>\n",
              "      <td>9</td>\n",
              "      <td>125</td>\n",
              "      <td>74</td>\n",
              "      <td>0</td>\n",
              "      <td>0</td>\n",
              "      <td>40.062688</td>\n",
              "      <td>0.203922</td>\n",
              "      <td>45</td>\n",
              "      <td>0</td>\n",
              "      <td>train</td>\n",
              "    </tr>\n",
              "    <tr>\n",
              "      <th>4</th>\n",
              "      <td>3644</td>\n",
              "      <td>5</td>\n",
              "      <td>107</td>\n",
              "      <td>78</td>\n",
              "      <td>44</td>\n",
              "      <td>284</td>\n",
              "      <td>52.935068</td>\n",
              "      <td>0.284959</td>\n",
              "      <td>45</td>\n",
              "      <td>1</td>\n",
              "      <td>train</td>\n",
              "    </tr>\n",
              "  </tbody>\n",
              "</table>\n",
              "</div>"
            ],
            "text/plain": [
              "   index  Pregnancies  Glucose  ...  Age  Outcome  train_or_test\n",
              "0    200            9      125  ...   45        1          train\n",
              "1   3832            4      109  ...   22        0          train\n",
              "2   4927            4       88  ...   26        0          train\n",
              "3   4088            9      125  ...   45        0          train\n",
              "4   3644            5      107  ...   45        1          train\n",
              "\n",
              "[5 rows x 11 columns]"
            ]
          },
          "metadata": {
            "tags": []
          },
          "execution_count": 266
        }
      ]
    },
    {
      "cell_type": "code",
      "metadata": {
        "id": "0FrsBo25r8Dj"
      },
      "source": [
        "# Mapping Pregnancies\r\n",
        "df_all.loc[ df_all['Pregnancies'] <= 2.6, 'Pregnancies'] = 0\r\n",
        "df_all.loc[(df_all['Pregnancies'] > 2.6) & (df_all['Pregnancies'] <= 5.2), 'Pregnancies'] = 1\r\n",
        "df_all.loc[(df_all['Pregnancies'] > 5.2) & (df_all['Pregnancies'] <= 7.8), 'Pregnancies'] = 2\r\n",
        "df_all.loc[(df_all['Pregnancies'] > 7.8) & (df_all['Pregnancies'] <= 10.4), 'Pregnancies'] = 3\r\n",
        "df_all.loc[ df_all['Pregnancies'] > 10.4, 'Pregnancies'] = 4\r\n",
        "df_all['Pregnancies'] = df_all['Pregnancies'].astype(int)\r\n",
        "\r\n",
        "# Mapping Glucose\r\n",
        "df_all.loc[ df_all['Glucose'] <= 80.167, 'Glucose'] = 0\r\n",
        "df_all.loc[(df_all['Glucose'] > 80.167) & (df_all['Glucose'] <= 103.333), 'Glucose'] = 1\r\n",
        "df_all.loc[(df_all['Glucose'] > 103.333) & (df_all['Glucose'] <= 126.5), 'Glucose'] = 2\r\n",
        "df_all.loc[(df_all['Glucose'] > 126.5) & (df_all['Glucose'] <= 149.667), 'Glucose'] = 3\r\n",
        "df_all.loc[(df_all['Glucose'] > 149.667) & (df_all['Glucose'] <= 172.833), 'Glucose'] = 4\r\n",
        "df_all.loc[ df_all['Glucose'] > 172.833, 'Glucose'] = 5\r\n",
        "df_all['Glucose'] = df_all['Glucose'].astype(int)\r\n",
        "\r\n",
        "# Mapping BloodPressure\r\n",
        "df_all.loc[ df_all['BloodPressure'] <= 22.0, 'BloodPressure'] = 0\r\n",
        "df_all.loc[(df_all['BloodPressure'] > 22.0) & (df_all['BloodPressure'] <= 44.0), 'BloodPressure'] = 1\r\n",
        "df_all.loc[(df_all['BloodPressure'] > 44.0) & (df_all['BloodPressure'] <= 66.0), 'BloodPressure'] = 2\r\n",
        "df_all.loc[(df_all['BloodPressure'] > 66.0) & (df_all['BloodPressure'] <= 88.0), 'BloodPressure'] = 3\r\n",
        "df_all.loc[ df_all['BloodPressure'] > 88.0, 'BloodPressure'] = 4\r\n",
        "df_all['BloodPressure'] = df_all['BloodPressure'].astype(int)\r\n",
        "\r\n",
        "# Mapping SkinThickness\r\n",
        "df_all.loc[ df_all['SkinThickness'] <= 9.8, 'SkinThickness'] = 0\r\n",
        "df_all.loc[(df_all['SkinThickness'] > 9.8) & (df_all['SkinThickness'] <= 19.6), 'SkinThickness'] = 1\r\n",
        "df_all.loc[(df_all['SkinThickness'] > 19.6) & (df_all['SkinThickness'] <= 29.4), 'SkinThickness'] = 2\r\n",
        "df_all.loc[(df_all['SkinThickness'] > 29.4) & (df_all['SkinThickness'] <= 39.2), 'SkinThickness'] = 3\r\n",
        "df_all.loc[ df_all['SkinThickness'] > 39.2, 'SkinThickness'] = 4\r\n",
        "df_all['SkinThickness'] = df_all['SkinThickness'].astype(int)\r\n",
        "\r\n",
        "# Mapping Insulin\r\n",
        "df_all.loc[ df_all['Insulin'] <= 115.8, 'Insulin'] = 0\r\n",
        "df_all.loc[(df_all['Insulin'] > 115.8) & (df_all['Insulin'] <= 231.6), 'Insulin'] = 1\r\n",
        "df_all.loc[(df_all['Insulin'] > 231.6) & (df_all['Insulin'] <= 347.4), 'Insulin'] = 2\r\n",
        "df_all.loc[(df_all['Insulin'] > 347.4) & (df_all['Insulin'] <= 463.2), 'Insulin'] = 3\r\n",
        "df_all.loc[ df_all['Insulin'] > 463.2, 'Insulin'] = 4\r\n",
        "df_all['Insulin'] = df_all['Insulin'].astype(int)\r\n",
        "\r\n",
        "# Mapping BMI\r\n",
        "df_all.loc[ df_all['BMI'] <= 10.681, 'BMI'] = 0\r\n",
        "df_all.loc[(df_all['BMI'] > 10.681) & (df_all['BMI'] <= 21.361), 'BMI'] = 1\r\n",
        "df_all.loc[(df_all['BMI'] > 21.36) & (df_all['BMI'] <= 32.041), 'BMI'] = 2\r\n",
        "df_all.loc[(df_all['BMI'] > 32.041) & (df_all['BMI'] <= 42.721), 'BMI'] = 3\r\n",
        "df_all.loc[ df_all['BMI'] > 42.721, 'BMI'] = 4\r\n",
        "df_all['BMI'] = df_all['BMI'].astype(int)\r\n",
        "\r\n",
        "# Mapping Age\r\n",
        "df_all.loc[ df_all['Age'] <= 32.5, 'Age'] = 0\r\n",
        "df_all.loc[(df_all['Age'] > 32.5) & (df_all['Age'] <= 44.0), 'Age'] = 1\r\n",
        "df_all.loc[(df_all['Age'] > 44.0) & (df_all['Age'] <= 55.5), 'Age'] = 2\r\n",
        "df_all.loc[ df_all['Age'] > 55.5, 'Age'] = 3\r\n",
        "df_all['Age'] = df_all['Age'].astype(int)\r\n",
        "\r\n",
        "# Mapping DiabetesPedigreeFunction\r\n",
        "#df_all.loc[ df_all['DiabetesPedigreeFunction'] <= 0.685, 'DiabetesPedigreeFunction'] = 0\r\n",
        "#df_all.loc[(df_all['DiabetesPedigreeFunction'] > 0.685) & (df_all['DiabetesPedigreeFunction'] <= 1.224), 'DiabetesPedigreeFunction'] = 1\r\n",
        "#df_all.loc[(df_all['DiabetesPedigreeFunction'] > 1.224) & (df_all['DiabetesPedigreeFunction'] <= 1.763), 'DiabetesPedigreeFunction'] = 2\r\n",
        "#df_all.loc[ df_all['DiabetesPedigreeFunction'] > 1.763, 'DiabetesPedigreeFunction'] = 3\r\n",
        "#df_all['DiabetesPedigreeFunction'] = df_all['DiabetesPedigreeFunction'].astype(int)\r\n",
        "\r\n",
        "# age education-num(mean = 0 std = 1 で正則化) -> age_sc education-num_sc\r\n",
        "# 平均＝0、分散＝1　にスケーリング\r\n",
        "\r\n",
        "from sklearn.preprocessing import StandardScaler\r\n",
        "\r\n",
        "df_all['DiabetesPedigreeFunction'] = StandardScaler().fit_transform(np.array(df_all['DiabetesPedigreeFunction'].values).reshape(-1, 1))"
      ],
      "execution_count": 267,
      "outputs": []
    },
    {
      "cell_type": "code",
      "metadata": {
        "colab": {
          "base_uri": "https://localhost:8080/",
          "height": 195
        },
        "id": "USAcB5W9sb0r",
        "outputId": "b03e44d8-e0be-421e-a681-8f272a833013"
      },
      "source": [
        "df_all.head()"
      ],
      "execution_count": 268,
      "outputs": [
        {
          "output_type": "execute_result",
          "data": {
            "text/html": [
              "<div>\n",
              "<style scoped>\n",
              "    .dataframe tbody tr th:only-of-type {\n",
              "        vertical-align: middle;\n",
              "    }\n",
              "\n",
              "    .dataframe tbody tr th {\n",
              "        vertical-align: top;\n",
              "    }\n",
              "\n",
              "    .dataframe thead th {\n",
              "        text-align: right;\n",
              "    }\n",
              "</style>\n",
              "<table border=\"1\" class=\"dataframe\">\n",
              "  <thead>\n",
              "    <tr style=\"text-align: right;\">\n",
              "      <th></th>\n",
              "      <th>index</th>\n",
              "      <th>Pregnancies</th>\n",
              "      <th>Glucose</th>\n",
              "      <th>BloodPressure</th>\n",
              "      <th>SkinThickness</th>\n",
              "      <th>Insulin</th>\n",
              "      <th>BMI</th>\n",
              "      <th>DiabetesPedigreeFunction</th>\n",
              "      <th>Age</th>\n",
              "      <th>Outcome</th>\n",
              "      <th>train_or_test</th>\n",
              "    </tr>\n",
              "  </thead>\n",
              "  <tbody>\n",
              "    <tr>\n",
              "      <th>0</th>\n",
              "      <td>200</td>\n",
              "      <td>3</td>\n",
              "      <td>2</td>\n",
              "      <td>3</td>\n",
              "      <td>0</td>\n",
              "      <td>0</td>\n",
              "      <td>2</td>\n",
              "      <td>0.161694</td>\n",
              "      <td>2</td>\n",
              "      <td>1</td>\n",
              "      <td>train</td>\n",
              "    </tr>\n",
              "    <tr>\n",
              "      <th>1</th>\n",
              "      <td>3832</td>\n",
              "      <td>1</td>\n",
              "      <td>2</td>\n",
              "      <td>3</td>\n",
              "      <td>0</td>\n",
              "      <td>0</td>\n",
              "      <td>2</td>\n",
              "      <td>-0.599224</td>\n",
              "      <td>0</td>\n",
              "      <td>0</td>\n",
              "      <td>train</td>\n",
              "    </tr>\n",
              "    <tr>\n",
              "      <th>2</th>\n",
              "      <td>4927</td>\n",
              "      <td>1</td>\n",
              "      <td>1</td>\n",
              "      <td>3</td>\n",
              "      <td>3</td>\n",
              "      <td>0</td>\n",
              "      <td>4</td>\n",
              "      <td>-0.447421</td>\n",
              "      <td>0</td>\n",
              "      <td>0</td>\n",
              "      <td>train</td>\n",
              "    </tr>\n",
              "    <tr>\n",
              "      <th>3</th>\n",
              "      <td>4088</td>\n",
              "      <td>3</td>\n",
              "      <td>2</td>\n",
              "      <td>3</td>\n",
              "      <td>0</td>\n",
              "      <td>0</td>\n",
              "      <td>3</td>\n",
              "      <td>-0.725592</td>\n",
              "      <td>2</td>\n",
              "      <td>0</td>\n",
              "      <td>train</td>\n",
              "    </tr>\n",
              "    <tr>\n",
              "      <th>4</th>\n",
              "      <td>3644</td>\n",
              "      <td>1</td>\n",
              "      <td>2</td>\n",
              "      <td>3</td>\n",
              "      <td>4</td>\n",
              "      <td>2</td>\n",
              "      <td>4</td>\n",
              "      <td>-0.427214</td>\n",
              "      <td>2</td>\n",
              "      <td>1</td>\n",
              "      <td>train</td>\n",
              "    </tr>\n",
              "  </tbody>\n",
              "</table>\n",
              "</div>"
            ],
            "text/plain": [
              "   index  Pregnancies  Glucose  ...  Age  Outcome  train_or_test\n",
              "0    200            3        2  ...    2        1          train\n",
              "1   3832            1        2  ...    0        0          train\n",
              "2   4927            1        1  ...    0        0          train\n",
              "3   4088            3        2  ...    2        0          train\n",
              "4   3644            1        2  ...    2        1          train\n",
              "\n",
              "[5 rows x 11 columns]"
            ]
          },
          "metadata": {
            "tags": []
          },
          "execution_count": 268
        }
      ]
    },
    {
      "cell_type": "markdown",
      "metadata": {
        "id": "I7rnfpZIIjli"
      },
      "source": [
        ""
      ]
    },
    {
      "cell_type": "code",
      "metadata": {
        "id": "pNKFaezKHcHR"
      },
      "source": [
        "# train test データ　を　戻す\r\n",
        "df_train = df_all.query('train_or_test == \"train\"')\r\n",
        "df_test = df_all.query('train_or_test == \"test\"')\r\n",
        "\r\n",
        "# モデル　検証　データ作成\r\n",
        "\r\n",
        "X = df_train.drop(columns=['index', 'Outcome', 'train_or_test'])     # モデル train \r\n",
        "y = df_train['Outcome']                                     # モデル y \r\n",
        "test = df_test.drop(columns=['index', 'Outcome', 'train_or_test'])   # テスト test"
      ],
      "execution_count": 269,
      "outputs": []
    },
    {
      "cell_type": "code",
      "metadata": {
        "colab": {
          "base_uri": "https://localhost:8080/"
        },
        "id": "A2OZ6hwSPtLD",
        "outputId": "ee08e90d-1f4d-4e8a-f699-23447d7dbae0"
      },
      "source": [
        "print('X.shape = ', X.shape)\r\n",
        "print('y.shape = ', y.shape)\r\n",
        "print('test.shape = ', test.shape)"
      ],
      "execution_count": 270,
      "outputs": [
        {
          "output_type": "stream",
          "text": [
            "X.shape =  (3000, 8)\n",
            "y.shape =  (3000,)\n",
            "test.shape =  (2000, 8)\n"
          ],
          "name": "stdout"
        }
      ]
    },
    {
      "cell_type": "code",
      "metadata": {
        "colab": {
          "base_uri": "https://localhost:8080/",
          "height": 195
        },
        "id": "qPocyvDUxuX4",
        "outputId": "bf469102-ea4d-4ed2-f5ae-3643175eed2d"
      },
      "source": [
        "X.head()"
      ],
      "execution_count": 271,
      "outputs": [
        {
          "output_type": "execute_result",
          "data": {
            "text/html": [
              "<div>\n",
              "<style scoped>\n",
              "    .dataframe tbody tr th:only-of-type {\n",
              "        vertical-align: middle;\n",
              "    }\n",
              "\n",
              "    .dataframe tbody tr th {\n",
              "        vertical-align: top;\n",
              "    }\n",
              "\n",
              "    .dataframe thead th {\n",
              "        text-align: right;\n",
              "    }\n",
              "</style>\n",
              "<table border=\"1\" class=\"dataframe\">\n",
              "  <thead>\n",
              "    <tr style=\"text-align: right;\">\n",
              "      <th></th>\n",
              "      <th>Pregnancies</th>\n",
              "      <th>Glucose</th>\n",
              "      <th>BloodPressure</th>\n",
              "      <th>SkinThickness</th>\n",
              "      <th>Insulin</th>\n",
              "      <th>BMI</th>\n",
              "      <th>DiabetesPedigreeFunction</th>\n",
              "      <th>Age</th>\n",
              "    </tr>\n",
              "  </thead>\n",
              "  <tbody>\n",
              "    <tr>\n",
              "      <th>0</th>\n",
              "      <td>3</td>\n",
              "      <td>2</td>\n",
              "      <td>3</td>\n",
              "      <td>0</td>\n",
              "      <td>0</td>\n",
              "      <td>2</td>\n",
              "      <td>0.161694</td>\n",
              "      <td>2</td>\n",
              "    </tr>\n",
              "    <tr>\n",
              "      <th>1</th>\n",
              "      <td>1</td>\n",
              "      <td>2</td>\n",
              "      <td>3</td>\n",
              "      <td>0</td>\n",
              "      <td>0</td>\n",
              "      <td>2</td>\n",
              "      <td>-0.599224</td>\n",
              "      <td>0</td>\n",
              "    </tr>\n",
              "    <tr>\n",
              "      <th>2</th>\n",
              "      <td>1</td>\n",
              "      <td>1</td>\n",
              "      <td>3</td>\n",
              "      <td>3</td>\n",
              "      <td>0</td>\n",
              "      <td>4</td>\n",
              "      <td>-0.447421</td>\n",
              "      <td>0</td>\n",
              "    </tr>\n",
              "    <tr>\n",
              "      <th>3</th>\n",
              "      <td>3</td>\n",
              "      <td>2</td>\n",
              "      <td>3</td>\n",
              "      <td>0</td>\n",
              "      <td>0</td>\n",
              "      <td>3</td>\n",
              "      <td>-0.725592</td>\n",
              "      <td>2</td>\n",
              "    </tr>\n",
              "    <tr>\n",
              "      <th>4</th>\n",
              "      <td>1</td>\n",
              "      <td>2</td>\n",
              "      <td>3</td>\n",
              "      <td>4</td>\n",
              "      <td>2</td>\n",
              "      <td>4</td>\n",
              "      <td>-0.427214</td>\n",
              "      <td>2</td>\n",
              "    </tr>\n",
              "  </tbody>\n",
              "</table>\n",
              "</div>"
            ],
            "text/plain": [
              "   Pregnancies  Glucose  BloodPressure  ...  BMI  DiabetesPedigreeFunction  Age\n",
              "0            3        2              3  ...    2                  0.161694    2\n",
              "1            1        2              3  ...    2                 -0.599224    0\n",
              "2            1        1              3  ...    4                 -0.447421    0\n",
              "3            3        2              3  ...    3                 -0.725592    2\n",
              "4            1        2              3  ...    4                 -0.427214    2\n",
              "\n",
              "[5 rows x 8 columns]"
            ]
          },
          "metadata": {
            "tags": []
          },
          "execution_count": 271
        }
      ]
    },
    {
      "cell_type": "code",
      "metadata": {
        "colab": {
          "base_uri": "https://localhost:8080/"
        },
        "id": "_6vqNiEHvbDo",
        "outputId": "4da4e483-f67b-4b6d-edc5-6c2832d27b7d"
      },
      "source": [
        "from sklearn.model_selection import train_test_split\r\n",
        "\r\n",
        "# 学習データとテストデータに分ける\r\n",
        "X_train, X_test, y_train, y_test = train_test_split(\r\n",
        "    X, y, test_size=0.2, random_state=0, stratify=y )\r\n",
        "\r\n",
        "\r\n",
        "print('X = ', X.shape)\r\n",
        "print('y = ', y.shape)\r\n",
        "print('test = ', test.shape)\r\n",
        "print('X_train = ', X_train.shape)\r\n",
        "print('X_test = ', X_test.shape)\r\n",
        "print('y_train = ', y_train.shape)\r\n",
        "print('y_test = ', y_test.shape)"
      ],
      "execution_count": 272,
      "outputs": [
        {
          "output_type": "stream",
          "text": [
            "X =  (3000, 8)\n",
            "y =  (3000,)\n",
            "test =  (2000, 8)\n",
            "X_train =  (2400, 8)\n",
            "X_test =  (600, 8)\n",
            "y_train =  (2400,)\n",
            "y_test =  (600,)\n"
          ],
          "name": "stdout"
        }
      ]
    },
    {
      "cell_type": "markdown",
      "metadata": {
        "id": "fu5PwOELxVpl"
      },
      "source": [
        "## xgboost(単体 パラメーターはDefult)"
      ]
    },
    {
      "cell_type": "code",
      "metadata": {
        "colab": {
          "base_uri": "https://localhost:8080/"
        },
        "id": "zJtctCpIxZuW",
        "outputId": "a65145f7-af26-41cf-e003-0066b1bf3253"
      },
      "source": [
        "import xgboost as xgb\r\n",
        "from sklearn.metrics import accuracy_score\r\n",
        "\r\n",
        "\r\n",
        "# パラメータ設定\r\n",
        "params = {\r\n",
        "    \"objective\": \"binary:logistic\",\r\n",
        "    \"evel_metric\": \"auc\",\r\n",
        "    \"eta\": 0.3,\r\n",
        "    \"max_depth\": 6,                    \r\n",
        "    \"subsample\": 1,                  \r\n",
        "    \"colsample_bytree\":1 ,\r\n",
        "    \"silent\" : 1\r\n",
        "}\r\n",
        "\r\n",
        "# 訓練・テストデータの設定\r\n",
        "#\r\n",
        "dtrain = xgb.DMatrix(X_train, label=y_train)\r\n",
        "dtest = xgb.DMatrix(X_test, label=y_test)\r\n",
        "\r\n",
        "# モデル作成\r\n",
        "bst = xgb.train(params=params,\r\n",
        "                  dtrain=dtrain,\r\n",
        "                  num_boost_round=100,\r\n",
        "                  early_stopping_rounds=10,\r\n",
        "                  evals=[(dtest, 'test')]\r\n",
        "                  ) \r\n",
        "\r\n",
        "# 検証用データが各クラスに分類される確率を計算する\r\n",
        "preds = bst.predict(dtest, ntree_limit=bst.best_ntree_limit)\r\n",
        "# しきい値 0.5 で 0, 1 に丸める\r\n",
        "pred = np.where(preds > 0.5, 1, 0)\r\n",
        "# 精度 (Accuracy) を検証する\r\n",
        "acc = accuracy_score(y_test, pred)\r\n",
        "print('Accuracy:', acc)"
      ],
      "execution_count": 273,
      "outputs": [
        {
          "output_type": "stream",
          "text": [
            "[0]\ttest-error:0.228333\n",
            "Will train until test-error hasn't improved in 10 rounds.\n",
            "[1]\ttest-error:0.211667\n",
            "[2]\ttest-error:0.216667\n",
            "[3]\ttest-error:0.215\n",
            "[4]\ttest-error:0.206667\n",
            "[5]\ttest-error:0.223333\n",
            "[6]\ttest-error:0.215\n",
            "[7]\ttest-error:0.216667\n",
            "[8]\ttest-error:0.225\n",
            "[9]\ttest-error:0.225\n",
            "[10]\ttest-error:0.225\n",
            "[11]\ttest-error:0.226667\n",
            "[12]\ttest-error:0.228333\n",
            "[13]\ttest-error:0.226667\n",
            "[14]\ttest-error:0.225\n",
            "Stopping. Best iteration:\n",
            "[4]\ttest-error:0.206667\n",
            "\n",
            "Accuracy: 0.7933333333333333\n"
          ],
          "name": "stdout"
        }
      ]
    },
    {
      "cell_type": "code",
      "metadata": {
        "colab": {
          "base_uri": "https://localhost:8080/"
        },
        "id": "jiO10Rr-1B2g",
        "outputId": "a5df3f90-ca9a-4ebf-d481-b31150ed0de3"
      },
      "source": [
        "from sklearn.model_selection import train_test_split\r\n",
        "\r\n",
        "# 学習データとテストデータに分ける\r\n",
        "X_train, X_test, y_train, y_test = train_test_split(\r\n",
        "    X, y, test_size=0.2, random_state=0, stratify=y )\r\n",
        "\r\n",
        "# データを格納する\r\n",
        "# テスト用\r\n",
        "xgb_test = xgb.DMatrix(X_test, label=y_test)\r\n",
        "\r\n",
        "# 5-fold CVモデルの学習\r\n",
        "from sklearn.model_selection import KFold\r\n",
        "from sklearn.metrics import log_loss\r\n",
        "from sklearn.metrics import accuracy_score\r\n",
        "\r\n",
        "n_splits = 5\r\n",
        "kf = KFold(n_splits=n_splits, shuffle=True, random_state=0)\r\n",
        "\r\n",
        "# 5つのモデルを保存するリストの初期化\r\n",
        "models = []\r\n",
        "#accuracy、loglossを保存するNumPy配列の初期化\r\n",
        "accuracies = np.array([])\r\n",
        "loglosses = np.array([])\r\n",
        "\r\n",
        "for fold_, (train_index, eval_index) in enumerate(kf.split(X_train, y_train)):    \r\n",
        "    print(f'fold{fold_ + 1} start')\r\n",
        "    X_train_cv = X_train.iloc[train_index]\r\n",
        "    y_train_cv = y_train.iloc[train_index]\r\n",
        "    X_eval_cv = X_train.iloc[eval_index]\r\n",
        "    y_eval_cv = y_train.iloc[eval_index]\r\n",
        "    \r\n",
        "    # 学習用\r\n",
        "    xgb_train = xgb.DMatrix(X_train_cv, label=y_train_cv)\r\n",
        "\r\n",
        "    # 検証用\r\n",
        "    xgb_eval = xgb.DMatrix(X_eval_cv, label=y_eval_cv)\r\n",
        "   \r\n",
        "    \r\n",
        "    # パラメータを設定(defult)\r\n",
        "    xgb_params = {\r\n",
        "        \"objective\": \"binary:logistic\",\r\n",
        "        \"evel_metric\": \"auc\",\r\n",
        "        \"eta\": 0.3,\r\n",
        "        \"max_depth\": 6,                    \r\n",
        "        \"subsample\": 1,                  \r\n",
        "        \"colsample_bytree\":1 ,\r\n",
        "        \"silent\" : 1\r\n",
        "    }  \r\n",
        "    \r\n",
        "    # 学習\r\n",
        "    evals = [(xgb_train, 'train'), (xgb_eval, 'eval')] # 学習に用いる検証用データ\r\n",
        "    evaluation_results = {}                            # 学習の経過を保存する箱\r\n",
        "    bst = xgb.train(xgb_params,                        # 上記で設定したパラメーター\r\n",
        "                    xgb_train,                         # 使用するデータセット\r\n",
        "                    num_boost_round=500,               # 学習の回数\r\n",
        "                    early_stopping_rounds=10,          # アーリーストッピング\r\n",
        "                    evals=evals,                       # 上記で設定した検証用データ\r\n",
        "                    evals_result=evaluation_results,   # 上記で設定した箱\r\n",
        "                    verbose_eval=0                     # 学習の経過の表示(非表示)\r\n",
        "                    ) \r\n",
        "    \r\n",
        "    # テストデータで予測する\r\n",
        "    y_pred = bst.predict(xgb_test, ntree_limit=bst.best_ntree_limit)\r\n",
        "        \r\n",
        "    # しきい値 0.5 で 0, 1 に丸める\r\n",
        "    pred = np.where(y_pred > 0.5, 1, 0)\r\n",
        "    \r\n",
        "    # 精度 (Accuracy) を検証する\r\n",
        "    accuracy = accuracy_score(y_test, pred)\r\n",
        "\r\n",
        "    # Logloss を計算する\r\n",
        "    logloss = log_loss(y_test, y_pred)\r\n",
        "    \r\n",
        "    print('accuracy:', accuracy, 'logloss: ', logloss)\r\n",
        "    \r\n",
        "    # 学習が終わったモデルをリストに入れておく\r\n",
        "    models.append(bst) \r\n",
        "    # 学習結果をNumPy配列に入れておく\r\n",
        "    accuracies = np.append(accuracies, accuracy)\r\n",
        "    loglosses = np.append(loglosses, logloss)\r\n",
        "    \r\n",
        "# 正解ラベルの確率とLogloss（平均値）\r\n",
        "print('accuracy_ave: ', np.mean(accuracies), 'logloss_ave: ', np.mean(loglosses))"
      ],
      "execution_count": 274,
      "outputs": [
        {
          "output_type": "stream",
          "text": [
            "fold1 start\n",
            "accuracy: 0.775 logloss:  0.49967417545616627\n",
            "fold2 start\n",
            "accuracy: 0.7666666666666667 logloss:  0.4853709570566813\n",
            "fold3 start\n",
            "accuracy: 0.7616666666666667 logloss:  0.47248687341964496\n",
            "fold4 start\n",
            "accuracy: 0.7766666666666666 logloss:  0.48789881884120406\n",
            "fold5 start\n",
            "accuracy: 0.7933333333333333 logloss:  0.45540913836409647\n",
            "accuracy_ave:  0.7746666666666667 logloss_ave:  0.4801679926275586\n"
          ],
          "name": "stdout"
        }
      ]
    },
    {
      "cell_type": "code",
      "metadata": {
        "colab": {
          "base_uri": "https://localhost:8080/"
        },
        "id": "mTr4QgsQ3n6K",
        "outputId": "3ef932bd-a831-4e40-88a3-41a04eb92ecf"
      },
      "source": [
        "#グリッドサーチでよいパラメータを調べる　例として'max_depth'　'eta'\r\n",
        "\r\n",
        "gridsearch_params = [\r\n",
        "    (max_depth, eta)\r\n",
        "    for max_depth in [3, 4, 5, 6, 7, 8, 9, 10]\r\n",
        "    for eta in [0.05, 0.04, 0.03, 0.02, 0.01, 0.1, 0.2, 0.3, 0.4, 0.5]\r\n",
        "]\r\n",
        "gridsearch_params"
      ],
      "execution_count": 275,
      "outputs": [
        {
          "output_type": "execute_result",
          "data": {
            "text/plain": [
              "[(3, 0.05),\n",
              " (3, 0.04),\n",
              " (3, 0.03),\n",
              " (3, 0.02),\n",
              " (3, 0.01),\n",
              " (3, 0.1),\n",
              " (3, 0.2),\n",
              " (3, 0.3),\n",
              " (3, 0.4),\n",
              " (3, 0.5),\n",
              " (4, 0.05),\n",
              " (4, 0.04),\n",
              " (4, 0.03),\n",
              " (4, 0.02),\n",
              " (4, 0.01),\n",
              " (4, 0.1),\n",
              " (4, 0.2),\n",
              " (4, 0.3),\n",
              " (4, 0.4),\n",
              " (4, 0.5),\n",
              " (5, 0.05),\n",
              " (5, 0.04),\n",
              " (5, 0.03),\n",
              " (5, 0.02),\n",
              " (5, 0.01),\n",
              " (5, 0.1),\n",
              " (5, 0.2),\n",
              " (5, 0.3),\n",
              " (5, 0.4),\n",
              " (5, 0.5),\n",
              " (6, 0.05),\n",
              " (6, 0.04),\n",
              " (6, 0.03),\n",
              " (6, 0.02),\n",
              " (6, 0.01),\n",
              " (6, 0.1),\n",
              " (6, 0.2),\n",
              " (6, 0.3),\n",
              " (6, 0.4),\n",
              " (6, 0.5),\n",
              " (7, 0.05),\n",
              " (7, 0.04),\n",
              " (7, 0.03),\n",
              " (7, 0.02),\n",
              " (7, 0.01),\n",
              " (7, 0.1),\n",
              " (7, 0.2),\n",
              " (7, 0.3),\n",
              " (7, 0.4),\n",
              " (7, 0.5),\n",
              " (8, 0.05),\n",
              " (8, 0.04),\n",
              " (8, 0.03),\n",
              " (8, 0.02),\n",
              " (8, 0.01),\n",
              " (8, 0.1),\n",
              " (8, 0.2),\n",
              " (8, 0.3),\n",
              " (8, 0.4),\n",
              " (8, 0.5),\n",
              " (9, 0.05),\n",
              " (9, 0.04),\n",
              " (9, 0.03),\n",
              " (9, 0.02),\n",
              " (9, 0.01),\n",
              " (9, 0.1),\n",
              " (9, 0.2),\n",
              " (9, 0.3),\n",
              " (9, 0.4),\n",
              " (9, 0.5),\n",
              " (10, 0.05),\n",
              " (10, 0.04),\n",
              " (10, 0.03),\n",
              " (10, 0.02),\n",
              " (10, 0.01),\n",
              " (10, 0.1),\n",
              " (10, 0.2),\n",
              " (10, 0.3),\n",
              " (10, 0.4),\n",
              " (10, 0.5)]"
            ]
          },
          "metadata": {
            "tags": []
          },
          "execution_count": 275
        }
      ]
    },
    {
      "cell_type": "code",
      "metadata": {
        "colab": {
          "base_uri": "https://localhost:8080/"
        },
        "id": "7WNRz5ec3t0d",
        "outputId": "b776bb14-0fd5-465d-9546-c0ff855a83e5"
      },
      "source": [
        "\r\n",
        "min_logless = float('Inf')\r\n",
        "min_score = float('Inf')\r\n",
        "\r\n",
        "best_param = []\r\n",
        "min_train_error_mean = float('Inf')\r\n",
        "min_test_error_mean = float('Inf')\r\n",
        "\r\n",
        "\r\n",
        "for max_depth, eta in gridsearch_params:\r\n",
        "    print('max_depth={}, eta={}'.format(max_depth, eta))\r\n",
        "    \r\n",
        "    params['max_depth'] = max_depth\r\n",
        "    params['eta'] = eta\r\n",
        "    \r\n",
        "    cv_results = xgb.cv(\r\n",
        "        params,\r\n",
        "        dtrain,\r\n",
        " #       num_boost_round=1000, \r\n",
        "        num_boost_round=10,\r\n",
        "        seed=0,\r\n",
        "        nfold=5,\r\n",
        " #       metrics={'rmse'},\r\n",
        "        early_stopping_rounds=5\r\n",
        "    )\r\n",
        "    \r\n",
        "    train_error_mean = cv_results['train-error-mean'].min()\r\n",
        "    test_error_mean = cv_results['test-error-mean'].min()\r\n",
        "    boost_rounds = cv_results['train-error-mean'].argmin()\r\n",
        "    print('train-error-mean {} train-error-mean {} for {} rounds'.format(train_error_mean, test_error_mean, boost_rounds))\r\n",
        "    if train_error_mean < min_train_error_mean:\r\n",
        "        min_train_error_mean = train_error_mean\r\n",
        "        min_test_error_mean = test_error_mean\r\n",
        "        best_param = (max_depth, eta)\r\n",
        "    \r\n",
        "print('Best params {}, train_error_mean {},  test_error_mean {}'.format(best_param, train_error_mean, test_error_mean))"
      ],
      "execution_count": 276,
      "outputs": [
        {
          "output_type": "stream",
          "text": [
            "max_depth=3, eta=0.05\n",
            "train-error-mean 0.2205208 train-error-mean 0.22583319999999998 for 0 rounds\n",
            "max_depth=3, eta=0.04\n",
            "train-error-mean 0.21781240000000004 train-error-mean 0.225 for 8 rounds\n",
            "max_depth=3, eta=0.03\n",
            "train-error-mean 0.2205208 train-error-mean 0.22583319999999998 for 0 rounds\n",
            "max_depth=3, eta=0.02\n",
            "train-error-mean 0.2205208 train-error-mean 0.22583319999999998 for 0 rounds\n",
            "max_depth=3, eta=0.01\n",
            "train-error-mean 0.2205208 train-error-mean 0.22583319999999998 for 0 rounds\n",
            "max_depth=3, eta=0.1\n",
            "train-error-mean 0.21479179999999998 train-error-mean 0.22333340000000002 for 9 rounds\n",
            "max_depth=3, eta=0.2\n",
            "train-error-mean 0.21458339999999998 train-error-mean 0.2245834 for 4 rounds\n",
            "max_depth=3, eta=0.3\n",
            "train-error-mean 0.21510440000000003 train-error-mean 0.2245834 for 2 rounds\n",
            "max_depth=3, eta=0.4\n",
            "train-error-mean 0.2205208 train-error-mean 0.22583319999999998 for 0 rounds\n",
            "max_depth=3, eta=0.5\n",
            "train-error-mean 0.2205208 train-error-mean 0.22583319999999998 for 0 rounds\n",
            "max_depth=4, eta=0.05\n",
            "train-error-mean 0.20624979999999998 train-error-mean 0.2283334 for 9 rounds\n",
            "max_depth=4, eta=0.04\n",
            "train-error-mean 0.2081252 train-error-mean 0.2291668 for 9 rounds\n",
            "max_depth=4, eta=0.03\n",
            "train-error-mean 0.2107292 train-error-mean 0.22916660000000003 for 0 rounds\n",
            "max_depth=4, eta=0.02\n",
            "train-error-mean 0.2107292 train-error-mean 0.22958340000000002 for 0 rounds\n",
            "max_depth=4, eta=0.01\n",
            "train-error-mean 0.2107292 train-error-mean 0.22916659999999997 for 0 rounds\n",
            "max_depth=4, eta=0.1\n",
            "train-error-mean 0.20177079999999997 train-error-mean 0.2245834 for 9 rounds\n",
            "max_depth=4, eta=0.2\n",
            "train-error-mean 0.1934374 train-error-mean 0.22541659999999997 for 9 rounds\n",
            "max_depth=4, eta=0.3\n",
            "train-error-mean 0.1992708 train-error-mean 0.22499999999999995 for 3 rounds\n",
            "max_depth=4, eta=0.4\n",
            "train-error-mean 0.1848958 train-error-mean 0.2241666 for 9 rounds\n",
            "max_depth=4, eta=0.5\n",
            "train-error-mean 0.1947916 train-error-mean 0.22708320000000004 for 4 rounds\n",
            "max_depth=5, eta=0.05\n",
            "train-error-mean 0.19614579999999998 train-error-mean 0.2333332 for 9 rounds\n",
            "max_depth=5, eta=0.04\n",
            "train-error-mean 0.19854160000000004 train-error-mean 0.2312498 for 9 rounds\n",
            "max_depth=5, eta=0.03\n",
            "train-error-mean 0.199896 train-error-mean 0.2320834 for 9 rounds\n",
            "max_depth=5, eta=0.02\n",
            "train-error-mean 0.20260419999999998 train-error-mean 0.23291659999999997 for 4 rounds\n",
            "max_depth=5, eta=0.01\n",
            "train-error-mean 0.2032292 train-error-mean 0.2341666 for 8 rounds\n",
            "max_depth=5, eta=0.1\n",
            "train-error-mean 0.185521 train-error-mean 0.23333339999999997 for 8 rounds\n",
            "max_depth=5, eta=0.2\n",
            "train-error-mean 0.179479 train-error-mean 0.22749999999999998 for 8 rounds\n",
            "max_depth=5, eta=0.3\n",
            "train-error-mean 0.17177080000000003 train-error-mean 0.2291668 for 9 rounds\n",
            "max_depth=5, eta=0.4\n",
            "train-error-mean 0.1835416 train-error-mean 0.23125 for 3 rounds\n",
            "max_depth=5, eta=0.5\n",
            "train-error-mean 0.18083320000000003 train-error-mean 0.23125 for 3 rounds\n",
            "max_depth=6, eta=0.05\n",
            "train-error-mean 0.184896 train-error-mean 0.23541700000000004 for 9 rounds\n",
            "max_depth=6, eta=0.04\n",
            "train-error-mean 0.1879168 train-error-mean 0.23416680000000004 for 9 rounds\n",
            "max_depth=6, eta=0.03\n",
            "train-error-mean 0.19114579999999998 train-error-mean 0.23541660000000003 for 9 rounds\n",
            "max_depth=6, eta=0.02\n",
            "train-error-mean 0.19312500000000002 train-error-mean 0.23541660000000003 for 9 rounds\n",
            "max_depth=6, eta=0.01\n",
            "train-error-mean 0.1967708 train-error-mean 0.2370832 for 7 rounds\n",
            "max_depth=6, eta=0.1\n",
            "train-error-mean 0.17718759999999997 train-error-mean 0.2320832 for 9 rounds\n",
            "max_depth=6, eta=0.2\n",
            "train-error-mean 0.1780208 train-error-mean 0.23499979999999998 for 3 rounds\n",
            "max_depth=6, eta=0.3\n",
            "train-error-mean 0.149896 train-error-mean 0.23374999999999999 for 9 rounds\n",
            "max_depth=6, eta=0.4\n",
            "train-error-mean 0.14572939999999998 train-error-mean 0.23583339999999997 for 9 rounds\n",
            "max_depth=6, eta=0.5\n",
            "train-error-mean 0.1713542 train-error-mean 0.2383334 for 2 rounds\n",
            "max_depth=7, eta=0.05\n",
            "train-error-mean 0.1733332 train-error-mean 0.24041679999999999 for 9 rounds\n",
            "max_depth=7, eta=0.04\n",
            "train-error-mean 0.1760416 train-error-mean 0.2416666 for 8 rounds\n",
            "max_depth=7, eta=0.03\n",
            "train-error-mean 0.1851042 train-error-mean 0.2445834 for 3 rounds\n",
            "max_depth=7, eta=0.02\n",
            "train-error-mean 0.1840626 train-error-mean 0.2429168 for 9 rounds\n",
            "max_depth=7, eta=0.01\n",
            "train-error-mean 0.18562499999999998 train-error-mean 0.2445834 for 9 rounds\n",
            "max_depth=7, eta=0.1\n",
            "train-error-mean 0.16510419999999998 train-error-mean 0.2408334 for 9 rounds\n",
            "max_depth=7, eta=0.2\n",
            "train-error-mean 0.18062499999999998 train-error-mean 0.2395832 for 1 rounds\n",
            "max_depth=7, eta=0.3\n",
            "train-error-mean 0.17875000000000002 train-error-mean 0.2354168 for 1 rounds\n",
            "max_depth=7, eta=0.4\n",
            "train-error-mean 0.17239580000000002 train-error-mean 0.23875000000000002 for 1 rounds\n",
            "max_depth=7, eta=0.5\n",
            "train-error-mean 0.11895839999999999 train-error-mean 0.23833319999999997 for 9 rounds\n",
            "max_depth=8, eta=0.05\n",
            "train-error-mean 0.1739584 train-error-mean 0.24291680000000002 for 2 rounds\n",
            "max_depth=8, eta=0.04\n",
            "train-error-mean 0.1744792 train-error-mean 0.24375019999999997 for 3 rounds\n",
            "max_depth=8, eta=0.03\n",
            "train-error-mean 0.1770834 train-error-mean 0.24458319999999997 for 1 rounds\n",
            "max_depth=8, eta=0.02\n",
            "train-error-mean 0.1746876 train-error-mean 0.2441666 for 9 rounds\n",
            "max_depth=8, eta=0.01\n",
            "train-error-mean 0.17750000000000002 train-error-mean 0.24541659999999998 for 1 rounds\n",
            "max_depth=8, eta=0.1\n",
            "train-error-mean 0.164896 train-error-mean 0.2408334 for 3 rounds\n",
            "max_depth=8, eta=0.2\n",
            "train-error-mean 0.1633332 train-error-mean 0.2429168 for 2 rounds\n",
            "max_depth=8, eta=0.3\n",
            "train-error-mean 0.1460416 train-error-mean 0.2387502 for 3 rounds\n",
            "max_depth=8, eta=0.4\n",
            "train-error-mean 0.1373958 train-error-mean 0.24291659999999998 for 4 rounds\n",
            "max_depth=8, eta=0.5\n",
            "train-error-mean 0.1040626 train-error-mean 0.2420834 for 9 rounds\n",
            "max_depth=9, eta=0.05\n",
            "train-error-mean 0.1532292 train-error-mean 0.24833339999999998 for 9 rounds\n",
            "max_depth=9, eta=0.04\n",
            "train-error-mean 0.1566666 train-error-mean 0.24749999999999997 for 9 rounds\n",
            "max_depth=9, eta=0.03\n",
            "train-error-mean 0.164375 train-error-mean 0.2479168 for 3 rounds\n",
            "max_depth=9, eta=0.02\n",
            "train-error-mean 0.1634374 train-error-mean 0.2466668 for 8 rounds\n",
            "max_depth=9, eta=0.01\n",
            "train-error-mean 0.16656239999999997 train-error-mean 0.2466666 for 2 rounds\n",
            "max_depth=9, eta=0.1\n",
            "train-error-mean 0.15541660000000002 train-error-mean 0.24541659999999998 for 4 rounds\n",
            "max_depth=9, eta=0.2\n",
            "train-error-mean 0.11854139999999999 train-error-mean 0.24749999999999997 for 9 rounds\n",
            "max_depth=9, eta=0.3\n",
            "train-error-mean 0.1558332 train-error-mean 0.24416679999999996 for 1 rounds\n",
            "max_depth=9, eta=0.4\n",
            "train-error-mean 0.1398958 train-error-mean 0.24541659999999998 for 2 rounds\n",
            "max_depth=9, eta=0.5\n",
            "train-error-mean 0.0908334 train-error-mean 0.24541660000000004 for 9 rounds\n",
            "max_depth=10, eta=0.05\n",
            "train-error-mean 0.1454166 train-error-mean 0.24791660000000001 for 9 rounds\n",
            "max_depth=10, eta=0.04\n",
            "train-error-mean 0.1537498 train-error-mean 0.2508334 for 3 rounds\n",
            "max_depth=10, eta=0.03\n",
            "train-error-mean 0.150521 train-error-mean 0.2504166 for 9 rounds\n",
            "max_depth=10, eta=0.02\n",
            "train-error-mean 0.1571876 train-error-mean 0.2491666 for 4 rounds\n",
            "max_depth=10, eta=0.01\n",
            "train-error-mean 0.1584374 train-error-mean 0.24833319999999998 for 9 rounds\n",
            "max_depth=10, eta=0.1\n",
            "train-error-mean 0.12989599999999998 train-error-mean 0.24500000000000002 for 9 rounds\n",
            "max_depth=10, eta=0.2\n",
            "train-error-mean 0.1447918 train-error-mean 0.24916679999999997 for 2 rounds\n",
            "max_depth=10, eta=0.3\n",
            "train-error-mean 0.13895839999999998 train-error-mean 0.2483334 for 2 rounds\n",
            "max_depth=10, eta=0.4\n",
            "train-error-mean 0.1302082 train-error-mean 0.2500002 for 2 rounds\n",
            "max_depth=10, eta=0.5\n",
            "train-error-mean 0.1075 train-error-mean 0.2504168 for 4 rounds\n",
            "Best params (9, 0.5), train_error_mean 0.1075,  test_error_mean 0.2504168\n"
          ],
          "name": "stdout"
        }
      ]
    },
    {
      "cell_type": "code",
      "metadata": {
        "colab": {
          "base_uri": "https://localhost:8080/"
        },
        "id": "K487CeYJ4GXT",
        "outputId": "f4dbc565-9d1a-416b-99c5-031cba4d5645"
      },
      "source": [
        "# train_feature, train_tagert を学習データとテストデータに分ける\r\n",
        "X_train, X_test, y_train, y_test = train_test_split(\r\n",
        "    X, y, test_size=0.2, random_state=0, stratify=y )\r\n",
        "\r\n",
        "# データを格納する\r\n",
        "# テスト用\r\n",
        "xgb_test = xgb.DMatrix(X_test, label=y_test)\r\n",
        "\r\n",
        "# 5-fold CVモデルの学習\r\n",
        "from sklearn.model_selection import KFold\r\n",
        "from sklearn.metrics import log_loss\r\n",
        "from sklearn.metrics import accuracy_score\r\n",
        "\r\n",
        "n_splits = 5\r\n",
        "kf = KFold(n_splits=n_splits, shuffle=True, random_state=0)\r\n",
        "\r\n",
        "# 5つのモデルを保存するリストの初期化\r\n",
        "models = []\r\n",
        "#accuracy、loglossを保存するNumPy配列の初期化\r\n",
        "accuracies = np.array([])\r\n",
        "loglosses = np.array([])\r\n",
        "\r\n",
        "for fold_, (train_index, eval_index) in enumerate(kf.split(X_train, y_train)):    \r\n",
        "    print(f'fold{fold_ + 1} start')\r\n",
        "    X_train_cv = X_train.iloc[train_index]\r\n",
        "    y_train_cv = y_train.iloc[train_index]\r\n",
        "    X_eval_cv = X_train.iloc[eval_index]\r\n",
        "    y_eval_cv = y_train.iloc[eval_index]\r\n",
        "    \r\n",
        "    # 学習用\r\n",
        "    xgb_train = xgb.DMatrix(X_train_cv, label=y_train_cv)\r\n",
        "\r\n",
        "    # 検証用\r\n",
        "    xgb_eval = xgb.DMatrix(X_eval_cv, label=y_eval_cv)\r\n",
        "   \r\n",
        "    \r\n",
        "    # パラメータを設定(defult)\r\n",
        "    xgb_params = {\r\n",
        "        \"objective\": \"binary:logistic\",\r\n",
        "        \"evel_metric\": \"auc\",\r\n",
        "        \"eta\":0.5,\r\n",
        "        \"max_depth\": 9,                    \r\n",
        "        \"subsample\": 1,                  \r\n",
        "        \"colsample_bytree\":1 ,\r\n",
        "        \"silent\" : 1\r\n",
        "    }  \r\n",
        "    \r\n",
        "    # 学習\r\n",
        "    evals = [(xgb_train, 'train'), (xgb_eval, 'eval')] # 学習に用いる検証用データ\r\n",
        "    evaluation_results = {}                            # 学習の経過を保存する箱\r\n",
        "    bst = xgb.train(xgb_params,                        # 上記で設定したパラメーター\r\n",
        "                    xgb_train,                         # 使用するデータセット\r\n",
        "                    num_boost_round=500,               # 学習の回数\r\n",
        "                    early_stopping_rounds=10,          # アーリーストッピング\r\n",
        "                    evals=evals,                       # 上記で設定した検証用データ\r\n",
        "                    evals_result=evaluation_results,   # 上記で設定した箱\r\n",
        "                    verbose_eval=0                     # 学習の経過の表示(非表示)\r\n",
        "                    ) \r\n",
        "    \r\n",
        "    # テストデータで予測する\r\n",
        "    y_pred = bst.predict(xgb_test, ntree_limit=bst.best_ntree_limit)\r\n",
        "        \r\n",
        "    # しきい値 0.5 で 0, 1 に丸める\r\n",
        "    pred = np.where(y_pred > 0.5, 1, 0)\r\n",
        "    \r\n",
        "    # 精度 (Accuracy) を検証する\r\n",
        "    accuracy = accuracy_score(y_test, pred)\r\n",
        "\r\n",
        "    # Logloss を計算する\r\n",
        "    logloss = log_loss(y_test, y_pred)\r\n",
        "    \r\n",
        "    print('accuracy:', accuracy, 'logloss: ', logloss)\r\n",
        "    \r\n",
        "    # 学習が終わったモデルをリストに入れておく\r\n",
        "    models.append(bst) \r\n",
        "    # 学習結果をNumPy配列に入れておく\r\n",
        "    accuracies = np.append(accuracies, accuracy)\r\n",
        "    loglosses = np.append(loglosses, logloss)\r\n",
        "    \r\n",
        "# 正解ラベルの確率とLogloss（平均値）\r\n",
        "print('accuracy_ave: ', np.mean(accuracies), 'logloss_ave: ', np.mean(loglosses))"
      ],
      "execution_count": 278,
      "outputs": [
        {
          "output_type": "stream",
          "text": [
            "fold1 start\n",
            "accuracy: 0.7533333333333333 logloss:  0.5227650197440138\n",
            "fold2 start\n",
            "accuracy: 0.755 logloss:  0.5539837482074896\n",
            "fold3 start\n",
            "accuracy: 0.7733333333333333 logloss:  0.5318820925219916\n",
            "fold4 start\n",
            "accuracy: 0.7533333333333333 logloss:  0.5526858707562011\n",
            "fold5 start\n",
            "accuracy: 0.7733333333333333 logloss:  0.4844260938667382\n",
            "accuracy_ave:  0.7616666666666667 logloss_ave:  0.5291485650192869\n"
          ],
          "name": "stdout"
        }
      ]
    }
  ]
}