{
  "nbformat": 4,
  "nbformat_minor": 0,
  "metadata": {
    "colab": {
      "name": "tounyou_xgb.ipynb",
      "provenance": [],
      "authorship_tag": "ABX9TyO0SzHYyVVg7tXjxtI+RNy9",
      "include_colab_link": true
    },
    "kernelspec": {
      "name": "python3",
      "display_name": "Python 3"
    }
  },
  "cells": [
    {
      "cell_type": "markdown",
      "metadata": {
        "id": "view-in-github",
        "colab_type": "text"
      },
      "source": [
        "<a href=\"https://colab.research.google.com/github/chunabayashi0216/new_work/blob/main/tounyou_xgb.ipynb\" target=\"_parent\"><img src=\"https://colab.research.google.com/assets/colab-badge.svg\" alt=\"Open In Colab\"/></a>"
      ]
    },
    {
      "cell_type": "code",
      "metadata": {
        "colab": {
          "base_uri": "https://localhost:8080/"
        },
        "id": "o1wLBzvSa1aT",
        "outputId": "7116f9fb-5cc8-4eba-c8ef-1910cce685f7"
      },
      "source": [
        "pip install japanize-matplotlib"
      ],
      "execution_count": 34,
      "outputs": [
        {
          "output_type": "stream",
          "text": [
            "Requirement already satisfied: japanize-matplotlib in /usr/local/lib/python3.7/dist-packages (1.1.3)\n",
            "Requirement already satisfied: matplotlib in /usr/local/lib/python3.7/dist-packages (from japanize-matplotlib) (3.2.2)\n",
            "Requirement already satisfied: numpy>=1.11 in /usr/local/lib/python3.7/dist-packages (from matplotlib->japanize-matplotlib) (1.19.5)\n",
            "Requirement already satisfied: kiwisolver>=1.0.1 in /usr/local/lib/python3.7/dist-packages (from matplotlib->japanize-matplotlib) (1.3.1)\n",
            "Requirement already satisfied: python-dateutil>=2.1 in /usr/local/lib/python3.7/dist-packages (from matplotlib->japanize-matplotlib) (2.8.1)\n",
            "Requirement already satisfied: pyparsing!=2.0.4,!=2.1.2,!=2.1.6,>=2.0.1 in /usr/local/lib/python3.7/dist-packages (from matplotlib->japanize-matplotlib) (2.4.7)\n",
            "Requirement already satisfied: cycler>=0.10 in /usr/local/lib/python3.7/dist-packages (from matplotlib->japanize-matplotlib) (0.10.0)\n",
            "Requirement already satisfied: six>=1.5 in /usr/local/lib/python3.7/dist-packages (from python-dateutil>=2.1->matplotlib->japanize-matplotlib) (1.15.0)\n"
          ],
          "name": "stdout"
        }
      ]
    },
    {
      "cell_type": "code",
      "metadata": {
        "colab": {
          "base_uri": "https://localhost:8080/",
          "height": 17
        },
        "id": "NGr7Ho6Ca32_",
        "outputId": "343e9c17-fa5a-43bb-becd-cac570b5d015"
      },
      "source": [
        "# Load in our libraries\r\n",
        "import pandas as pd\r\n",
        "import numpy as np\r\n",
        "import re\r\n",
        "import sklearn\r\n",
        "import xgboost as xgb\r\n",
        "import seaborn as sns\r\n",
        "import matplotlib.pyplot as plt\r\n",
        "import japanize_matplotlib\r\n",
        "%matplotlib inline\r\n",
        "\r\n",
        "import plotly.offline as py\r\n",
        "py.init_notebook_mode(connected=True)\r\n",
        "import plotly.graph_objs as go\r\n",
        "import plotly.tools as tls\r\n",
        "\r\n",
        "import warnings\r\n",
        "warnings.filterwarnings('ignore')"
      ],
      "execution_count": 2,
      "outputs": [
        {
          "output_type": "display_data",
          "data": {
            "text/html": [
              "        <script type=\"text/javascript\">\n",
              "        window.PlotlyConfig = {MathJaxConfig: 'local'};\n",
              "        if (window.MathJax) {MathJax.Hub.Config({SVG: {font: \"STIX-Web\"}});}\n",
              "        if (typeof require !== 'undefined') {\n",
              "        require.undef(\"plotly\");\n",
              "        requirejs.config({\n",
              "            paths: {\n",
              "                'plotly': ['https://cdn.plot.ly/plotly-latest.min']\n",
              "            }\n",
              "        });\n",
              "        require(['plotly'], function(Plotly) {\n",
              "            window._Plotly = Plotly;\n",
              "        });\n",
              "        }\n",
              "        </script>\n",
              "        "
            ]
          },
          "metadata": {
            "tags": []
          }
        }
      ]
    },
    {
      "cell_type": "code",
      "metadata": {
        "id": "lUFWQXEBbGJN"
      },
      "source": [
        "# Load in the train and test datasets\r\n",
        "train_raw = pd.read_csv('/content/train.csv') #元の学習データ\r\n",
        "test_raw = pd.read_csv('/content/test.csv') #元のテストデータ"
      ],
      "execution_count": 51,
      "outputs": []
    },
    {
      "cell_type": "code",
      "metadata": {
        "colab": {
          "base_uri": "https://localhost:8080/"
        },
        "id": "gNOeOA5UbpwT",
        "outputId": "e1deea01-c9ce-477a-e500-cf444a9b1fdc"
      },
      "source": [
        "print('The size of the df_train data:' + str(train_raw.shape))\r\n",
        "print('The size of the df_test data:' + str(test_raw.shape))\r\n"
      ],
      "execution_count": 52,
      "outputs": [
        {
          "output_type": "stream",
          "text": [
            "The size of the df_train data:(3000, 10)\n",
            "The size of the df_test data:(2000, 9)\n"
          ],
          "name": "stdout"
        }
      ]
    },
    {
      "cell_type": "code",
      "metadata": {
        "id": "EjEtEkDFb43t"
      },
      "source": [
        "df_train = train_raw.copy() #trainデータのコピー\r\n",
        "df_test = test_raw.copy() #testデータのコピー"
      ],
      "execution_count": 53,
      "outputs": []
    },
    {
      "cell_type": "code",
      "metadata": {
        "id": "GsMufc0JcMGt"
      },
      "source": [
        "df_train['train_or_test'] = 'train' #trainデータの識別カラム追加 \r\n",
        "df_test['train_or_test'] = 'test'   #testデータの 識別カラム追加  \r\n",
        "df_test['Outcome'] = 9              #testデータに'Y'を仮置き"
      ],
      "execution_count": 54,
      "outputs": []
    },
    {
      "cell_type": "code",
      "metadata": {
        "id": "reyATDHBchFt"
      },
      "source": [
        "df_all = pd.concat([df_train,df_test],sort=False,axis=0).reset_index(drop=True)"
      ],
      "execution_count": 55,
      "outputs": []
    },
    {
      "cell_type": "code",
      "metadata": {
        "colab": {
          "base_uri": "https://localhost:8080/",
          "height": 195
        },
        "id": "Me45wXvtciFe",
        "outputId": "cb7e32b3-d7a8-4607-9687-ab3370112395"
      },
      "source": [
        "df_all.head()"
      ],
      "execution_count": 56,
      "outputs": [
        {
          "output_type": "execute_result",
          "data": {
            "text/html": [
              "<div>\n",
              "<style scoped>\n",
              "    .dataframe tbody tr th:only-of-type {\n",
              "        vertical-align: middle;\n",
              "    }\n",
              "\n",
              "    .dataframe tbody tr th {\n",
              "        vertical-align: top;\n",
              "    }\n",
              "\n",
              "    .dataframe thead th {\n",
              "        text-align: right;\n",
              "    }\n",
              "</style>\n",
              "<table border=\"1\" class=\"dataframe\">\n",
              "  <thead>\n",
              "    <tr style=\"text-align: right;\">\n",
              "      <th></th>\n",
              "      <th>index</th>\n",
              "      <th>Pregnancies</th>\n",
              "      <th>Glucose</th>\n",
              "      <th>BloodPressure</th>\n",
              "      <th>SkinThickness</th>\n",
              "      <th>Insulin</th>\n",
              "      <th>BMI</th>\n",
              "      <th>DiabetesPedigreeFunction</th>\n",
              "      <th>Age</th>\n",
              "      <th>Outcome</th>\n",
              "      <th>train_or_test</th>\n",
              "    </tr>\n",
              "  </thead>\n",
              "  <tbody>\n",
              "    <tr>\n",
              "      <th>0</th>\n",
              "      <td>200</td>\n",
              "      <td>9</td>\n",
              "      <td>125</td>\n",
              "      <td>74</td>\n",
              "      <td>0</td>\n",
              "      <td>0</td>\n",
              "      <td>28.536910</td>\n",
              "      <td>0.444902</td>\n",
              "      <td>45</td>\n",
              "      <td>1</td>\n",
              "      <td>train</td>\n",
              "    </tr>\n",
              "    <tr>\n",
              "      <th>1</th>\n",
              "      <td>3832</td>\n",
              "      <td>4</td>\n",
              "      <td>109</td>\n",
              "      <td>80</td>\n",
              "      <td>0</td>\n",
              "      <td>0</td>\n",
              "      <td>28.047673</td>\n",
              "      <td>0.238243</td>\n",
              "      <td>22</td>\n",
              "      <td>0</td>\n",
              "      <td>train</td>\n",
              "    </tr>\n",
              "    <tr>\n",
              "      <th>2</th>\n",
              "      <td>4927</td>\n",
              "      <td>4</td>\n",
              "      <td>88</td>\n",
              "      <td>78</td>\n",
              "      <td>39</td>\n",
              "      <td>0</td>\n",
              "      <td>52.371341</td>\n",
              "      <td>0.279471</td>\n",
              "      <td>26</td>\n",
              "      <td>0</td>\n",
              "      <td>train</td>\n",
              "    </tr>\n",
              "    <tr>\n",
              "      <th>3</th>\n",
              "      <td>4088</td>\n",
              "      <td>9</td>\n",
              "      <td>125</td>\n",
              "      <td>74</td>\n",
              "      <td>0</td>\n",
              "      <td>0</td>\n",
              "      <td>40.062688</td>\n",
              "      <td>0.203922</td>\n",
              "      <td>45</td>\n",
              "      <td>0</td>\n",
              "      <td>train</td>\n",
              "    </tr>\n",
              "    <tr>\n",
              "      <th>4</th>\n",
              "      <td>3644</td>\n",
              "      <td>5</td>\n",
              "      <td>107</td>\n",
              "      <td>78</td>\n",
              "      <td>44</td>\n",
              "      <td>284</td>\n",
              "      <td>52.935068</td>\n",
              "      <td>0.284959</td>\n",
              "      <td>45</td>\n",
              "      <td>1</td>\n",
              "      <td>train</td>\n",
              "    </tr>\n",
              "  </tbody>\n",
              "</table>\n",
              "</div>"
            ],
            "text/plain": [
              "   index  Pregnancies  Glucose  ...  Age  Outcome  train_or_test\n",
              "0    200            9      125  ...   45        1          train\n",
              "1   3832            4      109  ...   22        0          train\n",
              "2   4927            4       88  ...   26        0          train\n",
              "3   4088            9      125  ...   45        0          train\n",
              "4   3644            5      107  ...   45        1          train\n",
              "\n",
              "[5 rows x 11 columns]"
            ]
          },
          "metadata": {
            "tags": []
          },
          "execution_count": 56
        }
      ]
    },
    {
      "cell_type": "markdown",
      "metadata": {
        "id": "9uQKZ8Brc0W1"
      },
      "source": [
        "\r\n",
        "*   0\tindex\t\t\t\tBMIint\tインデックスとして使用\r\n",
        "*   1\tPregnancies\t\t\tint\t妊娠した回数\r\n",
        "*   2\tGlucose\t\t\t\tint\t経口ブドウ糖負荷試験における2時間の血漿ブドウ糖濃度\r\n",
        "*   3\tBloodPressure\t\t\tint\t拡張期血圧\r\n",
        "*   4\tSkinThickness\t\t\tint\t皮膚のひだの厚さ\r\n",
        "*   5\tInsulin\t\t\t\tint\t血清インスリン\r\n",
        "*   6\tBMI\t\t\t\tfloat\tBMI\r\n",
        "*   7\tAge\t\t\t\tint\t年齢\r\n",
        "*   8\tDiabetesPedigreeFunction\tfloat\t糖尿病血統\r\n",
        "*   9\tOutcome\t\t\t\tint\t糖尿病であるか（糖尿病の場合1、でない場合0）"
      ]
    },
    {
      "cell_type": "code",
      "metadata": {
        "colab": {
          "base_uri": "https://localhost:8080/",
          "height": 304
        },
        "id": "XUzwIuTBck4N",
        "outputId": "a323e568-d53f-4812-e0e6-55f34626e719"
      },
      "source": [
        "df_all.describe() # df_fullの要約統計量"
      ],
      "execution_count": 57,
      "outputs": [
        {
          "output_type": "execute_result",
          "data": {
            "text/html": [
              "<div>\n",
              "<style scoped>\n",
              "    .dataframe tbody tr th:only-of-type {\n",
              "        vertical-align: middle;\n",
              "    }\n",
              "\n",
              "    .dataframe tbody tr th {\n",
              "        vertical-align: top;\n",
              "    }\n",
              "\n",
              "    .dataframe thead th {\n",
              "        text-align: right;\n",
              "    }\n",
              "</style>\n",
              "<table border=\"1\" class=\"dataframe\">\n",
              "  <thead>\n",
              "    <tr style=\"text-align: right;\">\n",
              "      <th></th>\n",
              "      <th>index</th>\n",
              "      <th>Pregnancies</th>\n",
              "      <th>Glucose</th>\n",
              "      <th>BloodPressure</th>\n",
              "      <th>SkinThickness</th>\n",
              "      <th>Insulin</th>\n",
              "      <th>BMI</th>\n",
              "      <th>DiabetesPedigreeFunction</th>\n",
              "      <th>Age</th>\n",
              "      <th>Outcome</th>\n",
              "    </tr>\n",
              "  </thead>\n",
              "  <tbody>\n",
              "    <tr>\n",
              "      <th>count</th>\n",
              "      <td>5000.000000</td>\n",
              "      <td>5000.000000</td>\n",
              "      <td>5000.000000</td>\n",
              "      <td>5000.000000</td>\n",
              "      <td>5000.000000</td>\n",
              "      <td>5000.000000</td>\n",
              "      <td>5000.000000</td>\n",
              "      <td>5000.000000</td>\n",
              "      <td>5000.000000</td>\n",
              "      <td>5000.000000</td>\n",
              "    </tr>\n",
              "    <tr>\n",
              "      <th>mean</th>\n",
              "      <td>2499.500000</td>\n",
              "      <td>3.567800</td>\n",
              "      <td>113.957600</td>\n",
              "      <td>68.752800</td>\n",
              "      <td>11.180000</td>\n",
              "      <td>11.741600</td>\n",
              "      <td>35.347125</td>\n",
              "      <td>0.400987</td>\n",
              "      <td>28.989400</td>\n",
              "      <td>3.743400</td>\n",
              "    </tr>\n",
              "    <tr>\n",
              "      <th>std</th>\n",
              "      <td>1443.520003</td>\n",
              "      <td>3.040535</td>\n",
              "      <td>21.333505</td>\n",
              "      <td>16.268147</td>\n",
              "      <td>14.232446</td>\n",
              "      <td>47.022061</td>\n",
              "      <td>7.496245</td>\n",
              "      <td>0.271619</td>\n",
              "      <td>8.509722</td>\n",
              "      <td>4.305121</td>\n",
              "    </tr>\n",
              "    <tr>\n",
              "      <th>min</th>\n",
              "      <td>0.000000</td>\n",
              "      <td>0.000000</td>\n",
              "      <td>57.000000</td>\n",
              "      <td>0.000000</td>\n",
              "      <td>0.000000</td>\n",
              "      <td>0.000000</td>\n",
              "      <td>0.000775</td>\n",
              "      <td>0.137377</td>\n",
              "      <td>21.000000</td>\n",
              "      <td>0.000000</td>\n",
              "    </tr>\n",
              "    <tr>\n",
              "      <th>25%</th>\n",
              "      <td>1249.750000</td>\n",
              "      <td>1.000000</td>\n",
              "      <td>100.000000</td>\n",
              "      <td>64.000000</td>\n",
              "      <td>0.000000</td>\n",
              "      <td>0.000000</td>\n",
              "      <td>32.453978</td>\n",
              "      <td>0.232290</td>\n",
              "      <td>22.000000</td>\n",
              "      <td>0.000000</td>\n",
              "    </tr>\n",
              "    <tr>\n",
              "      <th>50%</th>\n",
              "      <td>2499.500000</td>\n",
              "      <td>3.000000</td>\n",
              "      <td>111.000000</td>\n",
              "      <td>70.000000</td>\n",
              "      <td>0.000000</td>\n",
              "      <td>0.000000</td>\n",
              "      <td>33.828671</td>\n",
              "      <td>0.269691</td>\n",
              "      <td>26.000000</td>\n",
              "      <td>1.000000</td>\n",
              "    </tr>\n",
              "    <tr>\n",
              "      <th>75%</th>\n",
              "      <td>3749.250000</td>\n",
              "      <td>6.000000</td>\n",
              "      <td>125.000000</td>\n",
              "      <td>78.000000</td>\n",
              "      <td>24.000000</td>\n",
              "      <td>0.000000</td>\n",
              "      <td>39.627290</td>\n",
              "      <td>0.506604</td>\n",
              "      <td>33.000000</td>\n",
              "      <td>9.000000</td>\n",
              "    </tr>\n",
              "    <tr>\n",
              "      <th>max</th>\n",
              "      <td>4999.000000</td>\n",
              "      <td>13.000000</td>\n",
              "      <td>199.000000</td>\n",
              "      <td>110.000000</td>\n",
              "      <td>52.000000</td>\n",
              "      <td>744.000000</td>\n",
              "      <td>53.400629</td>\n",
              "      <td>2.302072</td>\n",
              "      <td>67.000000</td>\n",
              "      <td>9.000000</td>\n",
              "    </tr>\n",
              "  </tbody>\n",
              "</table>\n",
              "</div>"
            ],
            "text/plain": [
              "             index  Pregnancies  ...          Age      Outcome\n",
              "count  5000.000000  5000.000000  ...  5000.000000  5000.000000\n",
              "mean   2499.500000     3.567800  ...    28.989400     3.743400\n",
              "std    1443.520003     3.040535  ...     8.509722     4.305121\n",
              "min       0.000000     0.000000  ...    21.000000     0.000000\n",
              "25%    1249.750000     1.000000  ...    22.000000     0.000000\n",
              "50%    2499.500000     3.000000  ...    26.000000     1.000000\n",
              "75%    3749.250000     6.000000  ...    33.000000     9.000000\n",
              "max    4999.000000    13.000000  ...    67.000000     9.000000\n",
              "\n",
              "[8 rows x 10 columns]"
            ]
          },
          "metadata": {
            "tags": []
          },
          "execution_count": 57
        }
      ]
    },
    {
      "cell_type": "code",
      "metadata": {
        "colab": {
          "base_uri": "https://localhost:8080/"
        },
        "id": "r4KD05Fijede",
        "outputId": "a9cc37a2-fa12-48ee-e911-4c31be927786"
      },
      "source": [
        "# 前処理\r\n",
        "df_all.info()"
      ],
      "execution_count": 58,
      "outputs": [
        {
          "output_type": "stream",
          "text": [
            "<class 'pandas.core.frame.DataFrame'>\n",
            "RangeIndex: 5000 entries, 0 to 4999\n",
            "Data columns (total 11 columns):\n",
            " #   Column                    Non-Null Count  Dtype  \n",
            "---  ------                    --------------  -----  \n",
            " 0   index                     5000 non-null   int64  \n",
            " 1   Pregnancies               5000 non-null   int64  \n",
            " 2   Glucose                   5000 non-null   int64  \n",
            " 3   BloodPressure             5000 non-null   int64  \n",
            " 4   SkinThickness             5000 non-null   int64  \n",
            " 5   Insulin                   5000 non-null   int64  \n",
            " 6   BMI                       5000 non-null   float64\n",
            " 7   DiabetesPedigreeFunction  5000 non-null   float64\n",
            " 8   Age                       5000 non-null   int64  \n",
            " 9   Outcome                   5000 non-null   int64  \n",
            " 10  train_or_test             5000 non-null   object \n",
            "dtypes: float64(2), int64(8), object(1)\n",
            "memory usage: 429.8+ KB\n"
          ],
          "name": "stdout"
        }
      ]
    },
    {
      "cell_type": "markdown",
      "metadata": {
        "id": "SEQ9yHN2hSp7"
      },
      "source": [
        "モデル構築"
      ]
    },
    {
      "cell_type": "markdown",
      "metadata": {
        "id": "j_SiC1YqhVIq"
      },
      "source": [
        ""
      ]
    },
    {
      "cell_type": "code",
      "metadata": {
        "id": "hvj7b-zvhayV"
      },
      "source": [
        "from sklearn.model_selection import train_test_split\r\n",
        "\r\n",
        "# 最初に統合したtrainとtestを分離\r\n",
        "train = df_all.query('train_or_test == \"train\"')\r\n",
        "test = df_all.query('train_or_test == \"test\"')\r\n",
        "\r\n",
        "train_feature = train.drop(columns=['Outcome', 'train_or_test'])\r\n",
        "train_tagert = train['Outcome']\r\n",
        "test_feature = test.drop(columns=['Outcome', 'train_or_test'])\r\n"
      ],
      "execution_count": 65,
      "outputs": []
    },
    {
      "cell_type": "code",
      "metadata": {
        "colab": {
          "base_uri": "https://localhost:8080/",
          "height": 195
        },
        "id": "MyikDKMjkSQA",
        "outputId": "fc2b6ed2-27cb-4a69-ebf5-3be32895ba36"
      },
      "source": [
        "test_feature.head(5)"
      ],
      "execution_count": 68,
      "outputs": [
        {
          "output_type": "execute_result",
          "data": {
            "text/html": [
              "<div>\n",
              "<style scoped>\n",
              "    .dataframe tbody tr th:only-of-type {\n",
              "        vertical-align: middle;\n",
              "    }\n",
              "\n",
              "    .dataframe tbody tr th {\n",
              "        vertical-align: top;\n",
              "    }\n",
              "\n",
              "    .dataframe thead th {\n",
              "        text-align: right;\n",
              "    }\n",
              "</style>\n",
              "<table border=\"1\" class=\"dataframe\">\n",
              "  <thead>\n",
              "    <tr style=\"text-align: right;\">\n",
              "      <th></th>\n",
              "      <th>index</th>\n",
              "      <th>Pregnancies</th>\n",
              "      <th>Glucose</th>\n",
              "      <th>BloodPressure</th>\n",
              "      <th>SkinThickness</th>\n",
              "      <th>Insulin</th>\n",
              "      <th>BMI</th>\n",
              "      <th>DiabetesPedigreeFunction</th>\n",
              "      <th>Age</th>\n",
              "    </tr>\n",
              "  </thead>\n",
              "  <tbody>\n",
              "    <tr>\n",
              "      <th>3000</th>\n",
              "      <td>398</td>\n",
              "      <td>0</td>\n",
              "      <td>126</td>\n",
              "      <td>80</td>\n",
              "      <td>0</td>\n",
              "      <td>0</td>\n",
              "      <td>40.096264</td>\n",
              "      <td>0.822517</td>\n",
              "      <td>21</td>\n",
              "    </tr>\n",
              "    <tr>\n",
              "      <th>3001</th>\n",
              "      <td>3833</td>\n",
              "      <td>3</td>\n",
              "      <td>88</td>\n",
              "      <td>60</td>\n",
              "      <td>20</td>\n",
              "      <td>0</td>\n",
              "      <td>39.810590</td>\n",
              "      <td>0.204331</td>\n",
              "      <td>22</td>\n",
              "    </tr>\n",
              "    <tr>\n",
              "      <th>3002</th>\n",
              "      <td>4836</td>\n",
              "      <td>3</td>\n",
              "      <td>114</td>\n",
              "      <td>76</td>\n",
              "      <td>0</td>\n",
              "      <td>0</td>\n",
              "      <td>33.198760</td>\n",
              "      <td>0.521011</td>\n",
              "      <td>21</td>\n",
              "    </tr>\n",
              "    <tr>\n",
              "      <th>3003</th>\n",
              "      <td>4572</td>\n",
              "      <td>1</td>\n",
              "      <td>146</td>\n",
              "      <td>74</td>\n",
              "      <td>0</td>\n",
              "      <td>0</td>\n",
              "      <td>26.890259</td>\n",
              "      <td>0.504950</td>\n",
              "      <td>38</td>\n",
              "    </tr>\n",
              "    <tr>\n",
              "      <th>3004</th>\n",
              "      <td>636</td>\n",
              "      <td>1</td>\n",
              "      <td>123</td>\n",
              "      <td>90</td>\n",
              "      <td>26</td>\n",
              "      <td>140</td>\n",
              "      <td>40.270088</td>\n",
              "      <td>0.800513</td>\n",
              "      <td>28</td>\n",
              "    </tr>\n",
              "  </tbody>\n",
              "</table>\n",
              "</div>"
            ],
            "text/plain": [
              "      index  Pregnancies  Glucose  ...        BMI  DiabetesPedigreeFunction  Age\n",
              "3000    398            0      126  ...  40.096264                  0.822517   21\n",
              "3001   3833            3       88  ...  39.810590                  0.204331   22\n",
              "3002   4836            3      114  ...  33.198760                  0.521011   21\n",
              "3003   4572            1      146  ...  26.890259                  0.504950   38\n",
              "3004    636            1      123  ...  40.270088                  0.800513   28\n",
              "\n",
              "[5 rows x 9 columns]"
            ]
          },
          "metadata": {
            "tags": []
          },
          "execution_count": 68
        }
      ]
    },
    {
      "cell_type": "code",
      "metadata": {
        "id": "aNb9XoOth2UR"
      },
      "source": [
        "# 学習データとテストデータに分ける\r\n",
        "X_train, X_test, y_train, y_test = train_test_split(\r\n",
        "    train_feature, train_tagert, test_size=0.2, random_state=0, stratify=train_tagert )"
      ],
      "execution_count": 69,
      "outputs": []
    },
    {
      "cell_type": "code",
      "metadata": {
        "colab": {
          "base_uri": "https://localhost:8080/"
        },
        "id": "-I8HbYp8i-XM",
        "outputId": "ebd980ce-7e94-4ee2-d4c9-9b9b7afa9c35"
      },
      "source": [
        "print('train_feature = ', train_feature.shape)\r\n",
        "print('test_feature = ', test_feature.shape)\r\n",
        "print('train_tagert = ', train_tagert.shape)\r\n",
        "print('X_train = ', X_train.shape)\r\n",
        "print('X_test = ', X_test.shape)\r\n",
        "print('y_train = ', y_train.shape)\r\n",
        "print('y_test = ', y_test.shape)"
      ],
      "execution_count": 70,
      "outputs": [
        {
          "output_type": "stream",
          "text": [
            "train_feature =  (3000, 9)\n",
            "test_feature =  (2000, 9)\n",
            "train_tagert =  (3000,)\n",
            "X_train =  (2400, 9)\n",
            "X_test =  (600, 9)\n",
            "y_train =  (2400,)\n",
            "y_test =  (600,)\n"
          ],
          "name": "stdout"
        }
      ]
    },
    {
      "cell_type": "markdown",
      "metadata": {
        "id": "g-Id3lDT8WIj"
      },
      "source": [
        "## xgboost(単体 パラメーターはDefult)"
      ]
    },
    {
      "cell_type": "markdown",
      "metadata": {
        "id": "SDz6LtG-8TyQ"
      },
      "source": [
        ""
      ]
    },
    {
      "cell_type": "code",
      "metadata": {
        "colab": {
          "base_uri": "https://localhost:8080/"
        },
        "id": "k_SYE1Jmitmv",
        "outputId": "ce03f2f1-239b-4762-9c7d-692a6b6e6efb"
      },
      "source": [
        "import xgboost as xgb\r\n",
        "from sklearn.metrics import accuracy_score\r\n",
        "\r\n",
        "\r\n",
        "# パラメータ設定\r\n",
        "params = {\r\n",
        "    \"objective\": \"binary:logistic\",\r\n",
        "    \"evel_metric\": \"auc\",\r\n",
        "    \"eta\": 0.3,\r\n",
        "    \"max_depth\": 6,                    \r\n",
        "    \"subsample\": 1,                  \r\n",
        "    \"colsample_bytree\":1 ,\r\n",
        "    \"silent\" : 1\r\n",
        "}\r\n",
        "\r\n",
        "# 訓練・テストデータの設定\r\n",
        "#\r\n",
        "dtrain = xgb.DMatrix(X_train, label=y_train)\r\n",
        "dtest = xgb.DMatrix(X_test, label=y_test)\r\n",
        "\r\n",
        "# モデル作成\r\n",
        "bst = xgb.train(params=params,\r\n",
        "                  dtrain=dtrain,\r\n",
        "                  num_boost_round=100,\r\n",
        "                  early_stopping_rounds=10,\r\n",
        "                  evals=[(dtest, 'test')]\r\n",
        "                  ) \r\n",
        "\r\n",
        "# 検証用データが各クラスに分類される確率を計算する\r\n",
        "preds = bst.predict(dtest, ntree_limit=bst.best_ntree_limit)\r\n",
        "# しきい値 0.5 で 0, 1 に丸める\r\n",
        "pred = np.where(preds > 0.5, 1, 0)\r\n",
        "# 精度 (Accuracy) を検証する\r\n",
        "acc = accuracy_score(y_test, pred)\r\n",
        "print('Accuracy:', acc)"
      ],
      "execution_count": 71,
      "outputs": [
        {
          "output_type": "stream",
          "text": [
            "[0]\ttest-error:0.208333\n",
            "Will train until test-error hasn't improved in 10 rounds.\n",
            "[1]\ttest-error:0.21\n",
            "[2]\ttest-error:0.201667\n",
            "[3]\ttest-error:0.216667\n",
            "[4]\ttest-error:0.2\n",
            "[5]\ttest-error:0.205\n",
            "[6]\ttest-error:0.198333\n",
            "[7]\ttest-error:0.196667\n",
            "[8]\ttest-error:0.193333\n",
            "[9]\ttest-error:0.196667\n",
            "[10]\ttest-error:0.2\n",
            "[11]\ttest-error:0.19\n",
            "[12]\ttest-error:0.193333\n",
            "[13]\ttest-error:0.196667\n",
            "[14]\ttest-error:0.201667\n",
            "[15]\ttest-error:0.198333\n",
            "[16]\ttest-error:0.201667\n",
            "[17]\ttest-error:0.198333\n",
            "[18]\ttest-error:0.2\n",
            "[19]\ttest-error:0.205\n",
            "[20]\ttest-error:0.198333\n",
            "[21]\ttest-error:0.206667\n",
            "Stopping. Best iteration:\n",
            "[11]\ttest-error:0.19\n",
            "\n",
            "Accuracy: 0.81\n"
          ],
          "name": "stdout"
        }
      ]
    },
    {
      "cell_type": "markdown",
      "metadata": {
        "id": "_KUxcjbi8ak1"
      },
      "source": [
        ""
      ]
    },
    {
      "cell_type": "markdown",
      "metadata": {
        "id": "O6yeoaKd8qaW"
      },
      "source": [
        "xgboost # 5分割交差検証"
      ]
    },
    {
      "cell_type": "code",
      "metadata": {
        "colab": {
          "base_uri": "https://localhost:8080/"
        },
        "id": "YyX3Ud5U8vPx",
        "outputId": "9d753b01-0d09-4a03-ef10-9858f8a44ea2"
      },
      "source": [
        "# train_feature, train_tagert を学習データとテストデータに分ける\r\n",
        "X_train, X_test, y_train, y_test = train_test_split(\r\n",
        "    train_feature, train_tagert, test_size=0.2, random_state=0, stratify=train_tagert )\r\n",
        "\r\n",
        "# データを格納する\r\n",
        "# テスト用\r\n",
        "xgb_test = xgb.DMatrix(X_test, label=y_test)\r\n",
        "\r\n",
        "# 5-fold CVモデルの学習\r\n",
        "from sklearn.model_selection import KFold\r\n",
        "from sklearn.metrics import log_loss\r\n",
        "from sklearn.metrics import accuracy_score\r\n",
        "\r\n",
        "n_splits = 5\r\n",
        "kf = KFold(n_splits=n_splits, shuffle=True, random_state=0)\r\n",
        "\r\n",
        "# 5つのモデルを保存するリストの初期化\r\n",
        "models = []\r\n",
        "#accuracy、loglossを保存するNumPy配列の初期化\r\n",
        "accuracies = np.array([])\r\n",
        "loglosses = np.array([])\r\n",
        "\r\n",
        "for fold_, (train_index, eval_index) in enumerate(kf.split(X_train, y_train)):    \r\n",
        "    print(f'fold{fold_ + 1} start')\r\n",
        "    X_train_cv = X_train.iloc[train_index]\r\n",
        "    y_train_cv = y_train.iloc[train_index]\r\n",
        "    X_eval_cv = X_train.iloc[eval_index]\r\n",
        "    y_eval_cv = y_train.iloc[eval_index]\r\n",
        "    \r\n",
        "    # 学習用\r\n",
        "    xgb_train = xgb.DMatrix(X_train_cv, label=y_train_cv)\r\n",
        "\r\n",
        "    # 検証用\r\n",
        "    xgb_eval = xgb.DMatrix(X_eval_cv, label=y_eval_cv)\r\n",
        "   \r\n",
        "    \r\n",
        "    # パラメータを設定(defult)\r\n",
        "    xgb_params = {\r\n",
        "        \"objective\": \"binary:logistic\",\r\n",
        "        \"evel_metric\": \"auc\",\r\n",
        "        \"eta\": 0.3,\r\n",
        "        \"max_depth\": 6,                    \r\n",
        "        \"subsample\": 1,                  \r\n",
        "        \"colsample_bytree\":1 ,\r\n",
        "        \"silent\" : 1\r\n",
        "    }  \r\n",
        "    \r\n",
        "    # 学習\r\n",
        "    evals = [(xgb_train, 'train'), (xgb_eval, 'eval')] # 学習に用いる検証用データ\r\n",
        "    evaluation_results = {}                            # 学習の経過を保存する箱\r\n",
        "    bst = xgb.train(xgb_params,                        # 上記で設定したパラメーター\r\n",
        "                    xgb_train,                         # 使用するデータセット\r\n",
        "                    num_boost_round=500,               # 学習の回数\r\n",
        "                    early_stopping_rounds=10,          # アーリーストッピング\r\n",
        "                    evals=evals,                       # 上記で設定した検証用データ\r\n",
        "                    evals_result=evaluation_results,   # 上記で設定した箱\r\n",
        "                    verbose_eval=0                     # 学習の経過の表示(非表示)\r\n",
        "                    ) \r\n",
        "    \r\n",
        "    # テストデータで予測する\r\n",
        "    y_pred = bst.predict(xgb_test, ntree_limit=bst.best_ntree_limit)\r\n",
        "        \r\n",
        "    # しきい値 0.5 で 0, 1 に丸める\r\n",
        "    pred = np.where(y_pred > 0.5, 1, 0)\r\n",
        "    \r\n",
        "    # 精度 (Accuracy) を検証する\r\n",
        "    accuracy = accuracy_score(y_test, pred)\r\n",
        "\r\n",
        "    # Logloss を計算する\r\n",
        "    logloss = log_loss(y_test, y_pred)\r\n",
        "    \r\n",
        "    print('accuracy:', accuracy, 'logloss: ', logloss)\r\n",
        "    \r\n",
        "    # 学習が終わったモデルをリストに入れておく\r\n",
        "    models.append(bst) \r\n",
        "    # 学習結果をNumPy配列に入れておく\r\n",
        "    accuracies = np.append(accuracies, accuracy)\r\n",
        "    loglosses = np.append(loglosses, logloss)\r\n",
        "    \r\n",
        "# 正解ラベルの確率とLogloss（平均値）\r\n",
        "print('accuracy_ave: ', np.mean(accuracies), 'logloss_ave: ', np.mean(loglosses)) "
      ],
      "execution_count": 73,
      "outputs": [
        {
          "output_type": "stream",
          "text": [
            "fold1 start\n",
            "accuracy: 0.7933333333333333 logloss:  0.44961525361674526\n",
            "fold2 start\n",
            "accuracy: 0.7966666666666666 logloss:  0.4448697149483875\n",
            "fold3 start\n",
            "accuracy: 0.8016666666666666 logloss:  0.4431515747867525\n",
            "fold4 start\n",
            "accuracy: 0.785 logloss:  0.4890378536918433\n",
            "fold5 start\n",
            "accuracy: 0.79 logloss:  0.4581229147594422\n",
            "accuracy_ave:  0.7933333333333333 logloss_ave:  0.4569594623606342\n"
          ],
          "name": "stdout"
        }
      ]
    },
    {
      "cell_type": "code",
      "metadata": {
        "colab": {
          "base_uri": "https://localhost:8080/"
        },
        "id": "CZRm5QYw9duA",
        "outputId": "9bdd66de-d7ca-4502-c9e0-706890cba3e9"
      },
      "source": [
        "#グリッドサーチでよいパラメータを調べる　例として'max_depth'　'eta'\r\n",
        "\r\n",
        "gridsearch_params = [\r\n",
        "    (max_depth, eta)\r\n",
        "    for max_depth in [3, 4, 5, 6, 7, 8, 9, 10]\r\n",
        "    for eta in [0.01, 0.02, 0.03, 0.04, 0.05, 0.1, 0.2, 0.3, 0.4, 0.5]\r\n",
        "]\r\n",
        "gridsearch_params"
      ],
      "execution_count": 74,
      "outputs": [
        {
          "output_type": "execute_result",
          "data": {
            "text/plain": [
              "[(3, 0.01),\n",
              " (3, 0.02),\n",
              " (3, 0.03),\n",
              " (3, 0.04),\n",
              " (3, 0.05),\n",
              " (3, 0.1),\n",
              " (3, 0.2),\n",
              " (3, 0.3),\n",
              " (3, 0.4),\n",
              " (3, 0.5),\n",
              " (4, 0.01),\n",
              " (4, 0.02),\n",
              " (4, 0.03),\n",
              " (4, 0.04),\n",
              " (4, 0.05),\n",
              " (4, 0.1),\n",
              " (4, 0.2),\n",
              " (4, 0.3),\n",
              " (4, 0.4),\n",
              " (4, 0.5),\n",
              " (5, 0.01),\n",
              " (5, 0.02),\n",
              " (5, 0.03),\n",
              " (5, 0.04),\n",
              " (5, 0.05),\n",
              " (5, 0.1),\n",
              " (5, 0.2),\n",
              " (5, 0.3),\n",
              " (5, 0.4),\n",
              " (5, 0.5),\n",
              " (6, 0.01),\n",
              " (6, 0.02),\n",
              " (6, 0.03),\n",
              " (6, 0.04),\n",
              " (6, 0.05),\n",
              " (6, 0.1),\n",
              " (6, 0.2),\n",
              " (6, 0.3),\n",
              " (6, 0.4),\n",
              " (6, 0.5),\n",
              " (7, 0.01),\n",
              " (7, 0.02),\n",
              " (7, 0.03),\n",
              " (7, 0.04),\n",
              " (7, 0.05),\n",
              " (7, 0.1),\n",
              " (7, 0.2),\n",
              " (7, 0.3),\n",
              " (7, 0.4),\n",
              " (7, 0.5),\n",
              " (8, 0.01),\n",
              " (8, 0.02),\n",
              " (8, 0.03),\n",
              " (8, 0.04),\n",
              " (8, 0.05),\n",
              " (8, 0.1),\n",
              " (8, 0.2),\n",
              " (8, 0.3),\n",
              " (8, 0.4),\n",
              " (8, 0.5),\n",
              " (9, 0.01),\n",
              " (9, 0.02),\n",
              " (9, 0.03),\n",
              " (9, 0.04),\n",
              " (9, 0.05),\n",
              " (9, 0.1),\n",
              " (9, 0.2),\n",
              " (9, 0.3),\n",
              " (9, 0.4),\n",
              " (9, 0.5),\n",
              " (10, 0.01),\n",
              " (10, 0.02),\n",
              " (10, 0.03),\n",
              " (10, 0.04),\n",
              " (10, 0.05),\n",
              " (10, 0.1),\n",
              " (10, 0.2),\n",
              " (10, 0.3),\n",
              " (10, 0.4),\n",
              " (10, 0.5)]"
            ]
          },
          "metadata": {
            "tags": []
          },
          "execution_count": 74
        }
      ]
    },
    {
      "cell_type": "code",
      "metadata": {
        "colab": {
          "base_uri": "https://localhost:8080/",
          "height": 402
        },
        "id": "Rkj6rCDc9en_",
        "outputId": "e16a88af-bc7d-4d7a-a80d-a6e72a0fe3f7"
      },
      "source": [
        "#cv_results解説\r\n",
        "\r\n",
        "dtrain = xgb.DMatrix(X_train, label=y_train)\r\n",
        "\r\n",
        "cv_results = xgb.cv(    #交差検証を行う\r\n",
        "        params,\r\n",
        "        dtrain,\r\n",
        "#        num_boost_round=1000,\r\n",
        "        num_boost_round=20, # 10 <- 1000\r\n",
        "        seed=0,\r\n",
        "        nfold=5,  #何回交差検証を行うかのパラメーター          \r\n",
        "        metrics={'rmse'},\r\n",
        "        early_stopping_rounds=5\r\n",
        "    )\r\n",
        "cv_results"
      ],
      "execution_count": 75,
      "outputs": [
        {
          "output_type": "execute_result",
          "data": {
            "text/html": [
              "<div>\n",
              "<style scoped>\n",
              "    .dataframe tbody tr th:only-of-type {\n",
              "        vertical-align: middle;\n",
              "    }\n",
              "\n",
              "    .dataframe tbody tr th {\n",
              "        vertical-align: top;\n",
              "    }\n",
              "\n",
              "    .dataframe thead th {\n",
              "        text-align: right;\n",
              "    }\n",
              "</style>\n",
              "<table border=\"1\" class=\"dataframe\">\n",
              "  <thead>\n",
              "    <tr style=\"text-align: right;\">\n",
              "      <th></th>\n",
              "      <th>train-rmse-mean</th>\n",
              "      <th>train-rmse-std</th>\n",
              "      <th>test-rmse-mean</th>\n",
              "      <th>test-rmse-std</th>\n",
              "    </tr>\n",
              "  </thead>\n",
              "  <tbody>\n",
              "    <tr>\n",
              "      <th>0</th>\n",
              "      <td>0.435886</td>\n",
              "      <td>0.001270</td>\n",
              "      <td>0.448062</td>\n",
              "      <td>0.003550</td>\n",
              "    </tr>\n",
              "    <tr>\n",
              "      <th>1</th>\n",
              "      <td>0.396668</td>\n",
              "      <td>0.001713</td>\n",
              "      <td>0.419694</td>\n",
              "      <td>0.005818</td>\n",
              "    </tr>\n",
              "    <tr>\n",
              "      <th>2</th>\n",
              "      <td>0.370228</td>\n",
              "      <td>0.002326</td>\n",
              "      <td>0.404006</td>\n",
              "      <td>0.006318</td>\n",
              "    </tr>\n",
              "    <tr>\n",
              "      <th>3</th>\n",
              "      <td>0.351128</td>\n",
              "      <td>0.003369</td>\n",
              "      <td>0.394326</td>\n",
              "      <td>0.008484</td>\n",
              "    </tr>\n",
              "    <tr>\n",
              "      <th>4</th>\n",
              "      <td>0.337017</td>\n",
              "      <td>0.002357</td>\n",
              "      <td>0.388670</td>\n",
              "      <td>0.010044</td>\n",
              "    </tr>\n",
              "    <tr>\n",
              "      <th>5</th>\n",
              "      <td>0.326367</td>\n",
              "      <td>0.003198</td>\n",
              "      <td>0.386297</td>\n",
              "      <td>0.011481</td>\n",
              "    </tr>\n",
              "    <tr>\n",
              "      <th>6</th>\n",
              "      <td>0.316615</td>\n",
              "      <td>0.003297</td>\n",
              "      <td>0.383587</td>\n",
              "      <td>0.012510</td>\n",
              "    </tr>\n",
              "    <tr>\n",
              "      <th>7</th>\n",
              "      <td>0.308679</td>\n",
              "      <td>0.003403</td>\n",
              "      <td>0.382311</td>\n",
              "      <td>0.013112</td>\n",
              "    </tr>\n",
              "    <tr>\n",
              "      <th>8</th>\n",
              "      <td>0.300434</td>\n",
              "      <td>0.003706</td>\n",
              "      <td>0.381544</td>\n",
              "      <td>0.013333</td>\n",
              "    </tr>\n",
              "    <tr>\n",
              "      <th>9</th>\n",
              "      <td>0.293742</td>\n",
              "      <td>0.003881</td>\n",
              "      <td>0.380164</td>\n",
              "      <td>0.014161</td>\n",
              "    </tr>\n",
              "    <tr>\n",
              "      <th>10</th>\n",
              "      <td>0.287189</td>\n",
              "      <td>0.002923</td>\n",
              "      <td>0.379754</td>\n",
              "      <td>0.014502</td>\n",
              "    </tr>\n",
              "    <tr>\n",
              "      <th>11</th>\n",
              "      <td>0.280447</td>\n",
              "      <td>0.002418</td>\n",
              "      <td>0.379564</td>\n",
              "      <td>0.015539</td>\n",
              "    </tr>\n",
              "  </tbody>\n",
              "</table>\n",
              "</div>"
            ],
            "text/plain": [
              "    train-rmse-mean  train-rmse-std  test-rmse-mean  test-rmse-std\n",
              "0          0.435886        0.001270        0.448062       0.003550\n",
              "1          0.396668        0.001713        0.419694       0.005818\n",
              "2          0.370228        0.002326        0.404006       0.006318\n",
              "3          0.351128        0.003369        0.394326       0.008484\n",
              "4          0.337017        0.002357        0.388670       0.010044\n",
              "5          0.326367        0.003198        0.386297       0.011481\n",
              "6          0.316615        0.003297        0.383587       0.012510\n",
              "7          0.308679        0.003403        0.382311       0.013112\n",
              "8          0.300434        0.003706        0.381544       0.013333\n",
              "9          0.293742        0.003881        0.380164       0.014161\n",
              "10         0.287189        0.002923        0.379754       0.014502\n",
              "11         0.280447        0.002418        0.379564       0.015539"
            ]
          },
          "metadata": {
            "tags": []
          },
          "execution_count": 75
        }
      ]
    },
    {
      "cell_type": "code",
      "metadata": {
        "colab": {
          "base_uri": "https://localhost:8080/"
        },
        "id": "s1CBMvk59lt5",
        "outputId": "01f1b1cc-86c3-47e7-9705-950efa7f7a86"
      },
      "source": [
        "min_rmse = float('Inf')\r\n",
        "best_param = []\r\n",
        "\r\n",
        "for max_depth, eta in gridsearch_params:\r\n",
        "    print('max_depth={}, eta={}'.format(max_depth, eta))\r\n",
        "    \r\n",
        "    params['max_depth'] = max_depth\r\n",
        "    params['eta'] = eta\r\n",
        "    \r\n",
        "    cv_results = xgb.cv(\r\n",
        "        params,\r\n",
        "        dtrain,\r\n",
        "        num_boost_round=1000,\r\n",
        "        seed=0,\r\n",
        "        nfold=5,\r\n",
        "        metrics={'rmse'},\r\n",
        "        early_stopping_rounds=5\r\n",
        "    )\r\n",
        "    \r\n",
        "    mean_rmse = cv_results['test-rmse-mean'].min()\r\n",
        "    boost_rounds = cv_results['test-rmse-mean'].argmin()\r\n",
        "    print('RMSE {} for {} rounds'.format(mean_rmse, boost_rounds))\r\n",
        "    if mean_rmse < min_rmse:\r\n",
        "        min_rmse = mean_rmse\r\n",
        "        best_param = (max_depth, eta)\r\n",
        "    \r\n",
        "print('Best params {}, RMSE {}'.format(best_param, min_rmse))"
      ],
      "execution_count": 78,
      "outputs": [
        {
          "output_type": "stream",
          "text": [
            "max_depth=3, eta=0.01\n",
            "RMSE 0.373089 for 792 rounds\n",
            "max_depth=3, eta=0.02\n",
            "RMSE 0.37260679999999996 for 451 rounds\n",
            "max_depth=3, eta=0.03\n",
            "RMSE 0.37363559999999996 for 231 rounds\n",
            "max_depth=3, eta=0.04\n",
            "RMSE 0.371986 for 238 rounds\n",
            "max_depth=3, eta=0.05\n",
            "RMSE 0.371875 for 206 rounds\n",
            "max_depth=3, eta=0.1\n",
            "RMSE 0.3735442 for 85 rounds\n",
            "max_depth=3, eta=0.2\n",
            "RMSE 0.3730816 for 55 rounds\n",
            "max_depth=3, eta=0.3\n",
            "RMSE 0.37388160000000004 for 40 rounds\n",
            "max_depth=3, eta=0.4\n",
            "RMSE 0.37459560000000003 for 22 rounds\n",
            "max_depth=3, eta=0.5\n",
            "RMSE 0.3782772 for 12 rounds\n",
            "max_depth=4, eta=0.01\n",
            "RMSE 0.37358 for 506 rounds\n",
            "max_depth=4, eta=0.02\n",
            "RMSE 0.3719366 for 355 rounds\n",
            "max_depth=4, eta=0.03\n",
            "RMSE 0.3716234 for 275 rounds\n",
            "max_depth=4, eta=0.04\n",
            "RMSE 0.371199 for 198 rounds\n",
            "max_depth=4, eta=0.05\n",
            "RMSE 0.373552 for 109 rounds\n",
            "max_depth=4, eta=0.1\n",
            "RMSE 0.37227280000000007 for 75 rounds\n",
            "max_depth=4, eta=0.2\n",
            "RMSE 0.3727358 for 29 rounds\n",
            "max_depth=4, eta=0.3\n",
            "RMSE 0.3737532 for 23 rounds\n",
            "max_depth=4, eta=0.4\n",
            "RMSE 0.3761066 for 11 rounds\n",
            "max_depth=4, eta=0.5\n",
            "RMSE 0.3788642 for 7 rounds\n",
            "max_depth=5, eta=0.01\n",
            "RMSE 0.3736828 for 444 rounds\n",
            "max_depth=5, eta=0.02\n",
            "RMSE 0.3727198 for 275 rounds\n",
            "max_depth=5, eta=0.03\n",
            "RMSE 0.3716532 for 220 rounds\n",
            "max_depth=5, eta=0.04\n",
            "RMSE 0.37230900000000006 for 143 rounds\n",
            "max_depth=5, eta=0.05\n",
            "RMSE 0.37357199999999996 for 96 rounds\n",
            "max_depth=5, eta=0.1\n",
            "RMSE 0.37211079999999996 for 63 rounds\n",
            "max_depth=5, eta=0.2\n",
            "RMSE 0.3715992 for 30 rounds\n",
            "max_depth=5, eta=0.3\n",
            "RMSE 0.37470820000000005 for 26 rounds\n",
            "max_depth=5, eta=0.4\n",
            "RMSE 0.3786214 for 13 rounds\n",
            "max_depth=5, eta=0.5\n",
            "RMSE 0.37902559999999996 for 12 rounds\n",
            "max_depth=6, eta=0.01\n",
            "RMSE 0.37430240000000004 for 470 rounds\n",
            "max_depth=6, eta=0.02\n",
            "RMSE 0.3743256 for 265 rounds\n",
            "max_depth=6, eta=0.03\n",
            "RMSE 0.3749041999999999 for 152 rounds\n",
            "max_depth=6, eta=0.04\n",
            "RMSE 0.3740132 for 126 rounds\n",
            "max_depth=6, eta=0.05\n",
            "RMSE 0.3742938 for 112 rounds\n",
            "max_depth=6, eta=0.1\n",
            "RMSE 0.37434080000000003 for 47 rounds\n",
            "max_depth=6, eta=0.2\n",
            "RMSE 0.377376 for 19 rounds\n",
            "max_depth=6, eta=0.3\n",
            "RMSE 0.37956419999999996 for 11 rounds\n",
            "max_depth=6, eta=0.4\n",
            "RMSE 0.3795564 for 9 rounds\n",
            "max_depth=6, eta=0.5\n",
            "RMSE 0.3819394 for 11 rounds\n",
            "max_depth=7, eta=0.01\n",
            "RMSE 0.3765656 for 420 rounds\n",
            "max_depth=7, eta=0.02\n",
            "RMSE 0.3763594 for 197 rounds\n",
            "max_depth=7, eta=0.03\n",
            "RMSE 0.3775426 for 122 rounds\n",
            "max_depth=7, eta=0.04\n",
            "RMSE 0.37706439999999997 for 89 rounds\n",
            "max_depth=7, eta=0.05\n",
            "RMSE 0.3756646 for 106 rounds\n",
            "max_depth=7, eta=0.1\n",
            "RMSE 0.3749786 for 55 rounds\n",
            "max_depth=7, eta=0.2\n",
            "RMSE 0.3744404 for 30 rounds\n",
            "max_depth=7, eta=0.3\n",
            "RMSE 0.38079959999999996 for 9 rounds\n",
            "max_depth=7, eta=0.4\n",
            "RMSE 0.38315679999999996 for 6 rounds\n",
            "max_depth=7, eta=0.5\n",
            "RMSE 0.38673399999999997 for 6 rounds\n",
            "max_depth=8, eta=0.01\n",
            "RMSE 0.3799538 for 290 rounds\n",
            "max_depth=8, eta=0.02\n",
            "RMSE 0.3785546 for 221 rounds\n",
            "max_depth=8, eta=0.03\n",
            "RMSE 0.37881200000000004 for 131 rounds\n",
            "max_depth=8, eta=0.04\n",
            "RMSE 0.3775444 for 99 rounds\n",
            "max_depth=8, eta=0.05\n",
            "RMSE 0.379423 for 66 rounds\n",
            "max_depth=8, eta=0.1\n",
            "RMSE 0.3808396 for 36 rounds\n",
            "max_depth=8, eta=0.2\n",
            "RMSE 0.3814890000000001 for 17 rounds\n",
            "max_depth=8, eta=0.3\n",
            "RMSE 0.38212019999999997 for 15 rounds\n",
            "max_depth=8, eta=0.4\n",
            "RMSE 0.3835406 for 6 rounds\n",
            "max_depth=8, eta=0.5\n",
            "RMSE 0.387778 for 4 rounds\n",
            "max_depth=9, eta=0.01\n",
            "RMSE 0.37808260000000005 for 404 rounds\n",
            "max_depth=9, eta=0.02\n",
            "RMSE 0.3785828 for 193 rounds\n",
            "max_depth=9, eta=0.03\n",
            "RMSE 0.37852040000000003 for 134 rounds\n",
            "max_depth=9, eta=0.04\n",
            "RMSE 0.3791578 for 95 rounds\n",
            "max_depth=9, eta=0.05\n",
            "RMSE 0.3794164 for 77 rounds\n",
            "max_depth=9, eta=0.1\n",
            "RMSE 0.37934100000000004 for 37 rounds\n",
            "max_depth=9, eta=0.2\n",
            "RMSE 0.3820819999999999 for 21 rounds\n",
            "max_depth=9, eta=0.3\n",
            "RMSE 0.38478660000000003 for 21 rounds\n",
            "max_depth=9, eta=0.4\n",
            "RMSE 0.38722700000000004 for 6 rounds\n",
            "max_depth=9, eta=0.5\n",
            "RMSE 0.3919802 for 10 rounds\n",
            "max_depth=10, eta=0.01\n",
            "RMSE 0.3785446 for 399 rounds\n",
            "max_depth=10, eta=0.02\n",
            "RMSE 0.3797364 for 189 rounds\n",
            "max_depth=10, eta=0.03\n",
            "RMSE 0.37839919999999994 for 138 rounds\n",
            "max_depth=10, eta=0.04\n",
            "RMSE 0.37896260000000004 for 103 rounds\n",
            "max_depth=10, eta=0.05\n",
            "RMSE 0.3794924 for 81 rounds\n",
            "max_depth=10, eta=0.1\n",
            "RMSE 0.3815838 for 44 rounds\n",
            "max_depth=10, eta=0.2\n",
            "RMSE 0.3811932 for 21 rounds\n",
            "max_depth=10, eta=0.3\n",
            "RMSE 0.38137219999999994 for 22 rounds\n",
            "max_depth=10, eta=0.4\n",
            "RMSE 0.3886142 for 8 rounds\n",
            "max_depth=10, eta=0.5\n",
            "RMSE 0.3928302 for 7 rounds\n",
            "Best params (4, 0.04), RMSE 0.371199\n"
          ],
          "name": "stdout"
        }
      ]
    },
    {
      "cell_type": "markdown",
      "metadata": {
        "id": "gKYTTaf7-OwA"
      },
      "source": [
        "xgboost # 5分割交差検証 ベストパラメーター　max_depth=4, eta=0.04"
      ]
    },
    {
      "cell_type": "code",
      "metadata": {
        "colab": {
          "base_uri": "https://localhost:8080/"
        },
        "id": "N0qBUeEP9pPo",
        "outputId": "fa8dfbf2-6047-42d2-f233-2c5479a460dd"
      },
      "source": [
        "# train_feature, train_tagert を学習データとテストデータに分ける\r\n",
        "X_train, X_test, y_train, y_test = train_test_split(\r\n",
        "    train_feature, train_tagert, test_size=0.2, random_state=0, stratify=train_tagert )\r\n",
        "\r\n",
        "# データを格納する\r\n",
        "# テスト用\r\n",
        "xgb_test = xgb.DMatrix(X_test, label=y_test)\r\n",
        "\r\n",
        "# 5-fold CVモデルの学習\r\n",
        "from sklearn.model_selection import KFold\r\n",
        "from sklearn.metrics import log_loss\r\n",
        "from sklearn.metrics import accuracy_score\r\n",
        "\r\n",
        "n_splits = 5\r\n",
        "kf = KFold(n_splits=n_splits, shuffle=True, random_state=0)\r\n",
        "\r\n",
        "# 5つのモデルを保存するリストの初期化\r\n",
        "models = []\r\n",
        "#accuracy、loglossを保存するNumPy配列の初期化\r\n",
        "accuracies = np.array([])\r\n",
        "loglosses = np.array([])\r\n",
        "\r\n",
        "for fold_, (train_index, eval_index) in enumerate(kf.split(X_train, y_train)):    \r\n",
        "    print(f'fold{fold_ + 1} start')\r\n",
        "    X_train_cv = X_train.iloc[train_index]\r\n",
        "    y_train_cv = y_train.iloc[train_index]\r\n",
        "    X_eval_cv = X_train.iloc[eval_index]\r\n",
        "    y_eval_cv = y_train.iloc[eval_index]\r\n",
        "    \r\n",
        "    # 学習用\r\n",
        "    xgb_train = xgb.DMatrix(X_train_cv, label=y_train_cv)\r\n",
        "\r\n",
        "    # 検証用\r\n",
        "    xgb_eval = xgb.DMatrix(X_eval_cv, label=y_eval_cv)\r\n",
        "   \r\n",
        "    \r\n",
        "    # パラメータを設定(defult)\r\n",
        "    xgb_params = {\r\n",
        "        \"objective\": \"binary:logistic\",\r\n",
        "        \"evel_metric\": \"auc\",\r\n",
        "        \"eta\": 0.04,\r\n",
        "        \"max_depth\": 4,                    \r\n",
        "        \"subsample\": 1,                  \r\n",
        "        \"colsample_bytree\":1 ,\r\n",
        "        \"silent\" : 1\r\n",
        "    }  \r\n",
        "    \r\n",
        "    # 学習\r\n",
        "    evals = [(xgb_train, 'train'), (xgb_eval, 'eval')] # 学習に用いる検証用データ\r\n",
        "    evaluation_results = {}                            # 学習の経過を保存する箱\r\n",
        "    bst = xgb.train(xgb_params,                        # 上記で設定したパラメーター\r\n",
        "                    xgb_train,                         # 使用するデータセット\r\n",
        "                    num_boost_round=500,               # 学習の回数\r\n",
        "                    early_stopping_rounds=10,          # アーリーストッピング\r\n",
        "                    evals=evals,                       # 上記で設定した検証用データ\r\n",
        "                    evals_result=evaluation_results,   # 上記で設定した箱\r\n",
        "                    verbose_eval=0                     # 学習の経過の表示(非表示)\r\n",
        "                    ) \r\n",
        "    \r\n",
        "    # テストデータで予測する\r\n",
        "    y_pred = bst.predict(xgb_test, ntree_limit=bst.best_ntree_limit)\r\n",
        "        \r\n",
        "    # しきい値 0.5 で 0, 1 に丸める\r\n",
        "    pred = np.where(y_pred > 0.5, 1, 0)\r\n",
        "    \r\n",
        "    # 精度 (Accuracy) を検証する\r\n",
        "    accuracy = accuracy_score(y_test, pred)\r\n",
        "\r\n",
        "    # Logloss を計算する\r\n",
        "    logloss = log_loss(y_test, y_pred)\r\n",
        "    \r\n",
        "    print('accuracy:', accuracy, 'logloss: ', logloss)\r\n",
        "    \r\n",
        "    # 学習が終わったモデルをリストに入れておく\r\n",
        "    models.append(bst) \r\n",
        "    # 学習結果をNumPy配列に入れておく\r\n",
        "    accuracies = np.append(accuracies, accuracy)\r\n",
        "    loglosses = np.append(loglosses, logloss)\r\n",
        "    \r\n",
        "# 正解ラベルの確率とLogloss（平均値）\r\n",
        "print('accuracy_ave: ', np.mean(accuracies), 'logloss_ave: ', np.mean(loglosses)) "
      ],
      "execution_count": 79,
      "outputs": [
        {
          "output_type": "stream",
          "text": [
            "fold1 start\n",
            "accuracy: 0.7916666666666666 logloss:  0.49074054531753064\n",
            "fold2 start\n",
            "accuracy: 0.7583333333333333 logloss:  0.6776046045621236\n",
            "fold3 start\n",
            "accuracy: 0.775 logloss:  0.6630730293194453\n",
            "fold4 start\n",
            "accuracy: 0.775 logloss:  0.5520347594718138\n",
            "fold5 start\n",
            "accuracy: 0.7883333333333333 logloss:  0.4997848303367694\n",
            "accuracy_ave:  0.7776666666666665 logloss_ave:  0.5766475538015366\n"
          ],
          "name": "stdout"
        }
      ]
    }
  ]
}