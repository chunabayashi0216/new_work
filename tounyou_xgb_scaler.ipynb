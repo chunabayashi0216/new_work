{
  "nbformat": 4,
  "nbformat_minor": 0,
  "metadata": {
    "colab": {
      "name": "tounyou_xgb_scaler.ipynb",
      "provenance": [],
      "collapsed_sections": [],
      "authorship_tag": "ABX9TyPREGXRqIsKZlFKTT6ITgfl",
      "include_colab_link": true
    },
    "kernelspec": {
      "name": "python3",
      "display_name": "Python 3"
    }
  },
  "cells": [
    {
      "cell_type": "markdown",
      "metadata": {
        "id": "view-in-github",
        "colab_type": "text"
      },
      "source": [
        "<a href=\"https://colab.research.google.com/github/chunabayashi0216/new_work/blob/main/tounyou_xgb_scaler.ipynb\" target=\"_parent\"><img src=\"https://colab.research.google.com/assets/colab-badge.svg\" alt=\"Open In Colab\"/></a>"
      ]
    },
    {
      "cell_type": "code",
      "metadata": {
        "colab": {
          "base_uri": "https://localhost:8080/"
        },
        "id": "o1wLBzvSa1aT",
        "outputId": "998d0ac6-a67f-4c69-e6f8-c51ede4a93e9"
      },
      "source": [
        "pip install japanize-matplotlib"
      ],
      "execution_count": 48,
      "outputs": [
        {
          "output_type": "stream",
          "text": [
            "Requirement already satisfied: japanize-matplotlib in /usr/local/lib/python3.7/dist-packages (1.1.3)\n",
            "Requirement already satisfied: matplotlib in /usr/local/lib/python3.7/dist-packages (from japanize-matplotlib) (3.2.2)\n",
            "Requirement already satisfied: kiwisolver>=1.0.1 in /usr/local/lib/python3.7/dist-packages (from matplotlib->japanize-matplotlib) (1.3.1)\n",
            "Requirement already satisfied: cycler>=0.10 in /usr/local/lib/python3.7/dist-packages (from matplotlib->japanize-matplotlib) (0.10.0)\n",
            "Requirement already satisfied: numpy>=1.11 in /usr/local/lib/python3.7/dist-packages (from matplotlib->japanize-matplotlib) (1.19.5)\n",
            "Requirement already satisfied: python-dateutil>=2.1 in /usr/local/lib/python3.7/dist-packages (from matplotlib->japanize-matplotlib) (2.8.1)\n",
            "Requirement already satisfied: pyparsing!=2.0.4,!=2.1.2,!=2.1.6,>=2.0.1 in /usr/local/lib/python3.7/dist-packages (from matplotlib->japanize-matplotlib) (2.4.7)\n",
            "Requirement already satisfied: six in /usr/local/lib/python3.7/dist-packages (from cycler>=0.10->matplotlib->japanize-matplotlib) (1.15.0)\n"
          ],
          "name": "stdout"
        }
      ]
    },
    {
      "cell_type": "code",
      "metadata": {
        "colab": {
          "base_uri": "https://localhost:8080/",
          "height": 17
        },
        "id": "NGr7Ho6Ca32_",
        "outputId": "92fb3aea-3be9-4c34-9019-d40d8be02a49"
      },
      "source": [
        "# Load in our libraries\r\n",
        "import pandas as pd\r\n",
        "import numpy as np\r\n",
        "import re\r\n",
        "import sklearn\r\n",
        "import xgboost as xgb\r\n",
        "import seaborn as sns\r\n",
        "import matplotlib.pyplot as plt\r\n",
        "import japanize_matplotlib\r\n",
        "%matplotlib inline\r\n",
        "\r\n",
        "import plotly.offline as py\r\n",
        "py.init_notebook_mode(connected=True)\r\n",
        "import plotly.graph_objs as go\r\n",
        "import plotly.tools as tls\r\n",
        "\r\n",
        "import warnings\r\n",
        "warnings.filterwarnings('ignore')"
      ],
      "execution_count": 49,
      "outputs": [
        {
          "output_type": "display_data",
          "data": {
            "text/html": [
              "        <script type=\"text/javascript\">\n",
              "        window.PlotlyConfig = {MathJaxConfig: 'local'};\n",
              "        if (window.MathJax) {MathJax.Hub.Config({SVG: {font: \"STIX-Web\"}});}\n",
              "        if (typeof require !== 'undefined') {\n",
              "        require.undef(\"plotly\");\n",
              "        requirejs.config({\n",
              "            paths: {\n",
              "                'plotly': ['https://cdn.plot.ly/plotly-latest.min']\n",
              "            }\n",
              "        });\n",
              "        require(['plotly'], function(Plotly) {\n",
              "            window._Plotly = Plotly;\n",
              "        });\n",
              "        }\n",
              "        </script>\n",
              "        "
            ]
          },
          "metadata": {
            "tags": []
          }
        }
      ]
    },
    {
      "cell_type": "code",
      "metadata": {
        "id": "lUFWQXEBbGJN"
      },
      "source": [
        "# Load in the train and test datasets\r\n",
        "train_raw = pd.read_csv('/content/train.csv') #元の学習データ\r\n",
        "test_raw = pd.read_csv('/content/test.csv') #元のテストデータ"
      ],
      "execution_count": 50,
      "outputs": []
    },
    {
      "cell_type": "code",
      "metadata": {
        "colab": {
          "base_uri": "https://localhost:8080/"
        },
        "id": "gNOeOA5UbpwT",
        "outputId": "b8db0d80-9d93-4a36-932e-28ab2a69fe31"
      },
      "source": [
        "print('The size of the df_train data:' + str(train_raw.shape))\r\n",
        "print('The size of the df_test data:' + str(test_raw.shape))\r\n"
      ],
      "execution_count": 51,
      "outputs": [
        {
          "output_type": "stream",
          "text": [
            "The size of the df_train data:(3000, 10)\n",
            "The size of the df_test data:(2000, 9)\n"
          ],
          "name": "stdout"
        }
      ]
    },
    {
      "cell_type": "code",
      "metadata": {
        "id": "EjEtEkDFb43t"
      },
      "source": [
        "df_train = train_raw.copy() #trainデータのコピー\r\n",
        "df_test = test_raw.copy() #testデータのコピー"
      ],
      "execution_count": 53,
      "outputs": []
    },
    {
      "cell_type": "code",
      "metadata": {
        "id": "GsMufc0JcMGt"
      },
      "source": [
        "df_train['train_or_test'] = 'train' #trainデータの識別カラム追加 \r\n",
        "df_test['train_or_test'] = 'test'   #testデータの 識別カラム追加  \r\n",
        "df_test['Outcome'] = 9              #testデータに'Y'を仮置き"
      ],
      "execution_count": 54,
      "outputs": []
    },
    {
      "cell_type": "code",
      "metadata": {
        "id": "reyATDHBchFt"
      },
      "source": [
        "df_all = pd.concat([df_train,df_test],sort=False,axis=0).reset_index(drop=True)"
      ],
      "execution_count": 55,
      "outputs": []
    },
    {
      "cell_type": "code",
      "metadata": {
        "colab": {
          "base_uri": "https://localhost:8080/",
          "height": 195
        },
        "id": "Me45wXvtciFe",
        "outputId": "46676e10-61a5-46fd-d8fb-2ad87402c403"
      },
      "source": [
        "df_all.head()"
      ],
      "execution_count": 56,
      "outputs": [
        {
          "output_type": "execute_result",
          "data": {
            "text/html": [
              "<div>\n",
              "<style scoped>\n",
              "    .dataframe tbody tr th:only-of-type {\n",
              "        vertical-align: middle;\n",
              "    }\n",
              "\n",
              "    .dataframe tbody tr th {\n",
              "        vertical-align: top;\n",
              "    }\n",
              "\n",
              "    .dataframe thead th {\n",
              "        text-align: right;\n",
              "    }\n",
              "</style>\n",
              "<table border=\"1\" class=\"dataframe\">\n",
              "  <thead>\n",
              "    <tr style=\"text-align: right;\">\n",
              "      <th></th>\n",
              "      <th>index</th>\n",
              "      <th>Pregnancies</th>\n",
              "      <th>Glucose</th>\n",
              "      <th>BloodPressure</th>\n",
              "      <th>SkinThickness</th>\n",
              "      <th>Insulin</th>\n",
              "      <th>BMI</th>\n",
              "      <th>DiabetesPedigreeFunction</th>\n",
              "      <th>Age</th>\n",
              "      <th>Outcome</th>\n",
              "      <th>train_or_test</th>\n",
              "    </tr>\n",
              "  </thead>\n",
              "  <tbody>\n",
              "    <tr>\n",
              "      <th>0</th>\n",
              "      <td>200</td>\n",
              "      <td>9</td>\n",
              "      <td>125</td>\n",
              "      <td>74</td>\n",
              "      <td>0</td>\n",
              "      <td>0</td>\n",
              "      <td>28.536910</td>\n",
              "      <td>0.444902</td>\n",
              "      <td>45</td>\n",
              "      <td>1</td>\n",
              "      <td>train</td>\n",
              "    </tr>\n",
              "    <tr>\n",
              "      <th>1</th>\n",
              "      <td>3832</td>\n",
              "      <td>4</td>\n",
              "      <td>109</td>\n",
              "      <td>80</td>\n",
              "      <td>0</td>\n",
              "      <td>0</td>\n",
              "      <td>28.047673</td>\n",
              "      <td>0.238243</td>\n",
              "      <td>22</td>\n",
              "      <td>0</td>\n",
              "      <td>train</td>\n",
              "    </tr>\n",
              "    <tr>\n",
              "      <th>2</th>\n",
              "      <td>4927</td>\n",
              "      <td>4</td>\n",
              "      <td>88</td>\n",
              "      <td>78</td>\n",
              "      <td>39</td>\n",
              "      <td>0</td>\n",
              "      <td>52.371341</td>\n",
              "      <td>0.279471</td>\n",
              "      <td>26</td>\n",
              "      <td>0</td>\n",
              "      <td>train</td>\n",
              "    </tr>\n",
              "    <tr>\n",
              "      <th>3</th>\n",
              "      <td>4088</td>\n",
              "      <td>9</td>\n",
              "      <td>125</td>\n",
              "      <td>74</td>\n",
              "      <td>0</td>\n",
              "      <td>0</td>\n",
              "      <td>40.062688</td>\n",
              "      <td>0.203922</td>\n",
              "      <td>45</td>\n",
              "      <td>0</td>\n",
              "      <td>train</td>\n",
              "    </tr>\n",
              "    <tr>\n",
              "      <th>4</th>\n",
              "      <td>3644</td>\n",
              "      <td>5</td>\n",
              "      <td>107</td>\n",
              "      <td>78</td>\n",
              "      <td>44</td>\n",
              "      <td>284</td>\n",
              "      <td>52.935068</td>\n",
              "      <td>0.284959</td>\n",
              "      <td>45</td>\n",
              "      <td>1</td>\n",
              "      <td>train</td>\n",
              "    </tr>\n",
              "  </tbody>\n",
              "</table>\n",
              "</div>"
            ],
            "text/plain": [
              "   index  Pregnancies  Glucose  ...  Age  Outcome  train_or_test\n",
              "0    200            9      125  ...   45        1          train\n",
              "1   3832            4      109  ...   22        0          train\n",
              "2   4927            4       88  ...   26        0          train\n",
              "3   4088            9      125  ...   45        0          train\n",
              "4   3644            5      107  ...   45        1          train\n",
              "\n",
              "[5 rows x 11 columns]"
            ]
          },
          "metadata": {
            "tags": []
          },
          "execution_count": 56
        }
      ]
    },
    {
      "cell_type": "markdown",
      "metadata": {
        "id": "9uQKZ8Brc0W1"
      },
      "source": [
        "\r\n",
        "*   0\tindex\t\t\t\tBMIint\tインデックスとして使用\r\n",
        "*   1\tPregnancies\t\t\tint\t妊娠した回数\r\n",
        "*   2\tGlucose\t\t\t\tint\t経口ブドウ糖負荷試験における2時間の血漿ブドウ糖濃度\r\n",
        "*   3\tBloodPressure\t\t\tint\t拡張期血圧\r\n",
        "*   4\tSkinThickness\t\t\tint\t皮膚のひだの厚さ\r\n",
        "*   5\tInsulin\t\t\t\tint\t血清インスリン\r\n",
        "*   6\tBMI\t\t\t\tfloat\tBMI\r\n",
        "*   7\tAge\t\t\t\tint\t年齢\r\n",
        "*   8\tDiabetesPedigreeFunction\tfloat\t糖尿病血統\r\n",
        "*   9\tOutcome\t\t\t\tint\t糖尿病であるか（糖尿病の場合1、でない場合0）"
      ]
    },
    {
      "cell_type": "code",
      "metadata": {
        "colab": {
          "base_uri": "https://localhost:8080/",
          "height": 284
        },
        "id": "XUzwIuTBck4N",
        "outputId": "248e8de4-099c-4834-df73-ae2705290c6d"
      },
      "source": [
        "df_all.describe() # df_fullの要約統計量"
      ],
      "execution_count": 57,
      "outputs": [
        {
          "output_type": "execute_result",
          "data": {
            "text/html": [
              "<div>\n",
              "<style scoped>\n",
              "    .dataframe tbody tr th:only-of-type {\n",
              "        vertical-align: middle;\n",
              "    }\n",
              "\n",
              "    .dataframe tbody tr th {\n",
              "        vertical-align: top;\n",
              "    }\n",
              "\n",
              "    .dataframe thead th {\n",
              "        text-align: right;\n",
              "    }\n",
              "</style>\n",
              "<table border=\"1\" class=\"dataframe\">\n",
              "  <thead>\n",
              "    <tr style=\"text-align: right;\">\n",
              "      <th></th>\n",
              "      <th>index</th>\n",
              "      <th>Pregnancies</th>\n",
              "      <th>Glucose</th>\n",
              "      <th>BloodPressure</th>\n",
              "      <th>SkinThickness</th>\n",
              "      <th>Insulin</th>\n",
              "      <th>BMI</th>\n",
              "      <th>DiabetesPedigreeFunction</th>\n",
              "      <th>Age</th>\n",
              "      <th>Outcome</th>\n",
              "    </tr>\n",
              "  </thead>\n",
              "  <tbody>\n",
              "    <tr>\n",
              "      <th>count</th>\n",
              "      <td>5000.000000</td>\n",
              "      <td>5000.000000</td>\n",
              "      <td>5000.000000</td>\n",
              "      <td>5000.000000</td>\n",
              "      <td>5000.000000</td>\n",
              "      <td>5000.000000</td>\n",
              "      <td>5000.000000</td>\n",
              "      <td>5000.000000</td>\n",
              "      <td>5000.000000</td>\n",
              "      <td>5000.000000</td>\n",
              "    </tr>\n",
              "    <tr>\n",
              "      <th>mean</th>\n",
              "      <td>2499.500000</td>\n",
              "      <td>3.567800</td>\n",
              "      <td>113.957600</td>\n",
              "      <td>68.752800</td>\n",
              "      <td>11.180000</td>\n",
              "      <td>11.741600</td>\n",
              "      <td>35.347125</td>\n",
              "      <td>0.400987</td>\n",
              "      <td>28.989400</td>\n",
              "      <td>3.743400</td>\n",
              "    </tr>\n",
              "    <tr>\n",
              "      <th>std</th>\n",
              "      <td>1443.520003</td>\n",
              "      <td>3.040535</td>\n",
              "      <td>21.333505</td>\n",
              "      <td>16.268147</td>\n",
              "      <td>14.232446</td>\n",
              "      <td>47.022061</td>\n",
              "      <td>7.496245</td>\n",
              "      <td>0.271619</td>\n",
              "      <td>8.509722</td>\n",
              "      <td>4.305121</td>\n",
              "    </tr>\n",
              "    <tr>\n",
              "      <th>min</th>\n",
              "      <td>0.000000</td>\n",
              "      <td>0.000000</td>\n",
              "      <td>57.000000</td>\n",
              "      <td>0.000000</td>\n",
              "      <td>0.000000</td>\n",
              "      <td>0.000000</td>\n",
              "      <td>0.000775</td>\n",
              "      <td>0.137377</td>\n",
              "      <td>21.000000</td>\n",
              "      <td>0.000000</td>\n",
              "    </tr>\n",
              "    <tr>\n",
              "      <th>25%</th>\n",
              "      <td>1249.750000</td>\n",
              "      <td>1.000000</td>\n",
              "      <td>100.000000</td>\n",
              "      <td>64.000000</td>\n",
              "      <td>0.000000</td>\n",
              "      <td>0.000000</td>\n",
              "      <td>32.453978</td>\n",
              "      <td>0.232290</td>\n",
              "      <td>22.000000</td>\n",
              "      <td>0.000000</td>\n",
              "    </tr>\n",
              "    <tr>\n",
              "      <th>50%</th>\n",
              "      <td>2499.500000</td>\n",
              "      <td>3.000000</td>\n",
              "      <td>111.000000</td>\n",
              "      <td>70.000000</td>\n",
              "      <td>0.000000</td>\n",
              "      <td>0.000000</td>\n",
              "      <td>33.828671</td>\n",
              "      <td>0.269691</td>\n",
              "      <td>26.000000</td>\n",
              "      <td>1.000000</td>\n",
              "    </tr>\n",
              "    <tr>\n",
              "      <th>75%</th>\n",
              "      <td>3749.250000</td>\n",
              "      <td>6.000000</td>\n",
              "      <td>125.000000</td>\n",
              "      <td>78.000000</td>\n",
              "      <td>24.000000</td>\n",
              "      <td>0.000000</td>\n",
              "      <td>39.627290</td>\n",
              "      <td>0.506604</td>\n",
              "      <td>33.000000</td>\n",
              "      <td>9.000000</td>\n",
              "    </tr>\n",
              "    <tr>\n",
              "      <th>max</th>\n",
              "      <td>4999.000000</td>\n",
              "      <td>13.000000</td>\n",
              "      <td>199.000000</td>\n",
              "      <td>110.000000</td>\n",
              "      <td>52.000000</td>\n",
              "      <td>744.000000</td>\n",
              "      <td>53.400629</td>\n",
              "      <td>2.302072</td>\n",
              "      <td>67.000000</td>\n",
              "      <td>9.000000</td>\n",
              "    </tr>\n",
              "  </tbody>\n",
              "</table>\n",
              "</div>"
            ],
            "text/plain": [
              "             index  Pregnancies  ...          Age      Outcome\n",
              "count  5000.000000  5000.000000  ...  5000.000000  5000.000000\n",
              "mean   2499.500000     3.567800  ...    28.989400     3.743400\n",
              "std    1443.520003     3.040535  ...     8.509722     4.305121\n",
              "min       0.000000     0.000000  ...    21.000000     0.000000\n",
              "25%    1249.750000     1.000000  ...    22.000000     0.000000\n",
              "50%    2499.500000     3.000000  ...    26.000000     1.000000\n",
              "75%    3749.250000     6.000000  ...    33.000000     9.000000\n",
              "max    4999.000000    13.000000  ...    67.000000     9.000000\n",
              "\n",
              "[8 rows x 10 columns]"
            ]
          },
          "metadata": {
            "tags": []
          },
          "execution_count": 57
        }
      ]
    },
    {
      "cell_type": "code",
      "metadata": {
        "colab": {
          "base_uri": "https://localhost:8080/"
        },
        "id": "r4KD05Fijede",
        "outputId": "1e743a3e-df7b-462b-a9d9-b4ef8719e3d7"
      },
      "source": [
        "# 前処理\r\n",
        "df_all.info()"
      ],
      "execution_count": 58,
      "outputs": [
        {
          "output_type": "stream",
          "text": [
            "<class 'pandas.core.frame.DataFrame'>\n",
            "RangeIndex: 5000 entries, 0 to 4999\n",
            "Data columns (total 11 columns):\n",
            " #   Column                    Non-Null Count  Dtype  \n",
            "---  ------                    --------------  -----  \n",
            " 0   index                     5000 non-null   int64  \n",
            " 1   Pregnancies               5000 non-null   int64  \n",
            " 2   Glucose                   5000 non-null   int64  \n",
            " 3   BloodPressure             5000 non-null   int64  \n",
            " 4   SkinThickness             5000 non-null   int64  \n",
            " 5   Insulin                   5000 non-null   int64  \n",
            " 6   BMI                       5000 non-null   float64\n",
            " 7   DiabetesPedigreeFunction  5000 non-null   float64\n",
            " 8   Age                       5000 non-null   int64  \n",
            " 9   Outcome                   5000 non-null   int64  \n",
            " 10  train_or_test             5000 non-null   object \n",
            "dtypes: float64(2), int64(8), object(1)\n",
            "memory usage: 429.8+ KB\n"
          ],
          "name": "stdout"
        }
      ]
    },
    {
      "cell_type": "code",
      "metadata": {
        "colab": {
          "base_uri": "https://localhost:8080/",
          "height": 195
        },
        "id": "iP9LBOtrE8Ef",
        "outputId": "ad1b5de7-f7d2-4ec6-8411-77c146677194"
      },
      "source": [
        "# age education-num(mean = 0 std = 1 で正則化) -> age_sc education-num_sc\r\n",
        "# 平均＝0、分散＝1　にスケーリング\r\n",
        "\r\n",
        "from sklearn.preprocessing import StandardScaler\r\n",
        "\r\n",
        "features = ['Pregnancies', 'Glucose', 'BloodPressure', 'SkinThickness', 'Insulin', 'BMI', 'DiabetesPedigreeFunction', 'Age']\r\n",
        "\r\n",
        "for col in features:\r\n",
        "    scaler = StandardScaler()\r\n",
        "    df_all[col] = scaler.fit_transform(np.array(df_all[col].values).reshape(-1, 1))\r\n",
        "\r\n",
        "df_all.head(5)"
      ],
      "execution_count": 61,
      "outputs": [
        {
          "output_type": "execute_result",
          "data": {
            "text/html": [
              "<div>\n",
              "<style scoped>\n",
              "    .dataframe tbody tr th:only-of-type {\n",
              "        vertical-align: middle;\n",
              "    }\n",
              "\n",
              "    .dataframe tbody tr th {\n",
              "        vertical-align: top;\n",
              "    }\n",
              "\n",
              "    .dataframe thead th {\n",
              "        text-align: right;\n",
              "    }\n",
              "</style>\n",
              "<table border=\"1\" class=\"dataframe\">\n",
              "  <thead>\n",
              "    <tr style=\"text-align: right;\">\n",
              "      <th></th>\n",
              "      <th>index</th>\n",
              "      <th>Pregnancies</th>\n",
              "      <th>Glucose</th>\n",
              "      <th>BloodPressure</th>\n",
              "      <th>SkinThickness</th>\n",
              "      <th>Insulin</th>\n",
              "      <th>BMI</th>\n",
              "      <th>DiabetesPedigreeFunction</th>\n",
              "      <th>Age</th>\n",
              "      <th>Outcome</th>\n",
              "      <th>train_or_test</th>\n",
              "    </tr>\n",
              "  </thead>\n",
              "  <tbody>\n",
              "    <tr>\n",
              "      <th>0</th>\n",
              "      <td>200</td>\n",
              "      <td>1.786772</td>\n",
              "      <td>0.517660</td>\n",
              "      <td>0.322577</td>\n",
              "      <td>-0.785608</td>\n",
              "      <td>-0.249729</td>\n",
              "      <td>-0.908574</td>\n",
              "      <td>0.161694</td>\n",
              "      <td>1.881636</td>\n",
              "      <td>1</td>\n",
              "      <td>train</td>\n",
              "    </tr>\n",
              "    <tr>\n",
              "      <th>1</th>\n",
              "      <td>3832</td>\n",
              "      <td>0.142160</td>\n",
              "      <td>-0.232409</td>\n",
              "      <td>0.691432</td>\n",
              "      <td>-0.785608</td>\n",
              "      <td>-0.249729</td>\n",
              "      <td>-0.973845</td>\n",
              "      <td>-0.599224</td>\n",
              "      <td>-0.821425</td>\n",
              "      <td>0</td>\n",
              "      <td>train</td>\n",
              "    </tr>\n",
              "    <tr>\n",
              "      <th>2</th>\n",
              "      <td>4927</td>\n",
              "      <td>0.142160</td>\n",
              "      <td>-1.216874</td>\n",
              "      <td>0.568481</td>\n",
              "      <td>1.954884</td>\n",
              "      <td>-0.249729</td>\n",
              "      <td>2.271260</td>\n",
              "      <td>-0.447421</td>\n",
              "      <td>-0.351327</td>\n",
              "      <td>0</td>\n",
              "      <td>train</td>\n",
              "    </tr>\n",
              "    <tr>\n",
              "      <th>3</th>\n",
              "      <td>4088</td>\n",
              "      <td>1.786772</td>\n",
              "      <td>0.517660</td>\n",
              "      <td>0.322577</td>\n",
              "      <td>-0.785608</td>\n",
              "      <td>-0.249729</td>\n",
              "      <td>0.629120</td>\n",
              "      <td>-0.725592</td>\n",
              "      <td>1.881636</td>\n",
              "      <td>0</td>\n",
              "      <td>train</td>\n",
              "    </tr>\n",
              "    <tr>\n",
              "      <th>4</th>\n",
              "      <td>3644</td>\n",
              "      <td>0.471083</td>\n",
              "      <td>-0.326167</td>\n",
              "      <td>0.568481</td>\n",
              "      <td>2.306229</td>\n",
              "      <td>5.790593</td>\n",
              "      <td>2.346468</td>\n",
              "      <td>-0.427214</td>\n",
              "      <td>1.881636</td>\n",
              "      <td>1</td>\n",
              "      <td>train</td>\n",
              "    </tr>\n",
              "  </tbody>\n",
              "</table>\n",
              "</div>"
            ],
            "text/plain": [
              "   index  Pregnancies   Glucose  ...       Age  Outcome  train_or_test\n",
              "0    200     1.786772  0.517660  ...  1.881636        1          train\n",
              "1   3832     0.142160 -0.232409  ... -0.821425        0          train\n",
              "2   4927     0.142160 -1.216874  ... -0.351327        0          train\n",
              "3   4088     1.786772  0.517660  ...  1.881636        0          train\n",
              "4   3644     0.471083 -0.326167  ...  1.881636        1          train\n",
              "\n",
              "[5 rows x 11 columns]"
            ]
          },
          "metadata": {
            "tags": []
          },
          "execution_count": 61
        }
      ]
    },
    {
      "cell_type": "markdown",
      "metadata": {
        "id": "SEQ9yHN2hSp7"
      },
      "source": [
        "モデル構築"
      ]
    },
    {
      "cell_type": "markdown",
      "metadata": {
        "id": "j_SiC1YqhVIq"
      },
      "source": [
        ""
      ]
    },
    {
      "cell_type": "code",
      "metadata": {
        "id": "hvj7b-zvhayV"
      },
      "source": [
        "from sklearn.model_selection import train_test_split\r\n",
        "\r\n",
        "# 最初に統合したtrainとtestを分離\r\n",
        "train = df_all.query('train_or_test == \"train\"')\r\n",
        "test = df_all.query('train_or_test == \"test\"')\r\n",
        "\r\n",
        "train_feature = train.drop(columns=['Outcome', 'train_or_test'])\r\n",
        "train_tagert = train['Outcome']\r\n",
        "test_feature = test.drop(columns=['Outcome', 'train_or_test'])\r\n"
      ],
      "execution_count": 62,
      "outputs": []
    },
    {
      "cell_type": "code",
      "metadata": {
        "colab": {
          "base_uri": "https://localhost:8080/",
          "height": 195
        },
        "id": "MyikDKMjkSQA",
        "outputId": "269ab79a-300d-4ea3-ab4f-bf1575951d7c"
      },
      "source": [
        "test_feature.head(5)"
      ],
      "execution_count": 63,
      "outputs": [
        {
          "output_type": "execute_result",
          "data": {
            "text/html": [
              "<div>\n",
              "<style scoped>\n",
              "    .dataframe tbody tr th:only-of-type {\n",
              "        vertical-align: middle;\n",
              "    }\n",
              "\n",
              "    .dataframe tbody tr th {\n",
              "        vertical-align: top;\n",
              "    }\n",
              "\n",
              "    .dataframe thead th {\n",
              "        text-align: right;\n",
              "    }\n",
              "</style>\n",
              "<table border=\"1\" class=\"dataframe\">\n",
              "  <thead>\n",
              "    <tr style=\"text-align: right;\">\n",
              "      <th></th>\n",
              "      <th>index</th>\n",
              "      <th>Pregnancies</th>\n",
              "      <th>Glucose</th>\n",
              "      <th>BloodPressure</th>\n",
              "      <th>SkinThickness</th>\n",
              "      <th>Insulin</th>\n",
              "      <th>BMI</th>\n",
              "      <th>DiabetesPedigreeFunction</th>\n",
              "      <th>Age</th>\n",
              "    </tr>\n",
              "  </thead>\n",
              "  <tbody>\n",
              "    <tr>\n",
              "      <th>3000</th>\n",
              "      <td>398</td>\n",
              "      <td>-1.173529</td>\n",
              "      <td>0.564539</td>\n",
              "      <td>0.691432</td>\n",
              "      <td>-0.785608</td>\n",
              "      <td>-0.249729</td>\n",
              "      <td>0.633599</td>\n",
              "      <td>1.552069</td>\n",
              "      <td>-0.938949</td>\n",
              "    </tr>\n",
              "    <tr>\n",
              "      <th>3001</th>\n",
              "      <td>3833</td>\n",
              "      <td>-0.186762</td>\n",
              "      <td>-1.216874</td>\n",
              "      <td>-0.538087</td>\n",
              "      <td>0.619773</td>\n",
              "      <td>-0.249729</td>\n",
              "      <td>0.595486</td>\n",
              "      <td>-0.724088</td>\n",
              "      <td>-0.821425</td>\n",
              "    </tr>\n",
              "    <tr>\n",
              "      <th>3002</th>\n",
              "      <td>4836</td>\n",
              "      <td>-0.186762</td>\n",
              "      <td>0.001988</td>\n",
              "      <td>0.445529</td>\n",
              "      <td>-0.785608</td>\n",
              "      <td>-0.249729</td>\n",
              "      <td>-0.286621</td>\n",
              "      <td>0.441925</td>\n",
              "      <td>-0.938949</td>\n",
              "    </tr>\n",
              "    <tr>\n",
              "      <th>3003</th>\n",
              "      <td>4572</td>\n",
              "      <td>-0.844607</td>\n",
              "      <td>1.502126</td>\n",
              "      <td>0.322577</td>\n",
              "      <td>-0.785608</td>\n",
              "      <td>-0.249729</td>\n",
              "      <td>-1.128260</td>\n",
              "      <td>0.382788</td>\n",
              "      <td>1.058965</td>\n",
              "    </tr>\n",
              "    <tr>\n",
              "      <th>3004</th>\n",
              "      <td>636</td>\n",
              "      <td>-0.844607</td>\n",
              "      <td>0.423901</td>\n",
              "      <td>1.306192</td>\n",
              "      <td>1.041387</td>\n",
              "      <td>2.727895</td>\n",
              "      <td>0.656790</td>\n",
              "      <td>1.471051</td>\n",
              "      <td>-0.116279</td>\n",
              "    </tr>\n",
              "  </tbody>\n",
              "</table>\n",
              "</div>"
            ],
            "text/plain": [
              "      index  Pregnancies  ...  DiabetesPedigreeFunction       Age\n",
              "3000    398    -1.173529  ...                  1.552069 -0.938949\n",
              "3001   3833    -0.186762  ...                 -0.724088 -0.821425\n",
              "3002   4836    -0.186762  ...                  0.441925 -0.938949\n",
              "3003   4572    -0.844607  ...                  0.382788  1.058965\n",
              "3004    636    -0.844607  ...                  1.471051 -0.116279\n",
              "\n",
              "[5 rows x 9 columns]"
            ]
          },
          "metadata": {
            "tags": []
          },
          "execution_count": 63
        }
      ]
    },
    {
      "cell_type": "code",
      "metadata": {
        "id": "aNb9XoOth2UR"
      },
      "source": [
        "# 学習データとテストデータに分ける\r\n",
        "X_train, X_test, y_train, y_test = train_test_split(\r\n",
        "    train_feature, train_tagert, test_size=0.2, random_state=0, stratify=train_tagert )"
      ],
      "execution_count": 64,
      "outputs": []
    },
    {
      "cell_type": "code",
      "metadata": {
        "colab": {
          "base_uri": "https://localhost:8080/"
        },
        "id": "-I8HbYp8i-XM",
        "outputId": "3094b912-2055-4b38-856d-632a0d397856"
      },
      "source": [
        "print('train_feature = ', train_feature.shape)\r\n",
        "print('test_feature = ', test_feature.shape)\r\n",
        "print('train_tagert = ', train_tagert.shape)\r\n",
        "print('X_train = ', X_train.shape)\r\n",
        "print('X_test = ', X_test.shape)\r\n",
        "print('y_train = ', y_train.shape)\r\n",
        "print('y_test = ', y_test.shape)"
      ],
      "execution_count": 65,
      "outputs": [
        {
          "output_type": "stream",
          "text": [
            "train_feature =  (3000, 9)\n",
            "test_feature =  (2000, 9)\n",
            "train_tagert =  (3000,)\n",
            "X_train =  (2400, 9)\n",
            "X_test =  (600, 9)\n",
            "y_train =  (2400,)\n",
            "y_test =  (600,)\n"
          ],
          "name": "stdout"
        }
      ]
    },
    {
      "cell_type": "markdown",
      "metadata": {
        "id": "g-Id3lDT8WIj"
      },
      "source": [
        "## xgboost(単体 パラメーターはDefult)"
      ]
    },
    {
      "cell_type": "code",
      "metadata": {
        "id": "bfLq-3YFAjyw"
      },
      "source": [
        "from google.colab import drive\n",
        "drive.mount('/content/drive')"
      ],
      "execution_count": null,
      "outputs": []
    },
    {
      "cell_type": "markdown",
      "metadata": {
        "id": "SDz6LtG-8TyQ"
      },
      "source": [
        ""
      ]
    },
    {
      "cell_type": "code",
      "metadata": {
        "colab": {
          "base_uri": "https://localhost:8080/"
        },
        "id": "k_SYE1Jmitmv",
        "outputId": "b06cf757-2c77-4297-ffd8-6c94176226f1"
      },
      "source": [
        "import xgboost as xgb\r\n",
        "from sklearn.metrics import accuracy_score\r\n",
        "\r\n",
        "\r\n",
        "# パラメータ設定\r\n",
        "params = {\r\n",
        "    \"objective\": \"binary:logistic\",\r\n",
        "    \"evel_metric\": \"auc\",\r\n",
        "    \"eta\": 0.3,\r\n",
        "    \"max_depth\": 6,                    \r\n",
        "    \"subsample\": 1,                  \r\n",
        "    \"colsample_bytree\":1 ,\r\n",
        "    \"silent\" : 1\r\n",
        "}\r\n",
        "\r\n",
        "# 訓練・テストデータの設定\r\n",
        "#\r\n",
        "dtrain = xgb.DMatrix(X_train, label=y_train)\r\n",
        "dtest = xgb.DMatrix(X_test, label=y_test)\r\n",
        "\r\n",
        "# モデル作成\r\n",
        "bst = xgb.train(params=params,\r\n",
        "                  dtrain=dtrain,\r\n",
        "                  num_boost_round=100,\r\n",
        "                  early_stopping_rounds=10,\r\n",
        "                  evals=[(dtest, 'test')]\r\n",
        "                  ) \r\n",
        "\r\n",
        "# 検証用データが各クラスに分類される確率を計算する\r\n",
        "preds = bst.predict(dtest, ntree_limit=bst.best_ntree_limit)\r\n",
        "# しきい値 0.5 で 0, 1 に丸める\r\n",
        "pred = np.where(preds > 0.5, 1, 0)\r\n",
        "# 精度 (Accuracy) を検証する\r\n",
        "acc = accuracy_score(y_test, pred)\r\n",
        "print('Accuracy:', acc)"
      ],
      "execution_count": 66,
      "outputs": [
        {
          "output_type": "stream",
          "text": [
            "[0]\ttest-error:0.208333\n",
            "Will train until test-error hasn't improved in 10 rounds.\n",
            "[1]\ttest-error:0.21\n",
            "[2]\ttest-error:0.203333\n",
            "[3]\ttest-error:0.216667\n",
            "[4]\ttest-error:0.2\n",
            "[5]\ttest-error:0.203333\n",
            "[6]\ttest-error:0.196667\n",
            "[7]\ttest-error:0.195\n",
            "[8]\ttest-error:0.191667\n",
            "[9]\ttest-error:0.195\n",
            "[10]\ttest-error:0.198333\n",
            "[11]\ttest-error:0.19\n",
            "[12]\ttest-error:0.19\n",
            "[13]\ttest-error:0.193333\n",
            "[14]\ttest-error:0.193333\n",
            "[15]\ttest-error:0.201667\n",
            "[16]\ttest-error:0.2\n",
            "[17]\ttest-error:0.2\n",
            "[18]\ttest-error:0.2\n",
            "[19]\ttest-error:0.198333\n",
            "[20]\ttest-error:0.201667\n",
            "[21]\ttest-error:0.195\n",
            "Stopping. Best iteration:\n",
            "[11]\ttest-error:0.19\n",
            "\n",
            "Accuracy: 0.81\n"
          ],
          "name": "stdout"
        }
      ]
    },
    {
      "cell_type": "markdown",
      "metadata": {
        "id": "_KUxcjbi8ak1"
      },
      "source": [
        ""
      ]
    },
    {
      "cell_type": "markdown",
      "metadata": {
        "id": "O6yeoaKd8qaW"
      },
      "source": [
        "xgboost # 5分割交差検証"
      ]
    },
    {
      "cell_type": "code",
      "metadata": {
        "colab": {
          "base_uri": "https://localhost:8080/"
        },
        "id": "YyX3Ud5U8vPx",
        "outputId": "d6987e99-bb43-4cfe-85e6-ae4d4cc3bcc3"
      },
      "source": [
        "# train_feature, train_tagert を学習データとテストデータに分ける\r\n",
        "X_train, X_test, y_train, y_test = train_test_split(\r\n",
        "    train_feature, train_tagert, test_size=0.2, random_state=0, stratify=train_tagert )\r\n",
        "\r\n",
        "# データを格納する\r\n",
        "# テスト用\r\n",
        "xgb_test = xgb.DMatrix(X_test, label=y_test)\r\n",
        "\r\n",
        "# 5-fold CVモデルの学習\r\n",
        "from sklearn.model_selection import KFold\r\n",
        "from sklearn.metrics import log_loss\r\n",
        "from sklearn.metrics import accuracy_score\r\n",
        "\r\n",
        "n_splits = 5\r\n",
        "kf = KFold(n_splits=n_splits, shuffle=True, random_state=0)\r\n",
        "\r\n",
        "# 5つのモデルを保存するリストの初期化\r\n",
        "models = []\r\n",
        "#accuracy、loglossを保存するNumPy配列の初期化\r\n",
        "accuracies = np.array([])\r\n",
        "loglosses = np.array([])\r\n",
        "\r\n",
        "for fold_, (train_index, eval_index) in enumerate(kf.split(X_train, y_train)):    \r\n",
        "    print(f'fold{fold_ + 1} start')\r\n",
        "    X_train_cv = X_train.iloc[train_index]\r\n",
        "    y_train_cv = y_train.iloc[train_index]\r\n",
        "    X_eval_cv = X_train.iloc[eval_index]\r\n",
        "    y_eval_cv = y_train.iloc[eval_index]\r\n",
        "    \r\n",
        "    # 学習用\r\n",
        "    xgb_train = xgb.DMatrix(X_train_cv, label=y_train_cv)\r\n",
        "\r\n",
        "    # 検証用\r\n",
        "    xgb_eval = xgb.DMatrix(X_eval_cv, label=y_eval_cv)\r\n",
        "   \r\n",
        "    \r\n",
        "    # パラメータを設定(defult)\r\n",
        "    xgb_params = {\r\n",
        "        \"objective\": \"binary:logistic\",\r\n",
        "        \"evel_metric\": \"auc\",\r\n",
        "        \"eta\": 0.3,\r\n",
        "        \"max_depth\": 6,                    \r\n",
        "        \"subsample\": 1,                  \r\n",
        "        \"colsample_bytree\":1 ,\r\n",
        "        \"silent\" : 1\r\n",
        "    }  \r\n",
        "    \r\n",
        "    # 学習\r\n",
        "    evals = [(xgb_train, 'train'), (xgb_eval, 'eval')] # 学習に用いる検証用データ\r\n",
        "    evaluation_results = {}                            # 学習の経過を保存する箱\r\n",
        "    bst = xgb.train(xgb_params,                        # 上記で設定したパラメーター\r\n",
        "                    xgb_train,                         # 使用するデータセット\r\n",
        "                    num_boost_round=500,               # 学習の回数\r\n",
        "                    early_stopping_rounds=10,          # アーリーストッピング\r\n",
        "                    evals=evals,                       # 上記で設定した検証用データ\r\n",
        "                    evals_result=evaluation_results,   # 上記で設定した箱\r\n",
        "                    verbose_eval=0                     # 学習の経過の表示(非表示)\r\n",
        "                    ) \r\n",
        "    \r\n",
        "    # テストデータで予測する\r\n",
        "    y_pred = bst.predict(xgb_test, ntree_limit=bst.best_ntree_limit)\r\n",
        "        \r\n",
        "    # しきい値 0.5 で 0, 1 に丸める\r\n",
        "    pred = np.where(y_pred > 0.5, 1, 0)\r\n",
        "    \r\n",
        "    # 精度 (Accuracy) を検証する\r\n",
        "    accuracy = accuracy_score(y_test, pred)\r\n",
        "\r\n",
        "    # Logloss を計算する\r\n",
        "    logloss = log_loss(y_test, y_pred)\r\n",
        "    \r\n",
        "    print('accuracy:', accuracy, 'logloss: ', logloss)\r\n",
        "    \r\n",
        "    # 学習が終わったモデルをリストに入れておく\r\n",
        "    models.append(bst) \r\n",
        "    # 学習結果をNumPy配列に入れておく\r\n",
        "    accuracies = np.append(accuracies, accuracy)\r\n",
        "    loglosses = np.append(loglosses, logloss)\r\n",
        "    \r\n",
        "# 正解ラベルの確率とLogloss（平均値）\r\n",
        "print('accuracy_ave: ', np.mean(accuracies), 'logloss_ave: ', np.mean(loglosses)) "
      ],
      "execution_count": 67,
      "outputs": [
        {
          "output_type": "stream",
          "text": [
            "fold1 start\n",
            "accuracy: 0.795 logloss:  0.44968849395091337\n",
            "fold2 start\n",
            "accuracy: 0.7916666666666666 logloss:  0.4390248459290403\n",
            "fold3 start\n",
            "accuracy: 0.8 logloss:  0.4425261436961591\n",
            "fold4 start\n",
            "accuracy: 0.785 logloss:  0.48833803938216686\n",
            "fold5 start\n",
            "accuracy: 0.79 logloss:  0.4570431795498977\n",
            "accuracy_ave:  0.7923333333333333 logloss_ave:  0.45532414050163544\n"
          ],
          "name": "stdout"
        }
      ]
    },
    {
      "cell_type": "code",
      "metadata": {
        "colab": {
          "base_uri": "https://localhost:8080/"
        },
        "id": "CZRm5QYw9duA",
        "outputId": "908cb909-5b0e-4d76-d4a7-f9f3060f89a9"
      },
      "source": [
        "#グリッドサーチでよいパラメータを調べる　例として'max_depth'　'eta'\r\n",
        "\r\n",
        "gridsearch_params = [\r\n",
        "    (max_depth, eta)\r\n",
        "    for max_depth in [3, 4, 5, 6, 7, 8, 9, 10]\r\n",
        "    for eta in [0.05, 0.04, 0.03, 0.02, 0.01, 0.1, 0.2, 0.3, 0.4, 0.5]\r\n",
        "]\r\n",
        "gridsearch_params"
      ],
      "execution_count": 68,
      "outputs": [
        {
          "output_type": "execute_result",
          "data": {
            "text/plain": [
              "[(3, 0.05),\n",
              " (3, 0.04),\n",
              " (3, 0.03),\n",
              " (3, 0.02),\n",
              " (3, 0.01),\n",
              " (3, 0.1),\n",
              " (3, 0.2),\n",
              " (3, 0.3),\n",
              " (3, 0.4),\n",
              " (3, 0.5),\n",
              " (4, 0.05),\n",
              " (4, 0.04),\n",
              " (4, 0.03),\n",
              " (4, 0.02),\n",
              " (4, 0.01),\n",
              " (4, 0.1),\n",
              " (4, 0.2),\n",
              " (4, 0.3),\n",
              " (4, 0.4),\n",
              " (4, 0.5),\n",
              " (5, 0.05),\n",
              " (5, 0.04),\n",
              " (5, 0.03),\n",
              " (5, 0.02),\n",
              " (5, 0.01),\n",
              " (5, 0.1),\n",
              " (5, 0.2),\n",
              " (5, 0.3),\n",
              " (5, 0.4),\n",
              " (5, 0.5),\n",
              " (6, 0.05),\n",
              " (6, 0.04),\n",
              " (6, 0.03),\n",
              " (6, 0.02),\n",
              " (6, 0.01),\n",
              " (6, 0.1),\n",
              " (6, 0.2),\n",
              " (6, 0.3),\n",
              " (6, 0.4),\n",
              " (6, 0.5),\n",
              " (7, 0.05),\n",
              " (7, 0.04),\n",
              " (7, 0.03),\n",
              " (7, 0.02),\n",
              " (7, 0.01),\n",
              " (7, 0.1),\n",
              " (7, 0.2),\n",
              " (7, 0.3),\n",
              " (7, 0.4),\n",
              " (7, 0.5),\n",
              " (8, 0.05),\n",
              " (8, 0.04),\n",
              " (8, 0.03),\n",
              " (8, 0.02),\n",
              " (8, 0.01),\n",
              " (8, 0.1),\n",
              " (8, 0.2),\n",
              " (8, 0.3),\n",
              " (8, 0.4),\n",
              " (8, 0.5),\n",
              " (9, 0.05),\n",
              " (9, 0.04),\n",
              " (9, 0.03),\n",
              " (9, 0.02),\n",
              " (9, 0.01),\n",
              " (9, 0.1),\n",
              " (9, 0.2),\n",
              " (9, 0.3),\n",
              " (9, 0.4),\n",
              " (9, 0.5),\n",
              " (10, 0.05),\n",
              " (10, 0.04),\n",
              " (10, 0.03),\n",
              " (10, 0.02),\n",
              " (10, 0.01),\n",
              " (10, 0.1),\n",
              " (10, 0.2),\n",
              " (10, 0.3),\n",
              " (10, 0.4),\n",
              " (10, 0.5)]"
            ]
          },
          "metadata": {
            "tags": []
          },
          "execution_count": 68
        }
      ]
    },
    {
      "cell_type": "markdown",
      "metadata": {
        "id": "mw5_ZxsYAQ1W"
      },
      "source": [
        ""
      ]
    },
    {
      "cell_type": "markdown",
      "metadata": {
        "id": "pZMvSd3V_uRT"
      },
      "source": [
        "グリッドサーチでパラメーター探索"
      ]
    },
    {
      "cell_type": "code",
      "metadata": {
        "colab": {
          "base_uri": "https://localhost:8080/"
        },
        "id": "s1CBMvk59lt5",
        "outputId": "720e59e9-7571-49d8-96d4-174ada898da6"
      },
      "source": [
        "min_logless = float('Inf')\r\n",
        "min_score = float('Inf')\r\n",
        "\r\n",
        "best_param = []\r\n",
        "min_train_error_mean = float('Inf')\r\n",
        "min_test_error_mean = float('Inf')\r\n",
        "\r\n",
        "\r\n",
        "for max_depth, eta in gridsearch_params:\r\n",
        "    print('max_depth={}, eta={}'.format(max_depth, eta))\r\n",
        "    \r\n",
        "    params['max_depth'] = max_depth\r\n",
        "    params['eta'] = eta\r\n",
        "    \r\n",
        "    cv_results = xgb.cv(\r\n",
        "        params,\r\n",
        "        dtrain,\r\n",
        "        num_boost_round=1000, \r\n",
        "        seed=0,\r\n",
        "        nfold=5,\r\n",
        " #       metrics={'rmse'},\r\n",
        "        early_stopping_rounds=5\r\n",
        "    )\r\n",
        "    \r\n",
        "    train_error_mean = cv_results['train-error-mean'].min()\r\n",
        "    test_error_mean = cv_results['test-error-mean'].min()\r\n",
        "    boost_rounds = cv_results['train-error-mean'].argmin()\r\n",
        "    print('train-error-mean {} train-error-mean {} for {} rounds'.format(train_error_mean, test_error_mean, boost_rounds))\r\n",
        "    if train_error_mean < min_train_error_mean:\r\n",
        "        min_train_error_mean = train_error_mean\r\n",
        "        min_test_error_mean = test_error_mean\r\n",
        "        best_param = (max_depth, eta)\r\n",
        "    \r\n",
        "print('Best params {}, train_error_mean {},  test_error_mean {}'.format(best_param, train_error_mean, test_error_mean))"
      ],
      "execution_count": 69,
      "outputs": [
        {
          "output_type": "stream",
          "text": [
            "max_depth=3, eta=0.05\n",
            "train-error-mean 0.193854 train-error-mean 0.21416659999999998 for 25 rounds\n",
            "max_depth=3, eta=0.04\n",
            "train-error-mean 0.2160418 train-error-mean 0.22625 for 0 rounds\n",
            "max_depth=3, eta=0.03\n",
            "train-error-mean 0.213125 train-error-mean 0.2245832 for 5 rounds\n",
            "max_depth=3, eta=0.02\n",
            "train-error-mean 0.2160418 train-error-mean 0.22625 for 0 rounds\n",
            "max_depth=3, eta=0.01\n",
            "train-error-mean 0.2160418 train-error-mean 0.22625 for 0 rounds\n",
            "max_depth=3, eta=0.1\n",
            "train-error-mean 0.18583319999999998 train-error-mean 0.20541679999999998 for 28 rounds\n",
            "max_depth=3, eta=0.2\n",
            "train-error-mean 0.1760416 train-error-mean 0.2029166 for 19 rounds\n",
            "max_depth=3, eta=0.3\n",
            "train-error-mean 0.16020859999999998 train-error-mean 0.20249999999999999 for 19 rounds\n",
            "max_depth=3, eta=0.4\n",
            "train-error-mean 0.15677080000000002 train-error-mean 0.205 for 16 rounds\n",
            "max_depth=3, eta=0.5\n",
            "train-error-mean 0.1435416 train-error-mean 0.2062498 for 18 rounds\n",
            "max_depth=4, eta=0.05\n",
            "train-error-mean 0.1679166 train-error-mean 0.20749999999999996 for 37 rounds\n",
            "max_depth=4, eta=0.04\n",
            "train-error-mean 0.17666679999999998 train-error-mean 0.20875 for 28 rounds\n",
            "max_depth=4, eta=0.03\n",
            "train-error-mean 0.20187460000000002 train-error-mean 0.22999999999999998 for 1 rounds\n",
            "max_depth=4, eta=0.02\n",
            "train-error-mean 0.201979 train-error-mean 0.23083320000000002 for 2 rounds\n",
            "max_depth=4, eta=0.01\n",
            "train-error-mean 0.20208320000000005 train-error-mean 0.23000020000000002 for 1 rounds\n",
            "max_depth=4, eta=0.1\n",
            "train-error-mean 0.1523958 train-error-mean 0.20208339999999997 for 32 rounds\n",
            "max_depth=4, eta=0.2\n",
            "train-error-mean 0.1396874 train-error-mean 0.2004166 for 22 rounds\n",
            "max_depth=4, eta=0.3\n",
            "train-error-mean 0.15260400000000002 train-error-mean 0.204167 for 11 rounds\n",
            "max_depth=4, eta=0.4\n",
            "train-error-mean 0.14125 train-error-mean 0.2033334 for 11 rounds\n",
            "max_depth=4, eta=0.5\n",
            "train-error-mean 0.1553126 train-error-mean 0.205 for 7 rounds\n",
            "max_depth=5, eta=0.05\n",
            "train-error-mean 0.15447899999999998 train-error-mean 0.20625 for 25 rounds\n",
            "max_depth=5, eta=0.04\n",
            "train-error-mean 0.14437519999999998 train-error-mean 0.20166659999999997 for 45 rounds\n",
            "max_depth=5, eta=0.03\n",
            "train-error-mean 0.16468739999999998 train-error-mean 0.2129166 for 23 rounds\n",
            "max_depth=5, eta=0.02\n",
            "train-error-mean 0.180104 train-error-mean 0.22583340000000002 for 11 rounds\n",
            "max_depth=5, eta=0.01\n",
            "train-error-mean 0.18083339999999998 train-error-mean 0.22541659999999997 for 19 rounds\n",
            "max_depth=5, eta=0.1\n",
            "train-error-mean 0.13177100000000003 train-error-mean 0.20124979999999998 for 28 rounds\n",
            "max_depth=5, eta=0.2\n",
            "train-error-mean 0.11750020000000001 train-error-mean 0.19583340000000002 for 19 rounds\n",
            "max_depth=5, eta=0.3\n",
            "train-error-mean 0.12281260000000001 train-error-mean 0.1991666 for 11 rounds\n",
            "max_depth=5, eta=0.4\n",
            "train-error-mean 0.1265624 train-error-mean 0.2058334 for 8 rounds\n",
            "max_depth=5, eta=0.5\n",
            "train-error-mean 0.0964586 train-error-mean 0.2029166 for 11 rounds\n",
            "max_depth=6, eta=0.05\n",
            "train-error-mean 0.1686458 train-error-mean 0.2279166 for 1 rounds\n",
            "max_depth=6, eta=0.04\n",
            "train-error-mean 0.16875 train-error-mean 0.2279166 for 1 rounds\n",
            "max_depth=6, eta=0.03\n",
            "train-error-mean 0.1685416 train-error-mean 0.2279166 for 1 rounds\n",
            "max_depth=6, eta=0.02\n",
            "train-error-mean 0.1685416 train-error-mean 0.2274998 for 1 rounds\n",
            "max_depth=6, eta=0.01\n",
            "train-error-mean 0.16822900000000002 train-error-mean 0.22875 for 2 rounds\n",
            "max_depth=6, eta=0.1\n",
            "train-error-mean 0.129375 train-error-mean 0.20625 for 14 rounds\n",
            "max_depth=6, eta=0.2\n",
            "train-error-mean 0.09479180000000001 train-error-mean 0.20958319999999997 for 17 rounds\n",
            "max_depth=6, eta=0.3\n",
            "train-error-mean 0.0954164 train-error-mean 0.2033334 for 11 rounds\n",
            "max_depth=6, eta=0.4\n",
            "train-error-mean 0.0933332 train-error-mean 0.20833340000000003 for 9 rounds\n",
            "max_depth=6, eta=0.5\n",
            "train-error-mean 0.07208320000000001 train-error-mean 0.2129168 for 11 rounds\n",
            "max_depth=7, eta=0.05\n",
            "train-error-mean 0.1259374 train-error-mean 0.22125000000000003 for 17 rounds\n",
            "max_depth=7, eta=0.04\n",
            "train-error-mean 0.1326042 train-error-mean 0.22625 for 14 rounds\n",
            "max_depth=7, eta=0.03\n",
            "train-error-mean 0.11000000000000001 train-error-mean 0.21833340000000004 for 44 rounds\n",
            "max_depth=7, eta=0.02\n",
            "train-error-mean 0.1476042 train-error-mean 0.23416680000000004 for 1 rounds\n",
            "max_depth=7, eta=0.01\n",
            "train-error-mean 0.14895840000000002 train-error-mean 0.23458319999999996 for 2 rounds\n",
            "max_depth=7, eta=0.1\n",
            "train-error-mean 0.0936456 train-error-mean 0.205 for 22 rounds\n",
            "max_depth=7, eta=0.2\n",
            "train-error-mean 0.041249999999999995 train-error-mean 0.2041664 for 27 rounds\n",
            "max_depth=7, eta=0.3\n",
            "train-error-mean 0.0917706 train-error-mean 0.2083332 for 8 rounds\n",
            "max_depth=7, eta=0.4\n",
            "train-error-mean 0.08947920000000001 train-error-mean 0.21166680000000002 for 6 rounds\n",
            "max_depth=7, eta=0.5\n",
            "train-error-mean 0.019479199999999995 train-error-mean 0.205 for 17 rounds\n",
            "max_depth=8, eta=0.05\n",
            "train-error-mean 0.12229160000000001 train-error-mean 0.22916660000000003 for 8 rounds\n",
            "max_depth=8, eta=0.04\n",
            "train-error-mean 0.12333340000000001 train-error-mean 0.23083320000000002 for 10 rounds\n",
            "max_depth=8, eta=0.03\n",
            "train-error-mean 0.1323958 train-error-mean 0.23291660000000003 for 3 rounds\n",
            "max_depth=8, eta=0.02\n",
            "train-error-mean 0.1252084 train-error-mean 0.2279166 for 18 rounds\n",
            "max_depth=8, eta=0.01\n",
            "train-error-mean 0.1342708 train-error-mean 0.23375019999999996 for 3 rounds\n",
            "max_depth=8, eta=0.1\n",
            "train-error-mean 0.0751042 train-error-mean 0.2154166 for 18 rounds\n",
            "max_depth=8, eta=0.2\n",
            "train-error-mean 0.032812600000000004 train-error-mean 0.20916679999999999 for 23 rounds\n",
            "max_depth=8, eta=0.3\n",
            "train-error-mean 0.014583400000000002 train-error-mean 0.2054166 for 22 rounds\n",
            "max_depth=8, eta=0.4\n",
            "train-error-mean 0.08458360000000001 train-error-mean 0.2129168 for 4 rounds\n",
            "max_depth=8, eta=0.5\n",
            "train-error-mean 0.05354180000000001 train-error-mean 0.2079164 for 6 rounds\n",
            "max_depth=9, eta=0.05\n",
            "train-error-mean 0.11729180000000002 train-error-mean 0.22791679999999997 for 3 rounds\n",
            "max_depth=9, eta=0.04\n",
            "train-error-mean 0.08239559999999999 train-error-mean 0.22000000000000003 for 23 rounds\n",
            "max_depth=9, eta=0.03\n",
            "train-error-mean 0.11729179999999999 train-error-mean 0.23083320000000002 for 6 rounds\n",
            "max_depth=9, eta=0.02\n",
            "train-error-mean 0.1166668 train-error-mean 0.2291668 for 11 rounds\n",
            "max_depth=9, eta=0.01\n",
            "train-error-mean 0.1216664 train-error-mean 0.22999999999999998 for 3 rounds\n",
            "max_depth=9, eta=0.1\n",
            "train-error-mean 0.05999979999999999 train-error-mean 0.2120832 for 19 rounds\n",
            "max_depth=9, eta=0.2\n",
            "train-error-mean 0.0152084 train-error-mean 0.2108334 for 25 rounds\n",
            "max_depth=9, eta=0.3\n",
            "train-error-mean 0.017916400000000002 train-error-mean 0.21125 for 15 rounds\n",
            "max_depth=9, eta=0.4\n",
            "train-error-mean 0.0183334 train-error-mean 0.21374999999999997 for 12 rounds\n",
            "max_depth=9, eta=0.5\n",
            "train-error-mean 0.027500000000000004 train-error-mean 0.2220834 for 8 rounds\n",
            "max_depth=10, eta=0.05\n",
            "train-error-mean 0.103125 train-error-mean 0.2274998 for 4 rounds\n",
            "max_depth=10, eta=0.04\n",
            "train-error-mean 0.10145839999999999 train-error-mean 0.22833319999999996 for 7 rounds\n",
            "max_depth=10, eta=0.03\n",
            "train-error-mean 0.1079166 train-error-mean 0.22999999999999998 for 3 rounds\n",
            "max_depth=10, eta=0.02\n",
            "train-error-mean 0.10177080000000001 train-error-mean 0.2274998 for 16 rounds\n",
            "max_depth=10, eta=0.01\n",
            "train-error-mean 0.1059374 train-error-mean 0.22916660000000003 for 23 rounds\n",
            "max_depth=10, eta=0.1\n",
            "train-error-mean 0.029166599999999997 train-error-mean 0.2091666 for 28 rounds\n",
            "max_depth=10, eta=0.2\n",
            "train-error-mean 0.026250000000000002 train-error-mean 0.21166659999999998 for 15 rounds\n",
            "max_depth=10, eta=0.3\n",
            "train-error-mean 0.0115624 train-error-mean 0.20625 for 15 rounds\n",
            "max_depth=10, eta=0.4\n",
            "train-error-mean 0.015 train-error-mean 0.21458339999999998 for 10 rounds\n",
            "max_depth=10, eta=0.5\n",
            "train-error-mean 0.0020832 train-error-mean 0.2154166 for 15 rounds\n",
            "Best params (10, 0.5), train_error_mean 0.0020832,  test_error_mean 0.2154166\n"
          ],
          "name": "stdout"
        }
      ]
    },
    {
      "cell_type": "markdown",
      "metadata": {
        "id": "gKYTTaf7-OwA"
      },
      "source": [
        "xgboost # 5分割交差検証 ベストパラメーター　max_depth=10, eta=0.4"
      ]
    },
    {
      "cell_type": "code",
      "metadata": {
        "colab": {
          "base_uri": "https://localhost:8080/"
        },
        "id": "N0qBUeEP9pPo",
        "outputId": "5f7f433d-ffa3-49af-ae24-e1a7efbb0f88"
      },
      "source": [
        "# train_feature, train_tagert を学習データとテストデータに分ける\r\n",
        "X_train, X_test, y_train, y_test = train_test_split(\r\n",
        "    train_feature, train_tagert, test_size=0.2, random_state=0, stratify=train_tagert )\r\n",
        "\r\n",
        "# データを格納する\r\n",
        "# テスト用\r\n",
        "xgb_test = xgb.DMatrix(X_test, label=y_test)\r\n",
        "\r\n",
        "# 5-fold CVモデルの学習\r\n",
        "from sklearn.model_selection import KFold\r\n",
        "from sklearn.metrics import log_loss\r\n",
        "from sklearn.metrics import accuracy_score\r\n",
        "\r\n",
        "n_splits = 5\r\n",
        "kf = KFold(n_splits=n_splits, shuffle=True, random_state=0)\r\n",
        "\r\n",
        "# 5つのモデルを保存するリストの初期化\r\n",
        "models = []\r\n",
        "#accuracy、loglossを保存するNumPy配列の初期化\r\n",
        "accuracies = np.array([])\r\n",
        "loglosses = np.array([])\r\n",
        "\r\n",
        "for fold_, (train_index, eval_index) in enumerate(kf.split(X_train, y_train)):    \r\n",
        "    print(f'fold{fold_ + 1} start')\r\n",
        "    X_train_cv = X_train.iloc[train_index]\r\n",
        "    y_train_cv = y_train.iloc[train_index]\r\n",
        "    X_eval_cv = X_train.iloc[eval_index]\r\n",
        "    y_eval_cv = y_train.iloc[eval_index]\r\n",
        "    \r\n",
        "    # 学習用\r\n",
        "    xgb_train = xgb.DMatrix(X_train_cv, label=y_train_cv)\r\n",
        "\r\n",
        "    # 検証用\r\n",
        "    xgb_eval = xgb.DMatrix(X_eval_cv, label=y_eval_cv)\r\n",
        "   \r\n",
        "    \r\n",
        "    # パラメータを設定(defult)\r\n",
        "    xgb_params = {\r\n",
        "        \"objective\": \"binary:logistic\",\r\n",
        "        \"evel_metric\": \"auc\",\r\n",
        "        \"eta\":0.5,\r\n",
        "        \"max_depth\": 10,                    \r\n",
        "        \"subsample\": 1,                  \r\n",
        "        \"colsample_bytree\":1 ,\r\n",
        "        \"silent\" : 1\r\n",
        "    }  \r\n",
        "    \r\n",
        "    # 学習\r\n",
        "    evals = [(xgb_train, 'train'), (xgb_eval, 'eval')] # 学習に用いる検証用データ\r\n",
        "    evaluation_results = {}                            # 学習の経過を保存する箱\r\n",
        "    bst = xgb.train(xgb_params,                        # 上記で設定したパラメーター\r\n",
        "                    xgb_train,                         # 使用するデータセット\r\n",
        "                    num_boost_round=500,               # 学習の回数\r\n",
        "                    early_stopping_rounds=10,          # アーリーストッピング\r\n",
        "                    evals=evals,                       # 上記で設定した検証用データ\r\n",
        "                    evals_result=evaluation_results,   # 上記で設定した箱\r\n",
        "                    verbose_eval=0                     # 学習の経過の表示(非表示)\r\n",
        "                    ) \r\n",
        "    \r\n",
        "    # テストデータで予測する\r\n",
        "    y_pred = bst.predict(xgb_test, ntree_limit=bst.best_ntree_limit)\r\n",
        "        \r\n",
        "    # しきい値 0.5 で 0, 1 に丸める\r\n",
        "    pred = np.where(y_pred > 0.5, 1, 0)\r\n",
        "    \r\n",
        "    # 精度 (Accuracy) を検証する\r\n",
        "    accuracy = accuracy_score(y_test, pred)\r\n",
        "\r\n",
        "    # Logloss を計算する\r\n",
        "    logloss = log_loss(y_test, y_pred)\r\n",
        "    \r\n",
        "    print('accuracy:', accuracy, 'logloss: ', logloss)\r\n",
        "    \r\n",
        "    # 学習が終わったモデルをリストに入れておく\r\n",
        "    models.append(bst) \r\n",
        "    # 学習結果をNumPy配列に入れておく\r\n",
        "    accuracies = np.append(accuracies, accuracy)\r\n",
        "    loglosses = np.append(loglosses, logloss)\r\n",
        "    \r\n",
        "# 正解ラベルの確率とLogloss（平均値）\r\n",
        "print('accuracy_ave: ', np.mean(accuracies), 'logloss_ave: ', np.mean(loglosses)) "
      ],
      "execution_count": 70,
      "outputs": [
        {
          "output_type": "stream",
          "text": [
            "fold1 start\n",
            "accuracy: 0.79 logloss:  0.4706345662754029\n",
            "fold2 start\n",
            "accuracy: 0.7966666666666666 logloss:  0.4873944215104469\n",
            "fold3 start\n",
            "accuracy: 0.795 logloss:  0.49681223545145864\n",
            "fold4 start\n",
            "accuracy: 0.7716666666666666 logloss:  0.4881284616018335\n",
            "fold5 start\n",
            "accuracy: 0.7516666666666667 logloss:  0.5045263815050324\n",
            "accuracy_ave:  0.781 logloss_ave:  0.48949921326883483\n"
          ],
          "name": "stdout"
        }
      ]
    }
  ]
}